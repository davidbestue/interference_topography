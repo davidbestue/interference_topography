{
 "cells": [
  {
   "cell_type": "code",
   "execution_count": 3,
   "metadata": {},
   "outputs": [
    {
     "name": "stdout",
     "output_type": "stream",
     "text": [
      "['#1f77b4', '#ff7f0e', '#2ca02c', '#d62728', '#9467bd', '#8c564b', '#e377c2', '#7f7f7f', '#bcbd22', '#17becf']\n"
     ]
    },
    {
     "data": {
      "image/png": "[encoded data removed]",
      "text/plain": [
       "<Figure size 720x72 with 1 Axes>"
      ]
     },
     "metadata": {
      "needs_background": "light"
     },
     "output_type": "display_data"
    }
   ],
   "source": [
    "#from model_phantom_noise import *\n",
    "from model_christos import *\n",
    "from linares_plot import * \n",
    "import itertools\n",
    "\n",
    "%matplotlib inline\n",
    "%config InlineBackend.figure_format = 'png' ## 'svg'\n",
    "\n",
    "%load_ext autoreload\n",
    "%autoreload 2\n",
    "\n",
    "#Palettes\n",
    "print(sns.color_palette(\"tab10\").as_hex())\n",
    "sns.palplot(sns.color_palette(\"tab10\"))\n",
    "plt.show()\n",
    "c_on = 'darkorange' #'#ff7f0e'\n",
    "c_off = 'dodgerblue' #'#1f77b4'\n",
    "\n",
    "onoff_pal=[c_on, c_off]\n",
    "offon_pal = [c_off, c_on]\n",
    "\n",
    "pal_cyan = sns.color_palette(\"RdBu_r\", n_colors=200)[40:] #RdBu_r\n",
    "ltc= 'gold'  #'springgreen'\n",
    "lw_t=3\n",
    "N=512\n",
    "stimon = 50\n",
    "stimoff = 50 + floor(100/2) ;\n",
    "\n",
    "\n",
    "nsteps=int(floor(750));\n",
    "p_targ2 = int((N * 90)/360)\n",
    "p_dist = int((N * (90+57) )/360)\n",
    "p_dist2 = int((N * (90+170) )/360)\n",
    "sns.set_context(\"poster\", font_scale=1.1)\n",
    "sns.set_style(\"ticks\")"
   ]
  },
  {
   "cell_type": "code",
   "execution_count": 8,
   "metadata": {},
   "outputs": [],
   "source": [
    "def hemap(an, order):\n",
    "    dims=np.shape(an[4])\n",
    "    stimon = 100/2\n",
    "    stimoff = 100/2 + floor(100/2) ;\n",
    "    stim2on = 1000/2\n",
    "    stim2off = 1000/2 + floor(100/2) ;  \n",
    "    \n",
    "    RE_sorted=flipud(an[4])\n",
    "    ax = sns.heatmap(RE_sorted, cmap=pal_cyan, vmin=0, vmax=18,  cbar=True, \n",
    "                cbar_kws={\"shrink\": .82, 'ticks' : [0, 6, 12, 18], 'label': 'rate (Hz)'})\n",
    "    ax.figure.axes[-1].yaxis.label.set_size(15)\n",
    "    plt.gca().set_ylabel('')\n",
    "    plt.gca().set_xlabel('')\n",
    "    plt.gca().set_title('')\n",
    "    \n",
    "    if order==1:\n",
    "        plt.gca().plot([stimon, stimon+400], [p_targ2, p_targ2], ls='--', color =ltc, linewidth=3) \n",
    "    if order==2:\n",
    "        plt.gca().plot([500, 900], [p_dist, p_dist], ls='--', color =ltc, linewidth=lw_t) \n",
    "    #   \n",
    "    plt.gca().set_xticks([])\n",
    "    plt.gca().set_xticklabels([])\n",
    "    #\n",
    "    plt.gca().set_yticks([0, N/4, N/2,  3*N/4, N ])\n",
    "    #plt.gca().set_yticklabels(['0','','$^\\pi$', '', '2$^\\pi$'])\n",
    "    plt.gca().set_yticklabels(['0','','180', '', '360'])\n",
    "    \n",
    "    plt.gca().set_xlabel('', fontsize=20);\n",
    "    plt.gca().set_ylabel('neuron preferred ($^\\circ$)', fontsize=20);\n",
    "    plt.gca().set_ylim(570, -45)\n",
    "    \n",
    "    ##line stims       \n",
    "    plt.plot([0, stimon], [-15, -15], 'k-', linewidth=3)\n",
    "    #\n",
    "    plt.plot([stimon, stimon], [-15, -40], 'k-', linewidth=3)\n",
    "    plt.plot([stimon, stimoff], [-40, -40], 'k-', linewidth=3)\n",
    "    plt.plot([stimoff, stimoff], [-15, -40], 'k-', linewidth=3)\n",
    "    #\n",
    "    plt.plot([stimoff, stim2on], [-15, -15], 'k-', linewidth=3)\n",
    "    #\n",
    "    plt.plot([stim2on, stim2on], [-15, -40], 'k-', linewidth=3)\n",
    "    plt.plot([stim2on, stim2off], [-40, -40], 'k-', linewidth=3)\n",
    "    plt.plot([stim2off, stim2off], [-15, -40], 'k-', linewidth=3)\n",
    "    #\n",
    "    plt.plot([stim2off, dims[1]], [-15, -15], 'k-', linewidth=3)\n",
    "    #time\n",
    "    plt.plot([dims[1]-500, dims[1]], [540, 540], 'k-', linewidth=3)\n",
    "    plt.text(dims[1]-300, 600, '1s', fontsize=20)\n",
    "    # stimulation\n",
    "\n",
    "\n"
   ]
  },
  {
   "cell_type": "code",
   "execution_count": null,
   "metadata": {},
   "outputs": [],
   "source": [
    "fee=1\n",
    "fei=1\n",
    "fie=1\n",
    "fii=1\n",
    "\n",
    "%config InlineBackend.figure_format = 'png' ## 'svg'\n",
    "\n",
    "off_close_1= model(totalTime=3000, targ_onset_1=100, targ_onset_2=1000, angle_target_i=90, presentation_period=100,\n",
    "           angle_separation=57, tauE=20, tauI=10,  n_stims=2, I0E=-3.5, I0I=0.5, \n",
    "           GEE=0.068*fee,\n",
    "           GII= 0.13*fii,\n",
    "           GEI=0.13*fei,\n",
    "           GIE=0.042*fie, \n",
    "           sigE=7., sigI=5., k_noise=0.6,           \n",
    "           kappa_E=45, \n",
    "           kappa_I=0.3, \n",
    "           kappa_stim=40., N=512, stim_strengthE=9.4, stim_strengthI=0.,\n",
    "           plot_connectivity=False, plot_rate=False, plot_hm=False , plot_fit=False, \n",
    "           phantom_st=2., phantom_onset=50000, phnatom_duration=100)\n",
    "\n",
    "hemap(off_close_1,  order=1)\n"
   ]
  },
  {
   "cell_type": "code",
   "execution_count": null,
   "metadata": {},
   "outputs": [],
   "source": []
  }
 ],
 "metadata": {
  "kernelspec": {
   "display_name": "Python 3",
   "language": "python",
   "name": "python3"
  },
  "language_info": {
   "codemirror_mode": {
    "name": "ipython",
    "version": 3
   },
   "file_extension": ".py",
   "mimetype": "text/x-python",
   "name": "python",
   "nbconvert_exporter": "python",
   "pygments_lexer": "ipython3",
   "version": "3.5.6"
  }
 },
 "nbformat": 4,
 "nbformat_minor": 2
}
