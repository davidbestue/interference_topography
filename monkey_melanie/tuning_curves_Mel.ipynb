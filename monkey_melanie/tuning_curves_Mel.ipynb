{
 "cells": [
  {
   "cell_type": "code",
   "execution_count": 1,
   "metadata": {},
   "outputs": [],
   "source": [
    "## Load data"
   ]
  },
  {
   "cell_type": "code",
   "execution_count": 50,
   "metadata": {},
   "outputs": [],
   "source": [
    "import pickle\n",
    "import pandas \n",
    "import numpy as np\n",
    "import matplotlib.pyplot as plt\n",
    "import seaborn as sns\n",
    "\n",
    "# pickle.load( open( \"C:\\\\Users\\\\David\\\\Desktop\\\\IDIBAPS\\\\Melanie_data\\\\df_corrected_Sa2.pickle\", \"rb\" ) )\n",
    "\n",
    "with open(\"C:\\\\Users\\\\David\\\\Desktop\\\\IDIBAPS\\\\Melanie_data\\\\df_corrected_Sa2.pickle\", 'rb') as handle:\n",
    "    df_dat = pickle.load(handle)"
   ]
  },
  {
   "cell_type": "code",
   "execution_count": 51,
   "metadata": {},
   "outputs": [
    {
     "data": {
      "text/html": [
       "<div>\n",
       "<style scoped>\n",
       "    .dataframe tbody tr th:only-of-type {\n",
       "        vertical-align: middle;\n",
       "    }\n",
       "\n",
       "    .dataframe tbody tr th {\n",
       "        vertical-align: top;\n",
       "    }\n",
       "\n",
       "    .dataframe thead th {\n",
       "        text-align: right;\n",
       "    }\n",
       "</style>\n",
       "<table border=\"1\" class=\"dataframe\">\n",
       "  <thead>\n",
       "    <tr style=\"text-align: right;\">\n",
       "      <th></th>\n",
       "      <th>trial_id</th>\n",
       "      <th>sp_train</th>\n",
       "      <th>outcome</th>\n",
       "      <th>targ_xy</th>\n",
       "      <th>targ_angle</th>\n",
       "      <th>saccade_xy</th>\n",
       "      <th>saccade_angle</th>\n",
       "      <th>monkey</th>\n",
       "      <th>session</th>\n",
       "      <th>start</th>\n",
       "      <th>fix</th>\n",
       "      <th>targ_on</th>\n",
       "      <th>targ_off</th>\n",
       "      <th>go_cue</th>\n",
       "      <th>saccade</th>\n",
       "      <th>reward</th>\n",
       "      <th>trial_end</th>\n",
       "    </tr>\n",
       "  </thead>\n",
       "  <tbody>\n",
       "    <tr>\n",
       "      <th>0</th>\n",
       "      <td>1</td>\n",
       "      <td>(19, 0)\\t1.0\\n  (45, 0)\\t1.0\\n  (39, 1)\\t1.0...</td>\n",
       "      <td>CORRECT</td>\n",
       "      <td>[-157.05952052691873, 65.05618350206528]</td>\n",
       "      <td>67.5</td>\n",
       "      <td>[-152.25114256858143, 67.7215398151819]</td>\n",
       "      <td>66.020429</td>\n",
       "      <td>Sa</td>\n",
       "      <td>2</td>\n",
       "      <td>1.0</td>\n",
       "      <td>259.0</td>\n",
       "      <td>472.0</td>\n",
       "      <td>892.0</td>\n",
       "      <td>3311.0</td>\n",
       "      <td>3491.0</td>\n",
       "      <td>3601.0</td>\n",
       "      <td>4380</td>\n",
       "    </tr>\n",
       "    <tr>\n",
       "      <th>1</th>\n",
       "      <td>2</td>\n",
       "      <td>(43, 2)\\t1.0\\n  (73, 2)\\t1.0\\n  (121, 2)\\t1....</td>\n",
       "      <td>CORRECT</td>\n",
       "      <td>[125.64761642153499, 52.04494680165221]</td>\n",
       "      <td>292.5</td>\n",
       "      <td>[125.82535896669323, 31.59868168533787]</td>\n",
       "      <td>284.097231</td>\n",
       "      <td>Sa</td>\n",
       "      <td>2</td>\n",
       "      <td>1.0</td>\n",
       "      <td>166.0</td>\n",
       "      <td>381.0</td>\n",
       "      <td>801.0</td>\n",
       "      <td>3221.0</td>\n",
       "      <td>3463.0</td>\n",
       "      <td>3572.0</td>\n",
       "      <td>4350</td>\n",
       "    </tr>\n",
       "    <tr>\n",
       "      <th>2</th>\n",
       "      <td>3</td>\n",
       "      <td>(7, 0)\\t1.0\\n  (26, 0)\\t1.0\\n  (4, 1)\\t1.0\\n...</td>\n",
       "      <td>CORRECT</td>\n",
       "      <td>[-104.08989360330435, -251.29523284307]</td>\n",
       "      <td>157.5</td>\n",
       "      <td>[-84.57275017420879, -272.3301424858054]</td>\n",
       "      <td>162.747699</td>\n",
       "      <td>Sa</td>\n",
       "      <td>2</td>\n",
       "      <td>1.0</td>\n",
       "      <td>74.0</td>\n",
       "      <td>291.0</td>\n",
       "      <td>711.0</td>\n",
       "      <td>2731.0</td>\n",
       "      <td>2916.0</td>\n",
       "      <td>3030.0</td>\n",
       "      <td>3809</td>\n",
       "    </tr>\n",
       "    <tr>\n",
       "      <th>3</th>\n",
       "      <td>4</td>\n",
       "      <td>(2, 0)\\t1.0\\n  (30, 0)\\t1.0\\n  (69, 1)\\t1.0\\...</td>\n",
       "      <td>CORRECT</td>\n",
       "      <td>[-125.647616421535, -52.044946801652195]</td>\n",
       "      <td>112.5</td>\n",
       "      <td>[-153.00128219844342, -106.29518449569761]</td>\n",
       "      <td>124.789020</td>\n",
       "      <td>Sa</td>\n",
       "      <td>2</td>\n",
       "      <td>1.0</td>\n",
       "      <td>74.0</td>\n",
       "      <td>292.0</td>\n",
       "      <td>711.0</td>\n",
       "      <td>2931.0</td>\n",
       "      <td>3107.0</td>\n",
       "      <td>3212.0</td>\n",
       "      <td>3990</td>\n",
       "    </tr>\n",
       "    <tr>\n",
       "      <th>4</th>\n",
       "      <td>5</td>\n",
       "      <td>(41, 0)\\t1.0\\n  (45, 0)\\t1.0\\n  (39, 3)\\t1.0...</td>\n",
       "      <td>CORRECT</td>\n",
       "      <td>[-91.0786569028913, -219.88332873768627]</td>\n",
       "      <td>157.5</td>\n",
       "      <td>[-80.74894038718212, -216.7699324910585]</td>\n",
       "      <td>159.569141</td>\n",
       "      <td>Sa</td>\n",
       "      <td>2</td>\n",
       "      <td>1.0</td>\n",
       "      <td>74.0</td>\n",
       "      <td>291.0</td>\n",
       "      <td>711.0</td>\n",
       "      <td>2931.0</td>\n",
       "      <td>3109.0</td>\n",
       "      <td>3225.0</td>\n",
       "      <td>3999</td>\n",
       "    </tr>\n",
       "  </tbody>\n",
       "</table>\n",
       "</div>"
      ],
      "text/plain": [
       "   trial_id                                           sp_train  outcome  \\\n",
       "0         1    (19, 0)\\t1.0\\n  (45, 0)\\t1.0\\n  (39, 1)\\t1.0...  CORRECT   \n",
       "1         2    (43, 2)\\t1.0\\n  (73, 2)\\t1.0\\n  (121, 2)\\t1....  CORRECT   \n",
       "2         3    (7, 0)\\t1.0\\n  (26, 0)\\t1.0\\n  (4, 1)\\t1.0\\n...  CORRECT   \n",
       "3         4    (2, 0)\\t1.0\\n  (30, 0)\\t1.0\\n  (69, 1)\\t1.0\\...  CORRECT   \n",
       "4         5    (41, 0)\\t1.0\\n  (45, 0)\\t1.0\\n  (39, 3)\\t1.0...  CORRECT   \n",
       "\n",
       "                                    targ_xy  targ_angle  \\\n",
       "0  [-157.05952052691873, 65.05618350206528]        67.5   \n",
       "1   [125.64761642153499, 52.04494680165221]       292.5   \n",
       "2   [-104.08989360330435, -251.29523284307]       157.5   \n",
       "3  [-125.647616421535, -52.044946801652195]       112.5   \n",
       "4  [-91.0786569028913, -219.88332873768627]       157.5   \n",
       "\n",
       "                                   saccade_xy  saccade_angle monkey  session  \\\n",
       "0     [-152.25114256858143, 67.7215398151819]      66.020429     Sa        2   \n",
       "1     [125.82535896669323, 31.59868168533787]     284.097231     Sa        2   \n",
       "2    [-84.57275017420879, -272.3301424858054]     162.747699     Sa        2   \n",
       "3  [-153.00128219844342, -106.29518449569761]     124.789020     Sa        2   \n",
       "4    [-80.74894038718212, -216.7699324910585]     159.569141     Sa        2   \n",
       "\n",
       "   start    fix  targ_on  targ_off  go_cue  saccade  reward  trial_end  \n",
       "0    1.0  259.0    472.0     892.0  3311.0   3491.0  3601.0       4380  \n",
       "1    1.0  166.0    381.0     801.0  3221.0   3463.0  3572.0       4350  \n",
       "2    1.0   74.0    291.0     711.0  2731.0   2916.0  3030.0       3809  \n",
       "3    1.0   74.0    292.0     711.0  2931.0   3107.0  3212.0       3990  \n",
       "4    1.0   74.0    291.0     711.0  2931.0   3109.0  3225.0       3999  "
      ]
     },
     "execution_count": 51,
     "metadata": {},
     "output_type": "execute_result"
    }
   ],
   "source": [
    "df_dat.head()"
   ]
  },
  {
   "cell_type": "code",
   "execution_count": 52,
   "metadata": {},
   "outputs": [
    {
     "data": {
      "text/plain": [
       "(2407, 17)"
      ]
     },
     "execution_count": 52,
     "metadata": {},
     "output_type": "execute_result"
    }
   ],
   "source": [
    "np.shape(df_dat)"
   ]
  },
  {
   "cell_type": "code",
   "execution_count": 53,
   "metadata": {},
   "outputs": [
    {
     "data": {
      "text/plain": [
       "trial_id                                                         1\n",
       "sp_train           (19, 0)\\t1.0\\n  (45, 0)\\t1.0\\n  (39, 1)\\t1.0...\n",
       "outcome                                                    CORRECT\n",
       "targ_xy                   [-157.05952052691873, 65.05618350206528]\n",
       "targ_angle                                                    67.5\n",
       "saccade_xy                 [-152.25114256858143, 67.7215398151819]\n",
       "saccade_angle                                              66.0204\n",
       "monkey                                                          Sa\n",
       "session                                                          2\n",
       "start                                                            1\n",
       "fix                                                            259\n",
       "targ_on                                                        472\n",
       "targ_off                                                       892\n",
       "go_cue                                                        3311\n",
       "saccade                                                       3491\n",
       "reward                                                        3601\n",
       "trial_end                                                     4380\n",
       "Name: 0, dtype: object"
      ]
     },
     "execution_count": 53,
     "metadata": {},
     "output_type": "execute_result"
    }
   ],
   "source": [
    "df_dat.iloc[0]"
   ]
  },
  {
   "cell_type": "code",
   "execution_count": 54,
   "metadata": {},
   "outputs": [
    {
     "data": {
      "text/plain": [
       "array([[0., 0., 0., ..., 0., 0., 0.],\n",
       "       [0., 0., 0., ..., 0., 0., 0.],\n",
       "       [0., 0., 0., ..., 0., 0., 0.],\n",
       "       ...,\n",
       "       [0., 0., 0., ..., 0., 0., 0.],\n",
       "       [0., 0., 0., ..., 0., 0., 0.],\n",
       "       [0., 0., 0., ..., 0., 0., 0.]])"
      ]
     },
     "execution_count": 54,
     "metadata": {},
     "output_type": "execute_result"
    }
   ],
   "source": [
    "np.array(df_dat['sp_train'].iloc[0].todense())"
   ]
  },
  {
   "cell_type": "code",
   "execution_count": 55,
   "metadata": {},
   "outputs": [
    {
     "data": {
      "text/plain": [
       "(139, 4380)"
      ]
     },
     "execution_count": 55,
     "metadata": {},
     "output_type": "execute_result"
    }
   ],
   "source": [
    "np.shape(df_dat['sp_train'].iloc[0].todense())"
   ]
  },
  {
   "cell_type": "code",
   "execution_count": 57,
   "metadata": {},
   "outputs": [],
   "source": [
    "sns.set_context(\"poster\", font_scale=1.1) ## poster format\n",
    "sns.set_style(\"ticks\")"
   ]
  },
  {
   "cell_type": "code",
   "execution_count": 90,
   "metadata": {},
   "outputs": [
    {
     "data": {
      "image/png": "[encoded data removed]",
      "text/plain": [
       "<Figure size 432x288 with 1 Axes>"
      ]
     },
     "metadata": {},
     "output_type": "display_data"
    }
   ],
   "source": [
    "neuron_number=1\n",
    "trial_number=15\n",
    "\n",
    "n_x = np.array(df_dat['sp_train'].iloc[trial_number].todense())[neuron_number,:]\n",
    "plt.plot(np.arange(0, len(n_x),1), n_x, color='grey', linewidth=0.5)\n",
    "plt.gca().spines['right'].set_visible(False)  # aesthetics                                                                              # remove right spines\n",
    "plt.gca().spines['top'].set_visible(False)                                                                                  # remove top spines\n",
    "plt.gca().get_xaxis().tick_bottom()                                                                                         \n",
    "plt.gca().get_yaxis().tick_left()\n",
    "plt.gca().tick_params(direction='out') #direction\n",
    "plt.ylabel('spike')\n",
    "plt.xlabel('time (ms)')\n",
    "plt.ylim(0,1)\n",
    "plt.yticks([0,1]);\n",
    "plt.xticks(fontsize=20)\n",
    "plt.yticks(fontsize=20)\n",
    "\n",
    "\n",
    "\n",
    "plt.title('neuron:' + str(neuron_number) + ', trial:' +str(trial_number), fontsize=20, pad=20);\n",
    "plt.tight_layout()\n"
   ]
  },
  {
   "cell_type": "code",
   "execution_count": 41,
   "metadata": {},
   "outputs": [
    {
     "data": {
      "text/plain": [
       "array([   0,    1,    2, ..., 4377, 4378, 4379])"
      ]
     },
     "execution_count": 41,
     "metadata": {},
     "output_type": "execute_result"
    }
   ],
   "source": [
    "np.arange(0, 4380,1)"
   ]
  },
  {
   "cell_type": "code",
   "execution_count": 44,
   "metadata": {},
   "outputs": [
    {
     "data": {
      "text/plain": [
       "matrix([[0., 0., 0., ..., 0., 0., 0.]])"
      ]
     },
     "execution_count": 44,
     "metadata": {},
     "output_type": "execute_result"
    }
   ],
   "source": [
    "n1"
   ]
  },
  {
   "cell_type": "code",
   "execution_count": 3,
   "metadata": {},
   "outputs": [],
   "source": [
    "## Count spikes in a certain windows \n",
    "#   https://neuronaldynamics.epfl.ch/online/Ch7.S2.html#:~:text=The%20firing%20rate%20in%20trial,k%3DnspkT.&text=The%20length%20T%20of%20the,occur%20within%20the%20time%20window."
   ]
  },
  {
   "cell_type": "markdown",
   "metadata": {},
   "source": [
    "![](fr_IMG.PNG)"
   ]
  },
  {
   "cell_type": "code",
   "execution_count": null,
   "metadata": {},
   "outputs": [],
   "source": []
  },
  {
   "cell_type": "code",
   "execution_count": null,
   "metadata": {},
   "outputs": [],
   "source": [
    "## Select the neurons with angular tuning\n",
    "\n",
    "df = pd.DataFrame({\"Y\": fr_cue, \"P1\": M[:,0], \"P2\": M[:,1], \"P3\": M[:,2], \"P4\": M[:,3], \"P5\": M[:,4], \"P6\": M[:,5], \"P7\": M[:,6], \"P8\": M[:,7]})\n",
    "#result = smf.ols(formula=\"Y ~ 0+ P1+ P2 + P3 + P4 + P5 + P6 + P7 + P8 \", data=df).fit()\n",
    "result = smf.ols(formula=\"Y ~ P2 + P3 + P4 + P5 + P6 + P7 + P8 \", data=df).fit()\n",
    "p_vals=[result.pvalues[j] for j in range(1,cues+1)] #I do not take the intercept\n",
    "\n"
   ]
  },
  {
   "cell_type": "code",
   "execution_count": null,
   "metadata": {},
   "outputs": [],
   "source": []
  },
  {
   "cell_type": "code",
   "execution_count": null,
   "metadata": {},
   "outputs": [],
   "source": [
    "## From those neurons with angular tuning, make the tuning curve in each radius (get the cos_fits)\n",
    "\n",
    "### circular variance: \n",
    "### first you calculate the population vector\n",
    "### then you appply the formula\n",
    "\n",
    "def get_pref(cue_activity):\n",
    "    #with this formula I take one vector from 0 for each position, where the module is the strength of the signal and the imaginary part the angle\n",
    "    #after doing that I sum all of them to know the prefered one, this one is the angle, the v would be the module\n",
    "    v=sum([exp(1j*c/8.0*2*pi)*(float(cue_activity[c])/sum(cue_activity)) for c in range(8)])\n",
    "    angle=convert_2pi(phase(v))\n",
    "    return (angle,abs(v))\n",
    "\n",
    "\n",
    "s=amap(lambda x: sqrt(-2*np.log(x)),cos_fits) #std circular (this is the reason for the )\n",
    "## np.save('std_circ_rad.npy', s) ### add later, but worked fine!\n",
    "Y=concatenate(s)\n",
    "\n",
    "\n",
    "\n",
    "\n",
    "\n"
   ]
  },
  {
   "cell_type": "code",
   "execution_count": null,
   "metadata": {},
   "outputs": [],
   "source": []
  },
  {
   "cell_type": "code",
   "execution_count": null,
   "metadata": {},
   "outputs": [],
   "source": [
    "### make the plots\n",
    "\n",
    "clean_idx = ~isnan(Y)\n",
    "X=concatenate([ones(len(x))*i for i,x in enumerate(cos_fits)])\n",
    "df = pd.DataFrame({\"std_circular\": Y, \"eccentricity\": X})\n",
    "model = smf.ols(formula=\"std_circular ~  eccentricity\", data=df).fit()\n",
    "print(model.summary())\n",
    "\n",
    "subplot(2,1,1)\n",
    "errorbar(range(3),amap(nanmean,cos_fits),amap(nanstd,cos_fits)/sqrt(amap(len,cos_fits)),color=\"black\")\n",
    "xticks([0,1,2], ['ring1', 'ring2', 'ring3'])\n",
    "title(\"Tuning strength\")\n",
    "\n",
    "subplot(2,1,2)\n",
    "errorbar(range(3),amap(nanmean,s),amap(nanstd,s)/sqrt(amap(len,s)),color=\"red\")\n",
    "xticks([0,1,2], ['ring1', 'ring2', 'ring3'])\n",
    "\n",
    "xlabel(\"rings\")\n",
    "title(\"Circular standard deviation\")\n",
    "tight_layout()\n",
    "sns.despine()"
   ]
  }
 ],
 "metadata": {
  "kernelspec": {
   "display_name": "Python 3",
   "language": "python",
   "name": "python3"
  },
  "language_info": {
   "codemirror_mode": {
    "name": "ipython",
    "version": 3
   },
   "file_extension": ".py",
   "mimetype": "text/x-python",
   "name": "python",
   "nbconvert_exporter": "python",
   "pygments_lexer": "ipython3",
   "version": "3.5.6"
  }
 },
 "nbformat": 4,
 "nbformat_minor": 2
}
