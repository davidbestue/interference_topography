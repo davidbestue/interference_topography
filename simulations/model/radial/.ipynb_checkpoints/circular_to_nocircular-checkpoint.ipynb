{
 "cells": [
  {
   "cell_type": "code",
   "execution_count": null,
   "metadata": {},
   "outputs": [],
   "source": []
  },
  {
   "cell_type": "code",
   "execution_count": null,
   "metadata": {},
   "outputs": [],
   "source": [
    "##### C:\\Users\\David\\Dropbox\\IDIBAPS\\my code\\Project 1 (master thesis)\\Modeling radial dimension\\matrixes radial model simulations\\model_2_0\\model_radial_dimension_2.m"
   ]
  },
  {
   "cell_type": "code",
   "execution_count": null,
   "metadata": {},
   "outputs": [],
   "source": [
    "v_E=zeros(1,N);\n",
    "v_I=zeros(1,N);\n",
    "WE=zeros(N,N);\n",
    "WI=zeros(N,N);\n",
    "\n",
    "for j=1:N %para cada distancia hay una sigma diferente\n",
    "    for i=1:N %dentro de cada distancia se calcula la conectividad con el resto teniendo en cuenta una j concreta (una sigma especifica)\n",
    "        v_E(i)=1/(sqrt(2*pi)*sigmas_E(j))*exp(-((n_inicial(j)-n_inicial(i))^2)/(2*sigmas_E(j))^2);\n",
    "        v_I(i)=1/(sqrt(2*pi)*sigmas_I(j))*exp(-((n_inicial(j)-n_inicial(i))^2)/(2*sigmas_I(j))^2);\n",
    "    end\n",
    "  WE(:,j)=v_E;\n",
    "  WI(:,j)=v_I;\n",
    "end"
   ]
  }
 ],
 "metadata": {
  "kernelspec": {
   "display_name": "Python 3",
   "language": "python",
   "name": "python3"
  },
  "language_info": {
   "codemirror_mode": {
    "name": "ipython",
    "version": 3
   },
   "file_extension": ".py",
   "mimetype": "text/x-python",
   "name": "python",
   "nbconvert_exporter": "python",
   "pygments_lexer": "ipython3",
   "version": "3.5.6"
  }
 },
 "nbformat": 4,
 "nbformat_minor": 2
}
