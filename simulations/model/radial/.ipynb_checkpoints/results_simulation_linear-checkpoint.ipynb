{
 "cells": [
  {
   "cell_type": "code",
   "execution_count": 1,
   "metadata": {},
   "outputs": [],
   "source": [
    "from linares_plot import *\n",
    "import statsmodels.formula.api as smf"
   ]
  },
  {
   "cell_type": "code",
   "execution_count": null,
   "metadata": {},
   "outputs": [],
   "source": [
    "df= pd.read_excel('C:\\\\Users\\\\David\\\\Desktop\\\\IDIBAPS\\\\simulations_radial\\\\results_simul_radial_linear_all.xlsx')\n",
    "\n",
    "pal_ = sns.color_palette(\"Greens\", n_colors=4)\n",
    "\n",
    "sns.lineplot(x=\"position\", y=\"interference\", hue='delay_time', hue_order=[0, 1000, 2000, 3000],\n",
    "             ci=95, palette=pal_, data=df)\n",
    "\n",
    "plt.gca().spines['right'].set_visible(False)  # aesthetics                                                                              \n",
    "plt.gca().spines['top'].set_visible(False)                                                                                  \n",
    "plt.gca().get_xaxis().tick_bottom()                                                                                         \n",
    "plt.gca().get_yaxis().tick_left()\n",
    "plt.gca().tick_params(direction='in') #direction\n",
    "plt.ylabel(r'attraction to fixation ($^\\circ$)', fontsize=25);\n",
    "plt.xlabel(r'eccentricity ($^\\circ$)', fontsize=25);\n",
    "plt.ylim(-2,12);\n",
    "plt.yticks([0,4,8,12]);\n",
    "plt.plot([60, 300], [0,0], 'k--', linewidth=1)\n",
    "\n",
    "l =plt.legend(loc=2, frameon=False, prop={'size': 15}, ncol=1)\n",
    "\n",
    "hue_order=['', 'delay=0s', 'delay=1s', 'delay=2s', 'delay=3s']\n",
    "palette=['black', pal_[0], pal_[1], pal_[2], pal_[3]]\n",
    "\n",
    "for i_h, h_idx in enumerate(hue_order):\n",
    "    l.get_texts()[i_h].set_text(h_idx)\n",
    "    l.legendHandles[i_h].set_visible(False);\n",
    "    l.get_texts()[i_h].set_color(palette[i_h]);"
   ]
  }
 ],
 "metadata": {
  "kernelspec": {
   "display_name": "Python 3",
   "language": "python",
   "name": "python3"
  },
  "language_info": {
   "codemirror_mode": {
    "name": "ipython",
    "version": 3
   },
   "file_extension": ".py",
   "mimetype": "text/x-python",
   "name": "python",
   "nbconvert_exporter": "python",
   "pygments_lexer": "ipython3",
   "version": "3.5.6"
  }
 },
 "nbformat": 4,
 "nbformat_minor": 2
}
