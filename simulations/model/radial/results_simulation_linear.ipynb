{
 "cells": [
  {
   "cell_type": "code",
   "execution_count": 1,
   "metadata": {},
   "outputs": [],
   "source": [
    "from linares_plot import *\n",
    "import statsmodels.formula.api as smf"
   ]
  },
  {
   "cell_type": "code",
   "execution_count": null,
   "metadata": {},
   "outputs": [],
   "source": [
    "df= pd.read_excel('C:\\\\Users\\\\David\\\\Desktop\\\\IDIBAPS\\\\simulations_radial\\\\results_simul_radial_linear_all.xlsx')\n",
    "\n",
    "pal_ = sns.color_palette(\"Greens\", n_colors=4)\n",
    "\n",
    "sns.lineplot(x=\"position\", y=\"interference\", hue='delay_time', hue_order=[0, 1000, 2000, 3000],\n",
    "             ci=95, palette=pal_, data=df)\n",
    "\n",
    "plt.gca().spines['right'].set_visible(False)  # aesthetics                                                                              \n",
    "plt.gca().spines['top'].set_visible(False)                                                                                  \n",
    "plt.gca().get_xaxis().tick_bottom()                                                                                         \n",
    "plt.gca().get_yaxis().tick_left()\n",
    "plt.gca().tick_params(direction='in') #direction\n",
    "plt.ylabel(r'attraction to fixation ($^\\circ$)', fontsize=25);\n",
    "plt.xlabel(r'eccentricity ($^\\circ$)', fontsize=25);\n",
    "plt.ylim(-2,12);\n",
    "plt.yticks([0,4,8,12]);\n",
    "plt.plot([60, 300], [0,0], 'k--', linewidth=1)\n",
    "\n",
    "l =plt.legend(loc=2, frameon=False, prop={'size': 15}, ncol=1)\n",
    "\n",
    "hue_order=['', 'delay=0s', 'delay=1s', 'delay=2s', 'delay=3s']\n",
    "palette=['black', pal_[0], pal_[1], pal_[2], pal_[3]]\n",
    "\n",
    "for i_h, h_idx in enumerate(hue_order):\n",
    "    l.get_texts()[i_h].set_text(h_idx)\n",
    "    l.legendHandles[i_h].set_visible(False);\n",
    "    l.get_texts()[i_h].set_color(palette[i_h]);"
   ]
  },
  {
   "cell_type": "code",
   "execution_count": 44,
   "metadata": {},
   "outputs": [
    {
     "data": {
      "text/html": [
       "<div>\n",
       "<style scoped>\n",
       "    .dataframe tbody tr th:only-of-type {\n",
       "        vertical-align: middle;\n",
       "    }\n",
       "\n",
       "    .dataframe tbody tr th {\n",
       "        vertical-align: top;\n",
       "    }\n",
       "\n",
       "    .dataframe thead th {\n",
       "        text-align: right;\n",
       "    }\n",
       "</style>\n",
       "<table border=\"1\" class=\"dataframe\">\n",
       "  <thead>\n",
       "    <tr style=\"text-align: right;\">\n",
       "      <th></th>\n",
       "      <th>T</th>\n",
       "      <th>NT1</th>\n",
       "      <th>NT2</th>\n",
       "      <th>Dist</th>\n",
       "      <th>Dist_NT1</th>\n",
       "      <th>Dist_NT2</th>\n",
       "    </tr>\n",
       "  </thead>\n",
       "  <tbody>\n",
       "    <tr>\n",
       "      <th>0</th>\n",
       "      <td>20</td>\n",
       "      <td>120</td>\n",
       "      <td>300</td>\n",
       "      <td>16</td>\n",
       "      <td>160</td>\n",
       "      <td>274</td>\n",
       "    </tr>\n",
       "    <tr>\n",
       "      <th>1</th>\n",
       "      <td>20</td>\n",
       "      <td>80</td>\n",
       "      <td>300</td>\n",
       "      <td>315</td>\n",
       "      <td>270</td>\n",
       "      <td>290</td>\n",
       "    </tr>\n",
       "  </tbody>\n",
       "</table>\n",
       "</div>"
      ],
      "text/plain": [
       "    T  NT1  NT2  Dist  Dist_NT1  Dist_NT2\n",
       "0  20  120  300    16       160       274\n",
       "1  20   80  300   315       270       290"
      ]
     },
     "execution_count": 44,
     "metadata": {},
     "output_type": "execute_result"
    }
   ],
   "source": [
    "angles = [[20, 120, 300, 16, 160, 274], [20, 80, 300, 315, 270, 290]]\n",
    "d = pd.DataFrame(angles)\n",
    "d.columns=['T', 'NT1', 'NT2', 'Dist', 'Dist_NT1', 'Dist_NT2']\n",
    "d"
   ]
  },
  {
   "cell_type": "code",
   "execution_count": 45,
   "metadata": {},
   "outputs": [],
   "source": [
    "def err_deg(a1,ref):\n",
    "    ### Calculate the error ref-a1 in an efficient way in the circular space\n",
    "    ### it uses complex numbers!\n",
    "    ### Input in degrees (0-360)\n",
    "    a1=np.radians(a1)\n",
    "    ref=np.radians(ref)\n",
    "    err = np.angle(np.exp(1j*ref)/np.exp(1j*(a1) ), deg=True) \n",
    "    err=round(err, 2)\n",
    "    return err"
   ]
  },
  {
   "cell_type": "code",
   "execution_count": null,
   "metadata": {},
   "outputs": [],
   "source": []
  },
  {
   "cell_type": "code",
   "execution_count": 46,
   "metadata": {},
   "outputs": [],
   "source": [
    "close_one=[]\n",
    "\n",
    "for i in range(len(d)):\n",
    "    err1 = abs(err_deg(d['T'].iloc[i], d['Dist'].iloc[i]))\n",
    "    err2 =abs(err_deg(d['NT1'].iloc[i], d['Dist_NT1'].iloc[i]))\n",
    "    err3 =abs(err_deg(d['NT2'].iloc[i], d['Dist_NT2'].iloc[i]))\n",
    "\n",
    "    options = ['T', 'NT1', 'NT2']\n",
    "    erros_dist = [err1, err2, err3]\n",
    "    pos_min_err = np.where(erros_dist==min(erros_dist))[0][0]\n",
    "    close_one.append( d[options[pos_min_err]].iloc[i] )"
   ]
  },
  {
   "cell_type": "code",
   "execution_count": 47,
   "metadata": {},
   "outputs": [
    {
     "data": {
      "text/plain": [
       "[20, 300]"
      ]
     },
     "execution_count": 47,
     "metadata": {},
     "output_type": "execute_result"
    }
   ],
   "source": [
    "close_one"
   ]
  },
  {
   "cell_type": "code",
   "execution_count": null,
   "metadata": {},
   "outputs": [],
   "source": []
  }
 ],
 "metadata": {
  "kernelspec": {
   "display_name": "Python 3",
   "language": "python",
   "name": "python3"
  },
  "language_info": {
   "codemirror_mode": {
    "name": "ipython",
    "version": 3
   },
   "file_extension": ".py",
   "mimetype": "text/x-python",
   "name": "python",
   "nbconvert_exporter": "python",
   "pygments_lexer": "ipython3",
   "version": "3.5.6"
  }
 },
 "nbformat": 4,
 "nbformat_minor": 2
}
