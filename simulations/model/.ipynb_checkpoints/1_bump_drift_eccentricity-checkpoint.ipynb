{
 "cells": [
  {
   "cell_type": "code",
   "execution_count": null,
   "metadata": {},
   "outputs": [],
   "source": [
    "from linares_plot import *"
   ]
  },
  {
   "cell_type": "code",
   "execution_count": null,
   "metadata": {},
   "outputs": [],
   "source": [
    "df=pd.read_excel('single_item_drift_eccentricity.xlsx')\n",
    "df.head()"
   ]
  },
  {
   "cell_type": "code",
   "execution_count": null,
   "metadata": {},
   "outputs": [],
   "source": [
    "df = df.loc[df['success']==True] \n",
    "plt.figure(figsize=(8,6))\n",
    "linares_plot( x=\"kappas_E\", y=\"bias\", order=[100, 150, 200],  pallete='viridis', alpha=1, point_size=3, df=df) \n",
    "plt.title('Drift with eccentricity separation', fontsize=15) #condition title\n",
    "plt.gca().spines['right'].set_visible(False) #no right axis\n",
    "plt.gca().spines['top'].set_visible(False) #no  top axis\n",
    "plt.gca().get_xaxis().tick_bottom()\n",
    "plt.gca().get_yaxis().tick_left()\n",
    "#plt.legend(title='kappaE', loc='upper right', labels=['100', '200'])\n",
    "plt.show(block=False)\n"
   ]
  },
  {
   "cell_type": "code",
   "execution_count": null,
   "metadata": {},
   "outputs": [],
   "source": [
    "#from model import *\n",
    "\n",
    "# from joblib import Parallel, delayed\n",
    "# import multiprocessing\n",
    "\n",
    "# numcores = multiprocessing.cpu_count() - 1\n",
    "\n",
    "# kappa_e_test = [100, 150, 200] #[0.024, 0.025]\n",
    "# rep_dist = 200\n",
    "# kappas_e=kappa_e_test*rep_dist\n",
    "\n",
    "# results = Parallel(n_jobs = numcores)(delayed(model)(totalTime=2000, targ_onset=100,  presentation_period=350, separation=0, tauE=9, tauI=4,  n_stims=1, I0E=0.1, I0I=0.5,\n",
    "#     GEE=0.025, GEI=0.019, GIE=0.01 , GII=0.1, sigE=0.8, sigI=1.6, kappa_E=kappas, kappa_I=20, kappa_stim=75, N=512, plot_connectivity=False, plot_rate=False, plot_hm=False ,\n",
    "#      plot_fit=False)  for  kappas in  kappas_e)\n",
    "\n",
    "\n",
    "# biases = [results[i][0] for i in range(len(results))]\n",
    "# kappas = [results[i][2] for i in range(len(results))]                                                             \n",
    "# succs = [results[i][5] for i in range(len(results))]   \n",
    "\n",
    "# df=pd.DataFrame({'bias':biases, 'kappas_E':kappas, 'success':succs })\n",
    "# df.to_excel('single_item_drift_eccentricity.xlsx')"
   ]
  },
  {
   "cell_type": "code",
   "execution_count": null,
   "metadata": {},
   "outputs": [],
   "source": []
  }
 ],
 "metadata": {
  "kernelspec": {
   "display_name": "Python 3",
   "language": "python",
   "name": "python3"
  },
  "language_info": {
   "codemirror_mode": {
    "name": "ipython",
    "version": 3
   },
   "file_extension": ".py",
   "mimetype": "text/x-python",
   "name": "python",
   "nbconvert_exporter": "python",
   "pygments_lexer": "ipython3",
   "version": "3.5.6"
  }
 },
 "nbformat": 4,
 "nbformat_minor": 2
}
