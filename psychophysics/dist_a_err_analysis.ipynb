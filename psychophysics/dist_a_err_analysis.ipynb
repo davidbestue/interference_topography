{
 "cells": [
  {
   "cell_type": "code",
   "execution_count": 1,
   "metadata": {},
   "outputs": [],
   "source": [
    "%matplotlib inline\n",
    "#%config InlineBackend.figure_format = 'svg'\n",
    "from linares_plot import *\n",
    "import os\n",
    "import matplotlib.pyplot as plt\n",
    "import statsmodels.formula.api as smf\n",
    "from scipy.stats import ttest_ind\n",
    "import scipy\n",
    "from scikits.bootstrap import ci \n",
    "\n",
    "\n",
    "#data_psychophysics_corrected\n",
    "data = pd.read_csv('C:\\\\Users\\\\David\\\\Dropbox\\\\IDIBAPS\\\\my code\\\\Project 1 (master thesis)\\\\idibaps_psychophysics')\n",
    "df=data.loc[(data['type']==1) | (data['type']==2)]\n"
   ]
  },
  {
   "cell_type": "code",
   "execution_count": 2,
   "metadata": {},
   "outputs": [
    {
     "name": "stdout",
     "output_type": "stream",
     "text": [
      "2403\n"
     ]
    },
    {
     "name": "stderr",
     "output_type": "stream",
     "text": [
      "C:\\Users\\David\\Anaconda3\\envs\\python3\\lib\\site-packages\\ipykernel_launcher.py:14: SettingWithCopyWarning: \n",
      "A value is trying to be set on a copy of a slice from a DataFrame.\n",
      "Try using .loc[row_indexer,col_indexer] = value instead\n",
      "\n",
      "See the caveats in the documentation: http://pandas.pydata.org/pandas-docs/stable/indexing.html#indexing-view-versus-copy\n",
      "  \n",
      "C:\\Users\\David\\Anaconda3\\envs\\python3\\lib\\site-packages\\scipy\\stats\\stats.py:1713: FutureWarning: Using a non-tuple sequence for multidimensional indexing is deprecated; use `arr[tuple(seq)]` instead of `arr[seq]`. In the future this will be interpreted as an array index, `arr[np.array(seq)]`, which will result either in an error or a different result.\n",
      "  return np.add.reduce(sorted[indexer] * weights, axis=axis) / sumval\n"
     ]
    },
    {
     "name": "stdout",
     "output_type": "stream",
     "text": [
      "Outliers in 1 = 2, limit=3.79cm\n",
      "Outliers in 2 = 4, limit=2.92cm\n",
      "Outliers in 3 = 5, limit=3.18cm\n",
      "Outliers in 4 = 1, limit=2.81cm\n",
      "Outliers in 5 = 9, limit=2.41cm\n",
      "Outliers in 6 = 6, limit=5.03cm\n",
      "Outliers in 7 = 6, limit=3.33cm\n",
      "Outliers in 8 = 7, limit=2.93cm\n",
      "Outliers in 9 = 7, limit=3.96cm\n",
      "Outliers in 10 = 4, limit=4.12cm\n",
      "Outliers in 11 = 6, limit=4.49cm\n",
      "Outliers in 12 = 4, limit=3.21cm\n",
      "Outliers in 13 = 7, limit=3.33cm\n",
      "Outliers in 14 = 5, limit=3.59cm\n",
      "Outliers in 15 = 4, limit=3.5cm\n",
      "Outliers in 16 = 4, limit=4.16cm\n",
      "Outliers in 17 = 8, limit=3.32cm\n",
      "Outliers in 18 = 7, limit=4.54cm\n",
      "2307\n"
     ]
    },
    {
     "name": "stderr",
     "output_type": "stream",
     "text": [
      "No handles with labels found to put in legend.\n"
     ]
    },
    {
     "data": {
      "image/png": "[encoded data removed]",
      "text/plain": [
       "<Figure size 432x288 with 1 Axes>"
      ]
     },
     "metadata": {
      "needs_background": "light"
     },
     "output_type": "display_data"
    },
    {
     "data": {
      "text/plain": [
       "NormaltestResult(statistic=18.13955562885638, pvalue=0.0001150921076113315)"
      ]
     },
     "execution_count": 2,
     "metadata": {},
     "output_type": "execute_result"
    }
   ],
   "source": [
    "print(len(df))\n",
    "\n",
    "def mod(target,report,radius_t, radius_r):\n",
    "    #units given in degrees and cm\n",
    "    y_t=np.array(radius_t*np.sin(np.radians(target)),dtype=np.float)\n",
    "    x_t=np.array(radius_t*np.cos(np.radians(target)),dtype=np.float)\n",
    "    y_r=np.array(radius_r*np.sin(np.radians(report)),dtype=np.float)\n",
    "    x_r=np.array(radius_r*np.cos(np.radians(report)),dtype=np.float)\n",
    "    m = np.sqrt((x_t - x_r)**2 + (y_t - y_r)**2)\n",
    "    return m\n",
    "\n",
    "\n",
    "modules = [round(mod(df.loc[i,'A_T'], df.loc[i,'A_R'], df.loc[i,'r_T'], df.loc[i,'r_R']),3) for i in df.index]\n",
    "df['modules']=modules\n",
    "\n",
    "\n",
    "from pandas import concat\n",
    "frames=[]\n",
    "for group_label in df.subject.unique():\n",
    "    sub_group=df.groupby('subject').get_group(group_label)\n",
    "    #CI\n",
    "    #interval = sub_group.quantile([0.025, 0.975]).unstack(level=1)['A_err']\n",
    "    #removed_out = sub_group.loc[(sub_group['A_err']>interval.iloc[0]) & (sub_group['A_err']<interval.iloc[1])] \n",
    "    #\n",
    "    #Quartiles\n",
    "    limit=sub_group['modules'].mean() + 2*sub_group['modules'].std()\n",
    "    #print(round(limit,2))\n",
    "    removed_out =sub_group.loc[sub_group['modules']<limit  ]\n",
    "    \n",
    "    \n",
    "    frames.append(removed_out)\n",
    "    \n",
    "    #Print the result\n",
    "    before_outliers=len(sub_group)\n",
    "    after_outliers=len(removed_out)\n",
    "    print( 'Outliers in ' + str(group_label) + ' = ' +str(before_outliers-after_outliers) + ', limit=' +str(round(limit,2))  + 'cm')\n",
    "    \n",
    "\n",
    "\n",
    "df = concat(frames)\n",
    "print(len(df))\n",
    "\n",
    "### Distribution A_Err in cw-ccw\n",
    "sns.distplot(df['A_err'])\n",
    "plt.title('Distribution Angle error')\n",
    "plt.legend(frameon=False)\n",
    "plt.gca().spines['right'].set_visible(False)\n",
    "plt.gca().spines['top'].set_visible(False)\n",
    "plt.gca().get_xaxis().tick_bottom()\n",
    "plt.gca().get_yaxis().tick_left()\n",
    "plt.xlabel('Angle error (Target-Response)')\n",
    "plt.show()\n",
    "\n",
    "scipy.stats.normaltest(df['A_err'])"
   ]
  },
  {
   "cell_type": "code",
   "execution_count": 3,
   "metadata": {},
   "outputs": [],
   "source": [
    "\n",
    "# #take off outliers per group\n",
    "# def remove_outlier(df_in, col_name):\n",
    "#     q1 = df_in[col_name].quantile(0.25)\n",
    "#     q3 = df_in[col_name].quantile(0.75)\n",
    "#     iqr = q3-q1 #Interquartile range\n",
    "#     fence_low  = q1-1.5*iqr\n",
    "#     fence_high = q3+1.5*iqr\n",
    "#     df_out = df_in.loc[(df_in[col_name] > fence_low) & (df_in[col_name] < fence_high)]\n",
    "#     return df_out\n",
    "\n",
    "\n",
    "\n",
    "# from pandas import concat\n",
    "# frames=[]\n",
    "# for group_label in df.subject.unique():\n",
    "#     sub_group=df.groupby('subject').get_group(group_label)\n",
    "#     #CI\n",
    "#     #interval = sub_group.quantile([0.025, 0.975]).unstack(level=1)\n",
    "#     #removed_out = sub_group.loc[(sub_group[column_names[column]]>interval[0]) & (sub_group[column_names[column]]<interval[1])] \n",
    "#     #\n",
    "#     #Quartiles\n",
    "#     removed_out = remove_outlier(sub_group, 'A_err' )\n",
    "    \n",
    "    \n",
    "#     frames.append(removed_out)\n",
    "    \n",
    "#     #Print the result\n",
    "#     before_outliers=len(sub_group)\n",
    "#     after_outliers=len(removed_out)\n",
    "#     print( 'Outliers in ' + str(group_label) + ' = ' +str(before_outliers-after_outliers) )\n",
    "    \n",
    "\n",
    "\n",
    "# df = concat(frames)\n",
    "# len(df)\n",
    "\n",
    "# ### Distribution A_Err in cw-ccw\n",
    "# sns.distplot(df['A_err'])\n",
    "# plt.title('Distribution Angle error')\n",
    "# plt.legend(frameon=False)\n",
    "# plt.gca().spines['right'].set_visible(False)\n",
    "# plt.gca().spines['top'].set_visible(False)\n",
    "# plt.gca().get_xaxis().tick_bottom()\n",
    "# plt.gca().get_yaxis().tick_left()\n",
    "# plt.xlabel('Angle error (Target-Response)')\n",
    "# plt.show()"
   ]
  },
  {
   "cell_type": "code",
   "execution_count": 4,
   "metadata": {},
   "outputs": [],
   "source": [
    "# df=df[df['A_err']<15]\n",
    "# df=df[df['A_err']>-15]\n",
    "# len(df)"
   ]
  },
  {
   "cell_type": "code",
   "execution_count": 5,
   "metadata": {
    "scrolled": true
   },
   "outputs": [],
   "source": [
    "## Functions to use\n",
    "\n",
    "def circ_dist(a1,a2):\n",
    "    ## Returns the minimal distance in angles between to angles \n",
    "    op1=abs(a2-a1)\n",
    "    angs=[a1,a2]\n",
    "    op2=min(angs)+(360-max(angs))\n",
    "    options=[op1,op2]\n",
    "    return min(options)\n",
    "\n",
    "\n",
    "\n",
    "def get_quadrant(angle): \n",
    "    #angle in degrees, return the quadrant which it belongs to\n",
    "    if angle>=0 and angle<=90:\n",
    "        Q=1\n",
    "    elif angle>90 and angle<=180:\n",
    "        Q=2\n",
    "    elif angle>180 and angle<=270:\n",
    "        Q=3\n",
    "    elif angle>270 and angle<=360:\n",
    "        Q=4\n",
    "    \n",
    "    return Q\n",
    "\n",
    "\n",
    "def cw_ccw_detector(target, NT):\n",
    "    #print [target, NT,get_quadrant(target),get_quadrant(NT) ]\n",
    "    #it returns the relative position of the target respect the NT\n",
    "    if abs(target-NT)<180:\n",
    "        if target<NT: \n",
    "            o='cw'\n",
    "        else: \n",
    "            o='ccw'\n",
    "    else:\n",
    "        if target<NT: \n",
    "            o='ccw'\n",
    "        else: \n",
    "            o='cw'\n",
    "    #Ecceptions\n",
    "    if [get_quadrant(target),get_quadrant(NT) ] == [1,4] : o= 'ccw'\n",
    "    if [get_quadrant(target),get_quadrant(NT) ] == [4,1] : o= 'cw'\n",
    "    \n",
    "    return o\n",
    "\n",
    "\n",
    "    "
   ]
  },
  {
   "cell_type": "code",
   "execution_count": 6,
   "metadata": {},
   "outputs": [],
   "source": [
    "#Add necessary column\n",
    "orients=[]\n",
    "for i in range(0, len(df)):\n",
    "    orients.append(cw_ccw_detector(df['A_T'].iloc[i], df['A_NT'].iloc[i]))\n",
    "\n",
    "    \n",
    "df['cw_ccw']=orients\n",
    "df['dist_T_NT']=abs(df['A_T']-df['A_NT'])\n"
   ]
  },
  {
   "cell_type": "code",
   "execution_count": 7,
   "metadata": {
    "scrolled": false
   },
   "outputs": [
    {
     "name": "stderr",
     "output_type": "stream",
     "text": [
      "C:\\Users\\David\\Anaconda3\\envs\\python3\\lib\\site-packages\\scipy\\stats\\stats.py:1713: FutureWarning: Using a non-tuple sequence for multidimensional indexing is deprecated; use `arr[tuple(seq)]` instead of `arr[seq]`. In the future this will be interpreted as an array index, `arr[np.array(seq)]`, which will result either in an error or a different result.\n",
      "  return np.add.reduce(sorted[indexer] * weights, axis=axis) / sumval\n"
     ]
    },
    {
     "data": {
      "image/png": "[encoded data removed]",
      "text/plain": [
       "<Figure size 432x288 with 1 Axes>"
      ]
     },
     "metadata": {
      "needs_background": "light"
     },
     "output_type": "display_data"
    },
    {
     "name": "stdout",
     "output_type": "stream",
     "text": [
      "1.867354726799653\n",
      "-2.95973136915078\n",
      "NormaltestResult(statistic=9.45504941429977, pvalue=0.008848346202931415)\n",
      "NormaltestResult(statistic=19.822820744984313, pvalue=4.9605424142929644e-05)\n"
     ]
    },
    {
     "data": {
      "text/plain": [
       "Ttest_indResult(statistic=19.707611629808277, pvalue=4.992748465869927e-80)"
      ]
     },
     "execution_count": 7,
     "metadata": {},
     "output_type": "execute_result"
    }
   ],
   "source": [
    "### Distribution A_Err in cw-ccw\n",
    "sns.distplot(df.loc[df['cw_ccw']=='cw', 'A_err'], label='cw')\n",
    "sns.distplot(df.loc[df['cw_ccw']=='ccw', 'A_err'], label='ccw')\n",
    "plt.title('Distribution cw ccw')\n",
    "plt.legend(frameon=False)\n",
    "plt.gca().spines['right'].set_visible(False)\n",
    "plt.gca().spines['top'].set_visible(False)\n",
    "plt.gca().get_xaxis().tick_bottom()\n",
    "plt.gca().get_yaxis().tick_left()\n",
    "plt.xlabel('Angle error (Target-Response)')\n",
    "plt.show()\n",
    "\n",
    "print(df.loc[df['cw_ccw']=='cw', 'A_err'].mean())\n",
    "print(df.loc[df['cw_ccw']=='ccw', 'A_err'].mean())\n",
    "\n",
    "\n",
    "print(scipy.stats.normaltest(df.loc[df['cw_ccw']=='cw', 'A_err']) )\n",
    "print(scipy.stats.normaltest(df.loc[df['cw_ccw']=='ccw', 'A_err']) )\n",
    "\n",
    "\n",
    "scipy.stats.ttest_ind(df.loc[df['cw_ccw']=='cw', 'A_err'], df.loc[df['cw_ccw']=='ccw', 'A_err'] )\n"
   ]
  },
  {
   "cell_type": "code",
   "execution_count": 8,
   "metadata": {},
   "outputs": [
    {
     "name": "stderr",
     "output_type": "stream",
     "text": [
      "C:\\Users\\David\\Anaconda3\\envs\\python3\\lib\\site-packages\\scipy\\stats\\stats.py:1713: FutureWarning: Using a non-tuple sequence for multidimensional indexing is deprecated; use `arr[tuple(seq)]` instead of `arr[seq]`. In the future this will be interpreted as an array index, `arr[np.array(seq)]`, which will result either in an error or a different result.\n",
      "  return np.add.reduce(sorted[indexer] * weights, axis=axis) / sumval\n"
     ]
    },
    {
     "data": {
      "image/png": "[encoded data removed]",
      "text/plain": [
       "<Figure size 432x288 with 1 Axes>"
      ]
     },
     "metadata": {
      "needs_background": "light"
     },
     "output_type": "display_data"
    },
    {
     "name": "stdout",
     "output_type": "stream",
     "text": [
      "1.8626758147512865\n",
      "-2.7753872053872053\n",
      "NormaltestResult(statistic=2.8565178586489095, pvalue=0.23972593891307378)\n",
      "NormaltestResult(statistic=11.451490890089552, pvalue=0.0032609215319256007)\n",
      "Ttest_indResult(statistic=15.605651765028728, pvalue=4.8828416410698655e-50)\n"
     ]
    },
    {
     "data": {
      "image/png": "[encoded data removed]",
      "text/plain": [
       "<Figure size 432x288 with 1 Axes>"
      ]
     },
     "metadata": {
      "needs_background": "light"
     },
     "output_type": "display_data"
    },
    {
     "name": "stdout",
     "output_type": "stream",
     "text": [
      "1.8721403508771932\n",
      "-3.155267857142857\n",
      "NormaltestResult(statistic=0.8932603054766621, pvalue=0.6397804855840317)\n",
      "NormaltestResult(statistic=12.469346748750118, pvalue=0.0019602693839852)\n",
      "Ttest_indResult(statistic=12.797064699207525, pvalue=4.134460090828227e-35)\n"
     ]
    }
   ],
   "source": [
    "### Distribution A_Err in cw-ccw in perception\n",
    "sns.distplot(df.loc[(df['cw_ccw']=='cw') & (df['delay']==0) , 'A_err'], label='cw')\n",
    "sns.distplot(df.loc[(df['cw_ccw']=='ccw') & (df['delay']==0) , 'A_err'], label='ccw')\n",
    "plt.title('Distribution cw ccw, perception')\n",
    "plt.legend(frameon=False)\n",
    "plt.gca().spines['right'].set_visible(False)\n",
    "plt.gca().spines['top'].set_visible(False)\n",
    "plt.gca().get_xaxis().tick_bottom()\n",
    "plt.gca().get_yaxis().tick_left()\n",
    "plt.xlabel('Angle error (Target-Response)')\n",
    "plt.show()\n",
    "\n",
    "print(df.loc[(df['cw_ccw']=='cw') & (df['delay']==0) , 'A_err'].mean())\n",
    "print(df.loc[(df['cw_ccw']=='ccw') & (df['delay']==0) , 'A_err'].mean())\n",
    "\n",
    "\n",
    "print(scipy.stats.normaltest(df.loc[(df['cw_ccw']=='cw') & (df['delay']==0) , 'A_err']) )\n",
    "print(scipy.stats.normaltest(df.loc[(df['cw_ccw']=='ccw') & (df['delay']==0) , 'A_err']) )\n",
    "\n",
    "\n",
    "print (scipy.stats.ttest_ind(df.loc[(df['cw_ccw']=='cw') & (df['delay']==0) , 'A_err'], \n",
    "                      df.loc[(df['cw_ccw']=='ccw') & (df['delay']==0) , 'A_err'] ) )\n",
    "\n",
    "\n",
    "\n",
    "### Distribution A_Err in cw-ccw in perception\n",
    "sns.distplot(df.loc[(df['cw_ccw']=='cw') & (df['delay']==3) , 'A_err'], label='cw')\n",
    "sns.distplot(df.loc[(df['cw_ccw']=='ccw') & (df['delay']==3) , 'A_err'], label='ccw')\n",
    "plt.title('Distribution cw ccw, perception')\n",
    "plt.legend(frameon=False)\n",
    "plt.gca().spines['right'].set_visible(False)\n",
    "plt.gca().spines['top'].set_visible(False)\n",
    "plt.gca().get_xaxis().tick_bottom()\n",
    "plt.gca().get_yaxis().tick_left()\n",
    "plt.xlabel('Angle error (Target-Response)')\n",
    "plt.show()\n",
    "\n",
    "print(df.loc[(df['cw_ccw']=='cw') & (df['delay']==3) , 'A_err'].mean())\n",
    "print(df.loc[(df['cw_ccw']=='ccw') & (df['delay']==3) , 'A_err'].mean())\n",
    "\n",
    "\n",
    "print(scipy.stats.normaltest(df.loc[(df['cw_ccw']=='cw') & (df['delay']==3) , 'A_err']) )\n",
    "print(scipy.stats.normaltest(df.loc[(df['cw_ccw']=='ccw') & (df['delay']==3) , 'A_err']) )\n",
    "\n",
    "\n",
    "print( scipy.stats.ttest_ind(df.loc[(df['cw_ccw']=='cw') & (df['delay']==3) , 'A_err'], \n",
    "                      df.loc[(df['cw_ccw']=='ccw') & (df['delay']==3) , 'A_err'] ) )\n",
    "\n",
    "\n",
    "\n"
   ]
  },
  {
   "cell_type": "code",
   "execution_count": 9,
   "metadata": {},
   "outputs": [
    {
     "name": "stderr",
     "output_type": "stream",
     "text": [
      "C:\\Users\\David\\Anaconda3\\envs\\python3\\lib\\site-packages\\scipy\\stats\\stats.py:1713: FutureWarning: Using a non-tuple sequence for multidimensional indexing is deprecated; use `arr[tuple(seq)]` instead of `arr[seq]`. In the future this will be interpreted as an array index, `arr[np.array(seq)]`, which will result either in an error or a different result.\n",
      "  return np.add.reduce(sorted[indexer] * weights, axis=axis) / sumval\n"
     ]
    },
    {
     "data": {
      "image/png": "[encoded data removed]",
      "text/plain": [
       "<Figure size 432x288 with 1 Axes>"
      ]
     },
     "metadata": {
      "needs_background": "light"
     },
     "output_type": "display_data"
    },
    {
     "name": "stdout",
     "output_type": "stream",
     "text": [
      "-0.37849956634865567\n",
      "-0.7158232235701906\n"
     ]
    },
    {
     "data": {
      "text/plain": [
       "Ttest_indResult(statistic=1.2744845199821506, pvalue=0.2026202231376591)"
      ]
     },
     "execution_count": 9,
     "metadata": {},
     "output_type": "execute_result"
    }
   ],
   "source": [
    "### Shuffle \n",
    "import random\n",
    "\n",
    "a=np.array(df['cw_ccw'].values)\n",
    "random.shuffle(a)\n",
    "df['cw_ccw_shuff'] = a\n",
    "\n",
    "\n",
    "sns.distplot(df.loc[df['cw_ccw_shuff']=='cw', 'A_err'], label='cw')\n",
    "sns.distplot(df.loc[df['cw_ccw_shuff']=='ccw', 'A_err'], label='ccw')\n",
    "plt.title('Distribution cw ccw')\n",
    "plt.legend(frameon=False)\n",
    "plt.gca().spines['right'].set_visible(False)\n",
    "plt.gca().spines['top'].set_visible(False)\n",
    "plt.gca().get_xaxis().tick_bottom()\n",
    "plt.gca().get_yaxis().tick_left()\n",
    "plt.xlabel('Angle error (Target-Response)')\n",
    "plt.show()\n",
    "\n",
    "\n",
    "print(df.loc[df['cw_ccw_shuff']=='cw', 'A_err'].mean())\n",
    "print(df.loc[df['cw_ccw_shuff']=='ccw', 'A_err'].mean())\n",
    "\n",
    "scipy.stats.ttest_ind(df.loc[df['cw_ccw_shuff']=='cw', 'A_err'], df.loc[df['cw_ccw_shuff']=='ccw', 'A_err'] )\n"
   ]
  },
  {
   "cell_type": "code",
   "execution_count": 10,
   "metadata": {},
   "outputs": [
    {
     "name": "stdout",
     "output_type": "stream",
     "text": [
      "2403\n"
     ]
    },
    {
     "name": "stderr",
     "output_type": "stream",
     "text": [
      "C:\\Users\\David\\Anaconda3\\envs\\python3\\lib\\site-packages\\ipykernel_launcher.py:14: SettingWithCopyWarning: \n",
      "A value is trying to be set on a copy of a slice from a DataFrame.\n",
      "Try using .loc[row_indexer,col_indexer] = value instead\n",
      "\n",
      "See the caveats in the documentation: http://pandas.pydata.org/pandas-docs/stable/indexing.html#indexing-view-versus-copy\n",
      "  \n",
      "C:\\Users\\David\\Anaconda3\\envs\\python3\\lib\\site-packages\\ipykernel_launcher.py:30: SettingWithCopyWarning: \n",
      "A value is trying to be set on a copy of a slice from a DataFrame.\n",
      "Try using .loc[row_indexer,col_indexer] = value instead\n",
      "\n",
      "See the caveats in the documentation: http://pandas.pydata.org/pandas-docs/stable/indexing.html#indexing-view-versus-copy\n",
      "C:\\Users\\David\\Anaconda3\\envs\\python3\\lib\\site-packages\\scipy\\stats\\stats.py:1713: FutureWarning: Using a non-tuple sequence for multidimensional indexing is deprecated; use `arr[tuple(seq)]` instead of `arr[seq]`. In the future this will be interpreted as an array index, `arr[np.array(seq)]`, which will result either in an error or a different result.\n",
      "  return np.add.reduce(sorted[indexer] * weights, axis=axis) / sumval\n"
     ]
    },
    {
     "name": "stdout",
     "output_type": "stream",
     "text": [
      "Outliers in 1 = 2, limit=3.79cm\n",
      "Outliers in 2 = 4, limit=2.92cm\n",
      "Outliers in 3 = 5, limit=3.18cm\n",
      "Outliers in 4 = 1, limit=2.81cm\n",
      "Outliers in 5 = 9, limit=2.41cm\n",
      "Outliers in 6 = 6, limit=5.03cm\n",
      "Outliers in 7 = 6, limit=3.33cm\n",
      "Outliers in 8 = 7, limit=2.93cm\n",
      "Outliers in 9 = 7, limit=3.96cm\n",
      "Outliers in 10 = 4, limit=4.12cm\n",
      "Outliers in 11 = 6, limit=4.49cm\n",
      "Outliers in 12 = 4, limit=3.21cm\n",
      "Outliers in 13 = 7, limit=3.33cm\n",
      "Outliers in 14 = 5, limit=3.59cm\n",
      "Outliers in 15 = 4, limit=3.5cm\n",
      "Outliers in 16 = 4, limit=4.16cm\n",
      "Outliers in 17 = 8, limit=3.32cm\n",
      "Outliers in 18 = 7, limit=4.54cm\n",
      "2307\n"
     ]
    },
    {
     "data": {
      "image/png": "[encoded data removed]",
      "text/plain": [
       "<Figure size 432x288 with 1 Axes>"
      ]
     },
     "metadata": {
      "needs_background": "light"
     },
     "output_type": "display_data"
    }
   ],
   "source": [
    "dfr=data.loc[(data['type']==1) | (data['type']==2)]\n",
    "\n",
    "in_out=[]\n",
    "### in --> the target is closer to fixation\n",
    "### out --> the target is far from fixation\n",
    "\n",
    "for i in dfr.index:\n",
    "    if dfr.loc[i, 'r_T']<dfr.loc[i, 'r_NT']:\n",
    "        in_out.append('in')\n",
    "    else:\n",
    "        in_out.append('out')\n",
    "\n",
    "\n",
    "dfr['in_out'] = in_out\n",
    "\n",
    "\n",
    "print(len(dfr))\n",
    "\n",
    "def mod(target,report,radius_t, radius_r):\n",
    "    #units given in degrees and cm\n",
    "    y_t=np.array(radius_t*np.sin(np.radians(target)),dtype=np.float)\n",
    "    x_t=np.array(radius_t*np.cos(np.radians(target)),dtype=np.float)\n",
    "    y_r=np.array(radius_r*np.sin(np.radians(report)),dtype=np.float)\n",
    "    x_r=np.array(radius_r*np.cos(np.radians(report)),dtype=np.float)\n",
    "    m = np.sqrt((x_t - x_r)**2 + (y_t - y_r)**2)\n",
    "    return m\n",
    "\n",
    "\n",
    "modules = [round(mod(dfr.loc[i,'A_T'], dfr.loc[i,'A_R'], dfr.loc[i,'r_T'], dfr.loc[i,'r_R']),3) for i in dfr.index]\n",
    "dfr['modules']=modules\n",
    "\n",
    "\n",
    "from pandas import concat\n",
    "frames=[]\n",
    "for group_label in dfr.subject.unique():\n",
    "    sub_group=dfr.groupby('subject').get_group(group_label)\n",
    "    #CI\n",
    "    #interval = sub_group.quantile([0.025, 0.975]).unstack(level=1)['A_err']\n",
    "    #removed_out = sub_group.loc[(sub_group['A_err']>interval.iloc[0]) & (sub_group['A_err']<interval.iloc[1])] \n",
    "    #\n",
    "    #Quartiles\n",
    "    limit=sub_group['modules'].mean() + 2*sub_group['modules'].std()\n",
    "    #print(round(limit,2))\n",
    "    removed_out =sub_group.loc[sub_group['modules']<limit  ]\n",
    "    \n",
    "    \n",
    "    frames.append(removed_out)\n",
    "    \n",
    "    #Print the result\n",
    "    before_outliers=len(sub_group)\n",
    "    after_outliers=len(removed_out)\n",
    "    print( 'Outliers in ' + str(group_label) + ' = ' +str(before_outliers-after_outliers) + ', limit=' +str(round(limit,2))  + 'cm')\n",
    "    \n",
    "\n",
    "\n",
    "dfr = concat(frames)\n",
    "print(len(dfr))\n",
    "\n",
    "### Distribution A_Err in cw-ccw\n",
    "sns.distplot(dfr.loc[ dfr['r_T']==7.72, 'r_R'], color='cyan', label='7.72')\n",
    "#sns.distplot(dfr.loc[ dfr['r_T']==10.7, 'r_R'], color='g', label='10.7')\n",
    "sns.distplot(dfr.loc[ dfr['r_T']==13.68, 'r_R'], color='m', label='13.68')\n",
    "plt.title('Distribution radial response')\n",
    "plt.legend(frameon=False)\n",
    "plt.gca().spines['right'].set_visible(False)\n",
    "plt.gca().spines['top'].set_visible(False)\n",
    "plt.gca().get_xaxis().tick_bottom()\n",
    "plt.gca().get_yaxis().tick_left()\n",
    "plt.xlabel('radial response')\n",
    "plt.show()\n"
   ]
  },
  {
   "cell_type": "markdown",
   "metadata": {},
   "source": [
    "## Delays 0 and 3 in both radius"
   ]
  },
  {
   "cell_type": "code",
   "execution_count": 11,
   "metadata": {
    "scrolled": true
   },
   "outputs": [
    {
     "name": "stdout",
     "output_type": "stream",
     "text": [
      "2307\n",
      "2291\n"
     ]
    },
    {
     "name": "stderr",
     "output_type": "stream",
     "text": [
      "C:\\Users\\David\\Anaconda3\\envs\\python3\\lib\\site-packages\\scipy\\stats\\stats.py:1713: FutureWarning: Using a non-tuple sequence for multidimensional indexing is deprecated; use `arr[tuple(seq)]` instead of `arr[seq]`. In the future this will be interpreted as an array index, `arr[np.array(seq)]`, which will result either in an error or a different result.\n",
      "  return np.add.reduce(sorted[indexer] * weights, axis=axis) / sumval\n"
     ]
    },
    {
     "data": {
      "image/png": "[encoded data removed]",
      "text/plain": [
       "<Figure size 432x288 with 1 Axes>"
      ]
     },
     "metadata": {
      "needs_background": "light"
     },
     "output_type": "display_data"
    },
    {
     "name": "stdout",
     "output_type": "stream",
     "text": [
      "           Mixed Linear Model Regression Results\n",
      "============================================================\n",
      "Model:            MixedLM Dependent Variable: distance_A_err\n",
      "No. Observations: 1189    Method:             REML          \n",
      "No. Groups:       18      Scale:              11.4408       \n",
      "Min. group size:  16      Likelihood:         -3167.7755    \n",
      "Max. group size:  100     Converged:          Yes           \n",
      "Mean group size:  66.1                                      \n",
      "------------------------------------------------------------\n",
      "                  Coef.  Std.Err.   z    P>|z| [0.025 0.975]\n",
      "------------------------------------------------------------\n",
      "Intercept         -1.746    0.814 -2.146 0.032 -3.341 -0.151\n",
      "dist_T_NT         -0.092    0.042 -2.173 0.030 -0.175 -0.009\n",
      "delay             -0.711    0.326 -2.179 0.029 -1.350 -0.071\n",
      "dist_T_NT:delay    0.031    0.020  1.529 0.126 -0.009  0.070\n",
      "Group Var          3.326    0.357                           \n",
      "============================================================\n",
      "\n",
      "\n",
      "\n",
      "\n"
     ]
    },
    {
     "data": {
      "image/png": "[encoded data removed]",
      "text/plain": [
       "<Figure size 432x288 with 1 Axes>"
      ]
     },
     "metadata": {
      "needs_background": "light"
     },
     "output_type": "display_data"
    },
    {
     "name": "stdout",
     "output_type": "stream",
     "text": [
      "           Mixed Linear Model Regression Results\n",
      "============================================================\n",
      "Model:            MixedLM Dependent Variable: distance_A_err\n",
      "No. Observations: 1102    Method:             REML          \n",
      "No. Groups:       18      Scale:              6.7656        \n",
      "Min. group size:  15      Likelihood:         -2649.0479    \n",
      "Max. group size:  91      Converged:          Yes           \n",
      "Mean group size:  61.2                                      \n",
      "------------------------------------------------------------\n",
      "                  Coef.  Std.Err.   z    P>|z| [0.025 0.975]\n",
      "------------------------------------------------------------\n",
      "Intercept         -3.322    0.638 -5.207 0.000 -4.573 -2.072\n",
      "dist_T_NT          0.099    0.034  2.946 0.003  0.033  0.165\n",
      "delay              0.741    0.261  2.837 0.005  0.229  1.253\n",
      "dist_T_NT:delay   -0.037    0.016 -2.330 0.020 -0.069 -0.006\n",
      "Group Var          1.947    0.273                           \n",
      "============================================================\n",
      "\n"
     ]
    }
   ],
   "source": [
    "##### DISTANCE TO MEAN OF CW AND CCW as a measure\n",
    "means_cw={}\n",
    "\n",
    "for Subj in df.subject.unique():\n",
    "    d_subj = df.groupby('subject').get_group(Subj)\n",
    "    for ori in ['cw', 'ccw']:\n",
    "        for distance in df.dist_T_NT.unique():\n",
    "            for radius in df.r_T.unique():\n",
    "                for delay in df.delay.unique():\n",
    "                    mean_cw = round(d_subj.loc[ (d_subj['cw_ccw']==ori)  & (d_subj['r_T']==radius)\n",
    "                                               & (d_subj['dist_T_NT']==distance) & (d_subj['delay']==delay) ,'A_err'].mean(), 3)\n",
    "                    \n",
    "                    means_cw[str(Subj)  + '_' + str(radius) + '_' +str(distance) +'_'+ str(delay) + '_' +ori] = mean_cw\n",
    "                \n",
    "\n",
    "        \n",
    "cw_ccw_distance=[]\n",
    "\n",
    "for i in df.index:\n",
    "    or_ = df.loc[i, 'cw_ccw']\n",
    "    if or_ == 'cw':\n",
    "        or_cont = 'ccw'\n",
    "    elif or_ =='ccw':\n",
    "        or_cont = 'cw' \n",
    "    else:\n",
    "        print('Error')\n",
    "    idx =  str(df.loc[i, 'subject'])+ '_' + str(df.loc[i, 'r_T']) + '_' +str(df.loc[i, 'dist_T_NT']) +'_' +str(df.loc[i, 'delay']) +'_'  + or_cont\n",
    "    #\n",
    "    if or_ == 'ccw':\n",
    "        cw_ccw_distance.append(df.loc[i, 'A_err'] - means_cw[idx] )  \n",
    "    elif or_ =='cw':\n",
    "        cw_ccw_distance.append( means_cw[idx] - df.loc[i, 'A_err'])  \n",
    "    else:\n",
    "        print('Error')\n",
    "    \n",
    "\n",
    "\n",
    "df['distance_A_err'] = np.array(cw_ccw_distance)/2\n",
    "print(len(df))\n",
    "\n",
    "#Remove null\n",
    "df=df[~df['distance_A_err'].isnull()]\n",
    "print(len(df))\n",
    "\n",
    "\n",
    "#### PLOT PERCEPTUAL INTERFERENCE\n",
    "\n",
    "# distance_A_err\n",
    "sns.pointplot(x='dist_T_NT', y='distance_A_err', hue='delay', hue_order=[0,3], ci=68, x_estimator=np.mean,\n",
    "              palette=['b', 'g'], legend=False, data=df.loc[df['r_T']==7.72])\n",
    "\n",
    "# plt.plot([-0.1,2.1], [0,0], 'k--')\n",
    "plt.legend(frameon=False)\n",
    "plt.title('Interference r1')\n",
    "plt.xlabel('Distance T - NT (deg)')\n",
    "plt.ylabel('Attraction bias (deg)')\n",
    "plt.gca().spines['right'].set_visible(False)\n",
    "plt.gca().spines['top'].set_visible(False)\n",
    "plt.gca().get_xaxis().tick_bottom()\n",
    "plt.gca().get_yaxis().tick_left()\n",
    "plt.show()\n",
    "\n",
    "dfr1 = df.loc[df['r_T']==7.72]\n",
    "res_m = smf.mixedlm(formula='distance_A_err ~ dist_T_NT*delay', data=dfr1, groups=dfr1['subject']).fit()\n",
    "print(res_m.summary())\n",
    "\n",
    "print('')\n",
    "print('')\n",
    "print('')\n",
    "\n",
    "sns.pointplot(x='dist_T_NT', y='distance_A_err', hue='delay', hue_order=[0,3], ci=68, x_estimator=np.mean,\n",
    "              palette=['b', 'g'], legend=False, data=df.loc[df['r_T']==13.68])\n",
    "\n",
    "# plt.plot([-0.1,2.1], [0,0], 'k--')\n",
    "plt.legend(frameon=False)\n",
    "plt.title('Interference r3')\n",
    "plt.xlabel('Distance T - NT (deg)')\n",
    "plt.ylabel('Attraction bias (deg)')\n",
    "plt.gca().spines['right'].set_visible(False)\n",
    "plt.gca().spines['top'].set_visible(False)\n",
    "plt.gca().get_xaxis().tick_bottom()\n",
    "plt.gca().get_yaxis().tick_left()\n",
    "plt.show()\n",
    "\n",
    "dfr3 = df.loc[df['r_T']==13.68]\n",
    "res_m = smf.mixedlm(formula='distance_A_err ~ dist_T_NT*delay', data=dfr3, groups=dfr3['subject']).fit()\n",
    "print(res_m.summary())"
   ]
  },
  {
   "cell_type": "markdown",
   "metadata": {},
   "source": [
    "## Perceptual effects "
   ]
  },
  {
   "cell_type": "code",
   "execution_count": 12,
   "metadata": {},
   "outputs": [
    {
     "name": "stderr",
     "output_type": "stream",
     "text": [
      "C:\\Users\\David\\Anaconda3\\envs\\python3\\lib\\site-packages\\scipy\\stats\\stats.py:1713: FutureWarning: Using a non-tuple sequence for multidimensional indexing is deprecated; use `arr[tuple(seq)]` instead of `arr[seq]`. In the future this will be interpreted as an array index, `arr[np.array(seq)]`, which will result either in an error or a different result.\n",
      "  return np.add.reduce(sorted[indexer] * weights, axis=axis) / sumval\n"
     ]
    },
    {
     "data": {
      "image/png": "[encoded data removed]",
      "text/plain": [
       "<Figure size 432x288 with 1 Axes>"
      ]
     },
     "metadata": {
      "needs_background": "light"
     },
     "output_type": "display_data"
    },
    {
     "name": "stdout",
     "output_type": "stream",
     "text": [
      "[0.09205386517755408, 5.016737100011929e-06, 1.866101968696445e-11]\n",
      "           Mixed Linear Model Regression Results\n",
      "============================================================\n",
      "Model:            MixedLM Dependent Variable: distance_A_err\n",
      "No. Observations: 1169    Method:             REML          \n",
      "No. Groups:       18      Scale:              6.7009        \n",
      "Min. group size:  16      Likelihood:         -2806.6805    \n",
      "Max. group size:  98      Converged:          Yes           \n",
      "Mean group size:  64.9                                      \n",
      "------------------------------------------------------------\n",
      "                  Coef.  Std.Err.   z    P>|z| [0.025 0.975]\n",
      "------------------------------------------------------------\n",
      "Intercept          0.388    1.452  0.267 0.789 -2.457  3.233\n",
      "r_T               -0.275    0.127 -2.161 0.031 -0.524 -0.026\n",
      "dist_T_NT         -0.329    0.086 -3.820 0.000 -0.497 -0.160\n",
      "r_T:dist_T_NT      0.031    0.008  3.991 0.000  0.016  0.046\n",
      "Group Var          2.519    0.349                           \n",
      "============================================================\n",
      "\n"
     ]
    }
   ],
   "source": [
    "sns.pointplot(x='dist_T_NT', y='distance_A_err', hue='r_T', hue_order=[7.72, 13.68], ci=95, x_estimator=np.mean,\n",
    "              palette=['cyan', 'm'], legend=False, data=df.loc[df['delay']==0])\n",
    "\n",
    "# plt.plot([-0.1,2.1], [0,0], 'k--')\n",
    "plt.legend(frameon=False)\n",
    "plt.title('Perceptual interference')\n",
    "plt.xlabel('Distance T - NT (deg)')\n",
    "plt.ylabel('Attraction bias (deg)')\n",
    "plt.gca().spines['right'].set_visible(False)\n",
    "plt.gca().spines['top'].set_visible(False)\n",
    "plt.gca().get_xaxis().tick_bottom()\n",
    "plt.gca().get_yaxis().tick_left()\n",
    "plt.plot([-0.1,2.1], [0,0], 'k--')\n",
    "plt.ylim(-8,4)\n",
    "plt.show()\n",
    "\n",
    "p_values=[]\n",
    "df_d0 = df.loc[df['delay']==0]\n",
    "for dist in [12, 16, 20]:\n",
    "    a= df_d0[(df_d0['r_T'] == 7.72 ) & (df_d0['dist_T_NT'] == dist) ]['distance_A_err']\n",
    "    b= df_d0[(df_d0['r_T'] == 13.68 ) & (df_d0['dist_T_NT'] == dist) ]['distance_A_err']\n",
    "    p_values.append(ttest_ind(a,b)[1])\n",
    "\n",
    "print(p_values)\n",
    "\n",
    "#### MODEL\n",
    "res_m = smf.mixedlm(formula='distance_A_err ~ r_T * dist_T_NT', data=df_d0, groups=df_d0['subject']).fit()\n",
    "print(res_m.summary())\n"
   ]
  },
  {
   "cell_type": "code",
   "execution_count": 13,
   "metadata": {},
   "outputs": [
    {
     "data": {
      "image/png": "[encoded data removed]",
      "text/plain": [
       "<Figure size 432x288 with 1 Axes>"
      ]
     },
     "metadata": {
      "needs_background": "light"
     },
     "output_type": "display_data"
    }
   ],
   "source": [
    "linares_plot(x='dist_T_NT', y='distance_A_err', hue='r_T', order=[12,16,20], hue_order=[7.72,13.68],\n",
    "             alpha=0.8, pallete=['cyan', 'm'], df=df.loc[df['delay']==0], point_size=1.5)\n",
    "plt.plot([-0.1,2.1], [0,0], 'k--');\n",
    "plt.ylim(-8,4);\n",
    "plt.title('Perceptual interference');\n",
    "plt.xlabel('Distance T - NT (deg)');\n",
    "plt.ylabel('Attraction bias (deg)');\n",
    "plt.yticks([-6,-3, 0, 3]);\n"
   ]
  },
  {
   "cell_type": "markdown",
   "metadata": {},
   "source": [
    "## Memory effects (raw)"
   ]
  },
  {
   "cell_type": "code",
   "execution_count": 14,
   "metadata": {},
   "outputs": [
    {
     "name": "stderr",
     "output_type": "stream",
     "text": [
      "C:\\Users\\David\\Anaconda3\\envs\\python3\\lib\\site-packages\\scipy\\stats\\stats.py:1713: FutureWarning: Using a non-tuple sequence for multidimensional indexing is deprecated; use `arr[tuple(seq)]` instead of `arr[seq]`. In the future this will be interpreted as an array index, `arr[np.array(seq)]`, which will result either in an error or a different result.\n",
      "  return np.add.reduce(sorted[indexer] * weights, axis=axis) / sumval\n"
     ]
    },
    {
     "data": {
      "image/png": "[encoded data removed]",
      "text/plain": [
       "<Figure size 432x288 with 1 Axes>"
      ]
     },
     "metadata": {
      "needs_background": "light"
     },
     "output_type": "display_data"
    },
    {
     "name": "stdout",
     "output_type": "stream",
     "text": [
      "[1.9580585877251953e-09, 6.635174884334158e-09, 5.240009112923532e-09]\n",
      "           Mixed Linear Model Regression Results\n",
      "============================================================\n",
      "Model:            MixedLM Dependent Variable: distance_A_err\n",
      "No. Observations: 1122    Method:             REML          \n",
      "No. Groups:       18      Scale:              12.4061       \n",
      "Min. group size:  15      Likelihood:         -3033.2603    \n",
      "Max. group size:  93      Converged:          Yes           \n",
      "Mean group size:  62.3                                      \n",
      "------------------------------------------------------------\n",
      "                 Coef.  Std.Err.   z    P>|z|  [0.025 0.975]\n",
      "------------------------------------------------------------\n",
      "Intercept        -7.269    1.960 -3.709 0.000 -11.111 -3.428\n",
      "r_T               0.452    0.176  2.570 0.010   0.107  0.797\n",
      "dist_T_NT         0.021    0.118  0.180 0.857  -0.211  0.253\n",
      "r_T:dist_T_NT    -0.003    0.011 -0.277 0.782  -0.024  0.018\n",
      "Group Var         2.200    0.235                            \n",
      "============================================================\n",
      "\n"
     ]
    }
   ],
   "source": [
    "sns.pointplot(x='dist_T_NT', y='distance_A_err', hue='r_T', hue_order=[7.72, 13.68], ci=95, x_estimator=np.mean,\n",
    "              palette=['cyan', 'm'], legend=False, data=df.loc[df['delay']==3])\n",
    "\n",
    "# plt.plot([-0.1,2.1], [0,0], 'k--')\n",
    "plt.legend(frameon=False)\n",
    "plt.title('Delay 3 interference')\n",
    "plt.xlabel('Distance T - NT (deg)')\n",
    "plt.ylabel('Attraction bias (deg)')\n",
    "plt.gca().spines['right'].set_visible(False)\n",
    "plt.gca().spines['top'].set_visible(False)\n",
    "plt.gca().get_xaxis().tick_bottom()\n",
    "plt.gca().get_yaxis().tick_left()\n",
    "plt.plot([-0.1,2.1], [0,0], 'k--')\n",
    "plt.ylim(-10,4)\n",
    "plt.show()\n",
    "\n",
    "p_values=[]\n",
    "df_d3 = df.loc[df['delay']==3]\n",
    "for dist in [12, 16, 20]:\n",
    "    a= df_d3[(df_d3['r_T'] == 7.72 ) & (df_d3['dist_T_NT'] == dist) ]['distance_A_err']\n",
    "    b= df_d3[(df_d3['r_T'] == 13.68 ) & (df_d3['dist_T_NT'] == dist) ]['distance_A_err']\n",
    "    p_values.append(ttest_ind(a,b)[1])\n",
    "\n",
    "print(p_values)\n",
    "\n",
    "#### MODEL\n",
    "res_m = smf.mixedlm(formula='distance_A_err ~ r_T * dist_T_NT', data=df_d3, groups=df_d3['subject']).fit()\n",
    "print(res_m.summary())\n"
   ]
  },
  {
   "cell_type": "markdown",
   "metadata": {},
   "source": [
    "## General Model"
   ]
  },
  {
   "cell_type": "code",
   "execution_count": null,
   "metadata": {},
   "outputs": [],
   "source": [
    "## Mixed model (subject as random intercept)\n",
    "res_m = smf.mixedlm(formula='distance_A_err ~ r_T * dist_T_NT*delay', data=df, groups=df['subject']).fit()\n",
    "print(res_m.summary())\n"
   ]
  },
  {
   "cell_type": "markdown",
   "metadata": {},
   "source": [
    "## Memory \n",
    "\n",
    "#### take off perceptual effect (d3 - d0)"
   ]
  },
  {
   "cell_type": "code",
   "execution_count": null,
   "metadata": {},
   "outputs": [],
   "source": [
    "#Measure d3-d0\n",
    "\n",
    "d0={}\n",
    "\n",
    "for Subj in df.subject.unique():\n",
    "    d_subj = df.groupby('subject').get_group(Subj)\n",
    "    for ori in ['cw', 'ccw']:\n",
    "        for distance in df.dist_T_NT.unique():\n",
    "            for radius in df.r_T.unique():\n",
    "                mean_d0 = round(d_subj.loc[ (d_subj['cw_ccw']==ori)  & (d_subj['r_T']==radius)\n",
    "                                           & (d_subj['dist_T_NT']==distance) & (d_subj['delay']==0) ,'distance_A_err'].mean(), 3)\n",
    "\n",
    "                d0[str(Subj)  + '_' + str(radius) + '_' +str(distance) + '_' +ori] = mean_d0\n",
    "\n",
    "\n",
    "\n",
    "dist_A_err_d3_d0=[]\n",
    "\n",
    "for i in df.index:\n",
    "    idx =  str(df.loc[i, 'subject'])+ '_' + str(df.loc[i, 'r_T']) + '_' +str(df.loc[i, 'dist_T_NT']) +'_'  + df.loc[i, 'cw_ccw']\n",
    "    #\n",
    "    dist_A_err_d3_d0.append(df.loc[i, 'distance_A_err'] - d0[idx] )\n",
    "\n",
    "    \n",
    "\n",
    "\n",
    "df['dist_A_err_d3_d0'] = dist_A_err_d3_d0\n",
    "\n",
    "#### PLOT MEMORY INTERFERENCE\n",
    "\n",
    "sns.pointplot(x='dist_T_NT', y='dist_A_err_d3_d0', hue='r_T', ci=95, x_estimator=np.mean,\n",
    "              palette=['cyan', 'm'], legend=False, data=df)\n",
    "\n",
    "plt.plot([-0.1,2.1], [0,0], 'k--')\n",
    "plt.yticks([-1, 0, 1])\n",
    "plt.legend(frameon=False)\n",
    "plt.title('Memory interference')\n",
    "plt.xlabel('Distance T - NT (deg)')\n",
    "plt.ylabel('Attraction bias (deg)')\n",
    "plt.gca().spines['right'].set_visible(False)\n",
    "plt.gca().spines['top'].set_visible(False)\n",
    "plt.gca().get_xaxis().tick_bottom()\n",
    "plt.gca().get_yaxis().tick_left()\n",
    "plt.show()\n",
    "\n",
    "#p_values to compare a distance between two radius\n",
    "\n",
    "p_values=[]\n",
    "for dist in [12, 16, 20]:\n",
    "    a= df[(df['r_T'] == 7.72 ) & (df['dist_T_NT'] == dist) ]['dist_A_err_d3_d0']\n",
    "    b= df[(df['r_T'] == 13.68 ) & (df['dist_T_NT'] == dist) ]['dist_A_err_d3_d0']\n",
    "    p_values.append(ttest_ind(a,b)[1])\n",
    "\n",
    "print(p_values)\n"
   ]
  },
  {
   "cell_type": "code",
   "execution_count": null,
   "metadata": {},
   "outputs": [],
   "source": [
    "linares_plot(x='dist_T_NT', y='dist_A_err_d3_d0', hue='r_T', order=[12,16,20], hue_order=[7.72,13.68],\n",
    "             alpha=0.6, pallete=['cyan', 'm'], df=df, point_size=1.5)\n",
    "plt.plot([-0.1,2.1], [0,0], 'k--');\n",
    "plt.ylim(-6,6);\n",
    "plt.title('Memory interference');\n",
    "plt.xlabel('Distance T - NT (deg)');\n",
    "plt.ylabel('Attraction bias (deg)');\n",
    "plt.yticks([-4, -2, 0, 2, 4]);\n",
    "\n"
   ]
  },
  {
   "cell_type": "code",
   "execution_count": null,
   "metadata": {},
   "outputs": [],
   "source": [
    "#### MODEL\n",
    "res_m = smf.mixedlm(formula='dist_A_err_d3_d0 ~ r_T * dist_T_NT', data=df, groups=df['subject']).fit()\n",
    "print(res_m.summary())\n"
   ]
  },
  {
   "cell_type": "code",
   "execution_count": null,
   "metadata": {
    "scrolled": true
   },
   "outputs": [],
   "source": [
    "#### PLOT MEMORY INTERFERENCE BY SUBJECT\n",
    "\n",
    "for SUBJECT in df.subject.unique():\n",
    "    print(SUBJECT)\n",
    "    df1=df.loc[df['subject']==SUBJECT]   \n",
    "\n",
    "    sns.pointplot(x='dist_T_NT', y='dist_A_err_d3_d0', hue='r_T', ci=68, x_estimator=np.mean,\n",
    "                  palette=['cyan', 'm'], legend=False, data=df1)\n",
    "\n",
    "    plt.plot([-0.1,2.1], [0,0], 'k--')\n",
    "    plt.yticks([-1, 0, 1])\n",
    "    plt.legend(frameon=False)\n",
    "    plt.title('Memory interference')\n",
    "    plt.xlabel('Distance T - NT (deg)')\n",
    "    plt.ylabel('Attraction bias (deg)')\n",
    "    plt.gca().spines['right'].set_visible(False)\n",
    "    plt.gca().spines['top'].set_visible(False)\n",
    "    plt.gca().get_xaxis().tick_bottom()\n",
    "    plt.gca().get_yaxis().tick_left()\n",
    "    plt.show()\n",
    "\n",
    "    #p_values to compare a distance between two radius\n",
    "\n",
    "    from scipy.stats import ttest_ind\n",
    "    p_values=[]\n",
    "    for dist in [12, 16, 20]:\n",
    "        a= df1[(df1['r_T'] == 7.72 ) & (df1['dist_T_NT'] == dist) ]['dist_A_err_d3_d0']\n",
    "        b= df1[(df1['r_T'] == 13.68 ) & (df1['dist_T_NT'] == dist) ]['dist_A_err_d3_d0']\n",
    "        p_values.append(ttest_ind(a,b)[1])\n",
    "\n",
    "    print(p_values)"
   ]
  },
  {
   "cell_type": "markdown",
   "metadata": {},
   "source": [
    "## Controls"
   ]
  },
  {
   "cell_type": "code",
   "execution_count": null,
   "metadata": {
    "scrolled": true
   },
   "outputs": [],
   "source": [
    "df_cont=data.loc[data['type']==0]\n",
    "df_cont.head()"
   ]
  },
  {
   "cell_type": "code",
   "execution_count": null,
   "metadata": {},
   "outputs": [],
   "source": [
    "\n",
    "# #take off outliers per group\n",
    "# def remove_outlier(df_in, col_name):\n",
    "#     q1 = df_in[col_name].quantile(0.25)\n",
    "#     q3 = df_in[col_name].quantile(0.75)\n",
    "#     iqr = q3-q1 #Interquartile range\n",
    "#     fence_low  = q1-1.5*iqr\n",
    "#     fence_high = q3+1.5*iqr\n",
    "#     df_out = df_in.loc[(df_in[col_name] > fence_low) & (df_in[col_name] < fence_high)]\n",
    "#     return df_out\n",
    "\n",
    "\n",
    "\n",
    "# from pandas import concat\n",
    "# frames=[]\n",
    "# for group_label in df_cont.subject.unique():\n",
    "#     sub_group=df_cont.groupby('subject').get_group(group_label)\n",
    "#     #CI\n",
    "#     #interval = sub_group.quantile([0.025, 0.975]).unstack(level=1)['A_err']\n",
    "#     #removed_out = sub_group.loc[(sub_group['A_err']>interval.iloc[0]) & (sub_group['A_err']<interval.iloc[1])] \n",
    "#     #\n",
    "#     #Quartiles\n",
    "#     removed_out = remove_outlier(sub_group, 'A_err' )\n",
    "    \n",
    "    \n",
    "#     frames.append(removed_out)\n",
    "    \n",
    "#     #Print the result\n",
    "#     before_outliers=len(sub_group)\n",
    "#     after_outliers=len(removed_out)\n",
    "#     print( 'Outliers in ' + str(group_label) + ' = ' +str(before_outliers-after_outliers) )\n",
    "    \n",
    "\n",
    "\n",
    "# df_cont = concat(frames)\n",
    "# print(len(df_cont))\n",
    "\n",
    "# ### Distribution A_Err in cw-ccw\n",
    "# sns.distplot(df_cont['A_err'])\n",
    "# plt.title('Distribution Angle error')\n",
    "# plt.legend(frameon=False)\n",
    "# plt.gca().spines['right'].set_visible(False)\n",
    "# plt.gca().spines['top'].set_visible(False)\n",
    "# plt.gca().get_xaxis().tick_bottom()\n",
    "# plt.gca().get_yaxis().tick_left()\n",
    "# plt.xlabel('Angle error (Target-Response)')\n",
    "# plt.show()\n"
   ]
  },
  {
   "cell_type": "code",
   "execution_count": null,
   "metadata": {},
   "outputs": [],
   "source": [
    "print(len(df_cont))\n",
    "\n",
    "def mod(target,report,radius_t, radius_r):\n",
    "    #units given in degrees and cm\n",
    "    y_t=np.array(radius_t*np.sin(np.radians(target)),dtype=np.float)\n",
    "    x_t=np.array(radius_t*np.cos(np.radians(target)),dtype=np.float)\n",
    "    y_r=np.array(radius_r*np.sin(np.radians(report)),dtype=np.float)\n",
    "    x_r=np.array(radius_r*np.cos(np.radians(report)),dtype=np.float)\n",
    "    m = np.sqrt((x_t - x_r)**2 + (y_t - y_r)**2)\n",
    "    return m\n",
    "\n",
    "\n",
    "modules = [round(mod(df_cont.loc[i,'A_T'], df_cont.loc[i,'A_R'], df_cont.loc[i,'r_T'], df_cont.loc[i,'r_R']),3) for i in df_cont.index]\n",
    "df_cont['modules']=modules\n",
    "\n",
    "\n",
    "from pandas import concat\n",
    "frames=[]\n",
    "for group_label in df_cont.subject.unique():\n",
    "    sub_group=df_cont.groupby('subject').get_group(group_label)\n",
    "    #CI\n",
    "    #interval = sub_group.quantile([0.025, 0.975]).unstack(level=1)['A_err']\n",
    "    #removed_out = sub_group.loc[(sub_group['A_err']>interval.iloc[0]) & (sub_group['A_err']<interval.iloc[1])] \n",
    "    #\n",
    "    #Quartiles\n",
    "    limit=sub_group['modules'].mean() + 2*sub_group['modules'].std()\n",
    "    #print(round(limit,2))\n",
    "    removed_out =sub_group.loc[sub_group['modules']<limit  ]\n",
    "    \n",
    "    \n",
    "    frames.append(removed_out)\n",
    "    \n",
    "    #Print the result\n",
    "    before_outliers=len(sub_group)\n",
    "    after_outliers=len(removed_out)\n",
    "    print( 'Outliers in ' + str(group_label) + ' = ' +str(before_outliers-after_outliers) + ', limit=' +str(round(limit,2)) )\n",
    "    \n",
    "\n",
    "\n",
    "df_cont = concat(frames)\n",
    "print(len(df_cont))\n",
    "\n",
    "### Distribution A_Err in cw-ccw\n",
    "sns.distplot(df_cont['A_err'])\n",
    "plt.title('Distribution Angle error')\n",
    "plt.legend(frameon=False)\n",
    "plt.gca().spines['right'].set_visible(False)\n",
    "plt.gca().spines['top'].set_visible(False)\n",
    "plt.gca().get_xaxis().tick_bottom()\n",
    "plt.gca().get_yaxis().tick_left()\n",
    "plt.xlabel('Angle error (Target-Response)')\n",
    "plt.show()"
   ]
  },
  {
   "cell_type": "code",
   "execution_count": null,
   "metadata": {},
   "outputs": [],
   "source": [
    "len(df_cont)\n"
   ]
  },
  {
   "cell_type": "code",
   "execution_count": null,
   "metadata": {
    "scrolled": false
   },
   "outputs": [],
   "source": [
    "\n",
    "dfr=df_cont.loc[df_cont['type']==0]\n",
    "\n",
    "print(len(dfr))\n",
    "\n",
    "def mod(target,report,radius_t, radius_r):\n",
    "    #units given in degrees and cm\n",
    "    y_t=np.array(radius_t*np.sin(np.radians(target)),dtype=np.float)\n",
    "    x_t=np.array(radius_t*np.cos(np.radians(target)),dtype=np.float)\n",
    "    y_r=np.array(radius_r*np.sin(np.radians(report)),dtype=np.float)\n",
    "    x_r=np.array(radius_r*np.cos(np.radians(report)),dtype=np.float)\n",
    "    m = np.sqrt((x_t - x_r)**2 + (y_t - y_r)**2)\n",
    "    return m\n",
    "\n",
    "\n",
    "modules = [round(mod(dfr.loc[i,'A_T'], dfr.loc[i,'A_R'], dfr.loc[i,'r_T'], dfr.loc[i,'r_R']),3) for i in dfr.index]\n",
    "dfr['modules']=modules\n",
    "\n",
    "\n",
    "from pandas import concat\n",
    "frames=[]\n",
    "for group_label in dfr.subject.unique():\n",
    "    sub_group=dfr.groupby('subject').get_group(group_label)\n",
    "    #CI\n",
    "    #interval = sub_group.quantile([0.025, 0.975]).unstack(level=1)['A_err']\n",
    "    #removed_out = sub_group.loc[(sub_group['A_err']>interval.iloc[0]) & (sub_group['A_err']<interval.iloc[1])] \n",
    "    #\n",
    "    #Quartiles\n",
    "    limit=sub_group['modules'].mean() + 2*sub_group['modules'].std()\n",
    "    #print(round(limit,2))\n",
    "    removed_out =sub_group.loc[sub_group['modules']<limit  ]\n",
    "    \n",
    "    \n",
    "    frames.append(removed_out)\n",
    "    \n",
    "    #Print the result\n",
    "    before_outliers=len(sub_group)\n",
    "    after_outliers=len(removed_out)\n",
    "    print( 'Outliers in ' + str(group_label) + ' = ' +str(before_outliers-after_outliers) + ', limit=' +str(round(limit,2))  + 'cm')\n",
    "    \n",
    "\n",
    "\n",
    "dfr = concat(frames)\n",
    "print(len(dfr))\n",
    "\n",
    "\n",
    "\n",
    "pallete=sns.blend_palette(['cyan', 'm'], 3)\n",
    "pallete= np.array( [pallete[i][:3] for i in range(len(pallete))] )\n",
    "\n",
    "### Distributionr err in radius\n",
    "sns.distplot(dfr.loc[ dfr['r_T']==7.72, 'r_R'], color=list(pallete[0]),  label='7.72')\n",
    "sns.distplot(dfr.loc[ dfr['r_T']==10.7, 'r_R'], color=list(pallete[1]),  label='10.7')\n",
    "sns.distplot(dfr.loc[ dfr['r_T']==13.68, 'r_R'], color=list(pallete[2]),  label='13.68')\n",
    "plt.title('Distribution radial response')\n",
    "plt.legend(frameon=False)\n",
    "plt.gca().spines['right'].set_visible(False)\n",
    "plt.gca().spines['top'].set_visible(False)\n",
    "plt.gca().get_xaxis().tick_bottom()\n",
    "plt.gca().get_yaxis().tick_left()\n",
    "plt.xlabel('radial response')\n",
    "plt.plot([7.72, 7.72], [0, 0.4], 'k--')\n",
    "plt.plot([10.7, 10.7], [0, 0.4], 'k--')\n",
    "plt.plot([13.68, 13.68], [0, 0.4], 'k--')\n",
    "plt.show()\n",
    "\n",
    "\n",
    "######\n",
    "\n",
    "sns.pointplot(x='r_T', y='r_err', hue='delay', estimator=np.mean, legend=False, data=dfr)\n",
    "plt.legend(frameon=False)\n",
    "plt.title('Drift to fixation')\n",
    "plt.xlabel('Radius target')\n",
    "plt.ylabel('Attraction fixation (cm)')\n",
    "plt.gca().spines['right'].set_visible(False)\n",
    "plt.gca().spines['top'].set_visible(False)\n",
    "plt.gca().get_xaxis().tick_bottom()\n",
    "plt.gca().get_yaxis().tick_left()\n",
    "plt.show()\n",
    "\n",
    "\n",
    "#### MODEL\n",
    "res_m = smf.mixedlm(formula='r_err ~ r_T * delay', data=dfr, groups=dfr['subject']).fit()\n",
    "print(res_m.summary())\n",
    "\n",
    "\n",
    "\n",
    "# ### Distributionr err in radius\n",
    "# sns.distplot(dfr.loc[ dfr['r_T']==7.72, 'A_err'], color=list(pallete[0]),  label='7.72')\n",
    "# sns.distplot(dfr.loc[ dfr['r_T']==10.7, 'A_err']+20, color=list(pallete[1]),  label='10.7')\n",
    "# sns.distplot(dfr.loc[ dfr['r_T']==13.68, 'A_err']+40, color=list(pallete[2]),  label='13.68')\n",
    "# plt.title('Distribution Angle error with eccentricity')\n",
    "# plt.legend(frameon=False)\n",
    "# plt.gca().spines['right'].set_visible(False)\n",
    "# plt.gca().spines['top'].set_visible(False)\n",
    "# plt.gca().get_xaxis().tick_bottom()\n",
    "# plt.gca().get_yaxis().tick_left()\n",
    "# plt.xlabel('')\n",
    "# plt.xticks([0, 20, 40], ['µ 7.72', 'µ 10.7', 'µ 13.38'])\n",
    "# plt.show()    \n",
    "\n",
    "\n",
    "\n",
    "for delay in [0, 3]:\n",
    "    plt.figure()\n",
    "    sns.distplot(dfr.loc[ (dfr['r_T']==7.72) & (dfr['delay']==delay)   , 'A_err'], color=list(pallete[0]),  label='7.72')\n",
    "    sns.distplot(dfr.loc[ (dfr['r_T']==10.7) & (dfr['delay']==delay) , 'A_err']+20, color=list(pallete[1]),  label='10.7')\n",
    "    sns.distplot(dfr.loc[ (dfr['r_T']==13.68) & (dfr['delay']==delay) , 'A_err']+40, color=list(pallete[2]),  label='13.68')\n",
    "    plt.title('Distribution Angle error with eccentricity, delay ' + str(delay))\n",
    "    plt.legend(frameon=False)\n",
    "    plt.gca().spines['right'].set_visible(False)\n",
    "    plt.gca().spines['top'].set_visible(False)\n",
    "    plt.gca().get_xaxis().tick_bottom()\n",
    "    plt.gca().get_yaxis().tick_left()\n",
    "    plt.xlabel('')\n",
    "    plt.xticks([0, 20, 40], ['µ 7.72', 'µ 10.7', 'µ 13.38'])\n",
    "    plt.show()    \n",
    "\n",
    "\n",
    "\n",
    "sns.pointplot(x='r_T', y='A_err', hue='delay', estimator=np.std, legend=False, data=dfr)\n",
    "plt.legend(frameon=False)\n",
    "plt.title('Distribution Angle error with eccentricity')\n",
    "plt.xlabel('Radius target')\n",
    "plt.ylabel('std')\n",
    "plt.gca().spines['right'].set_visible(False)\n",
    "plt.gca().spines['top'].set_visible(False)\n",
    "plt.gca().get_xaxis().tick_bottom()\n",
    "plt.gca().get_yaxis().tick_left()\n",
    "plt.show()\n",
    "\n",
    "print('P_value in sensory =' + str(scipy.stats.levene(dfr.loc[ (dfr['r_T']==7.72) & (dfr['delay']==0 ), 'A_err'], dfr.loc[ (dfr['r_T']==10.7) & (dfr['delay']==0 ), 'A_err'], dfr.loc[ (dfr['r_T']==13.68) & (dfr['delay']==0 ), 'A_err'])[1]))\n",
    "print('P_value in memory =' + str(scipy.stats.levene(dfr.loc[ (dfr['r_T']==7.72) & (dfr['delay']==3 ), 'A_err'], dfr.loc[ (dfr['r_T']==10.7) & (dfr['delay']==3 ), 'A_err'], dfr.loc[ (dfr['r_T']==13.68) & (dfr['delay']==3), 'A_err'])[1]))\n",
    "\n",
    "print('P_value in r1 =' + str(scipy.stats.levene( dfr.loc[ (dfr['r_T']==7.72) & (dfr['delay']==0 ), 'A_err'], (dfr['r_T']==7.72) & (dfr['delay']==3 )        )[1]))\n",
    "print('P_value in r2 =' + str(scipy.stats.levene( dfr.loc[ (dfr['r_T']==10.7) & (dfr['delay']==0 ), 'A_err'], (dfr['r_T']==10.7) & (dfr['delay']==3 )        )[1]))\n",
    "print('P_value in r3 =' + str(scipy.stats.levene( dfr.loc[ (dfr['r_T']==13.68) & (dfr['delay']==0 ), 'A_err'], (dfr['r_T']==13.68) & (dfr['delay']==3 )        )[1]))\n",
    "\n",
    "\n",
    "\n"
   ]
  },
  {
   "cell_type": "code",
   "execution_count": null,
   "metadata": {},
   "outputs": [],
   "source": [
    "\n",
    "#Absolute error as a measure of precision\n",
    "df_cont['abs_err']=abs(df_cont['A_err'].copy())\n",
    "\n",
    "sns.lineplot(x='r_T', y='abs_err', hue='delay', hue_order=[0,3], ci=68, estimator=np.mean,\n",
    "              palette=['b', 'g'], legend=False, data=df_cont)\n",
    "\n",
    "\n",
    "plt.legend(frameon=False)\n",
    "plt.title('Controls. Abs error with delay and radius')\n",
    "plt.xlabel('target radius')\n",
    "plt.ylabel('abs error')\n",
    "plt.gca().spines['right'].set_visible(False)\n",
    "plt.gca().spines['top'].set_visible(False)\n",
    "plt.gca().get_xaxis().tick_bottom()\n",
    "plt.gca().get_yaxis().tick_left()\n",
    "plt.show()\n",
    "\n",
    "\n",
    "#### MODEL\n",
    "res_m = smf.mixedlm(formula='abs_err ~ r_T', data=df_cont.loc[df_cont['delay']==3], groups=df_cont.loc[df_cont['delay']==3, 'subject']).fit()\n",
    "print(res_m.summary())\n",
    "\n",
    "res_m = smf.mixedlm(formula='abs_err ~ r_T*delay ', data=df_cont, groups=df_cont['subject']).fit()\n",
    "print(res_m.summary())\n",
    "\n",
    "\n",
    "#### With the std\n",
    "\n",
    "sns.lineplot(x='r_T', y='A_err', hue='delay', hue_order=[0,3], ci=68, estimator=np.std,\n",
    "              palette=['b', 'g'], legend=False, data=df_cont)\n",
    "\n",
    "plt.legend(frameon=False)\n",
    "plt.title('A err std with radius')\n",
    "plt.xlabel('Target radius')\n",
    "plt.ylabel('std')\n",
    "plt.gca().spines['right'].set_visible(False)\n",
    "plt.gca().spines['top'].set_visible(False)\n",
    "plt.gca().get_xaxis().tick_bottom()\n",
    "plt.gca().get_yaxis().tick_left()\n",
    "plt.show()\n",
    "\n",
    "\n"
   ]
  },
  {
   "cell_type": "code",
   "execution_count": null,
   "metadata": {},
   "outputs": [],
   "source": [
    "# sns.lineplot(x='r_T', y='abs_err', hue='delay', hue_order=[0,3], ci=68, estimator=np.mean,\n",
    "#               palette=['b', 'g'], legend=False, data=df_cont)\n",
    "\n",
    "linares_plot(x='r_T', y='abs_err', hue='delay', hue_order=[0,3], order=[7.72,10.7,13.68], df=df_cont,pallete=['b', 'g'])\n",
    "plt.legend(frameon=False)\n",
    "plt.title('Controls. Abs error with delay and radius')\n",
    "plt.xlabel('target radius')\n",
    "plt.ylabel('abs error')\n",
    "plt.gca().spines['right'].set_visible(False)\n",
    "plt.gca().spines['top'].set_visible(False)\n",
    "plt.gca().get_xaxis().tick_bottom()\n",
    "plt.gca().get_yaxis().tick_left()\n",
    "plt.ylim(0,10)\n",
    "plt.show()\n",
    "\n",
    "res_m = smf.mixedlm(formula='abs_err ~ r_T*delay ', data=df_cont, groups=df_cont['subject']).fit()\n",
    "print(res_m.summary())\n",
    "\n"
   ]
  },
  {
   "cell_type": "code",
   "execution_count": null,
   "metadata": {},
   "outputs": [],
   "source": [
    "std_data_cont=[]\n",
    "std_cont=[]\n",
    "cis_cont=[]\n",
    "\n",
    "std_data_cont3=[]\n",
    "std_cont3=[]\n",
    "cis_cont3=[]\n",
    "\n",
    "\n",
    "for rad in [7.72, 10.7, 13.68]:\n",
    "    std_data_cont.append(df_cont.loc[ (df_cont['r_T'] == rad) & ( df_cont['delay'] == 0 )].loc[:, 'A_err'].values)\n",
    "    std_cont.append(df_cont.loc[ (df_cont['r_T'] == rad) & ( df_cont['delay'] == 0 )].loc[:, 'A_err'].std())\n",
    "    cis_cont.append(ci(df_cont.loc[ (df_cont['r_T'] == rad) & ( df_cont['delay'] == 0 )].loc[:, 'A_err'].values, statfunction=np.std) )\n",
    "\n",
    "    std_data_cont3.append(df_cont.loc[ (df_cont['r_T'] == rad) & ( df_cont['delay'] == 3 )].loc[:, 'A_err'].values)\n",
    "    std_cont3.append(df_cont.loc[ (df_cont['r_T'] == rad) & ( df_cont['delay'] == 3 )].loc[:, 'A_err'].std())\n",
    "    cis_cont3.append(ci(df_cont.loc[ (df_cont['r_T'] == rad) & ( df_cont['delay'] == 3 )].loc[:, 'A_err'].values, statfunction=np.std) )\n",
    "    \n",
    "\n",
    "plt.title('Dispersion of angle error in radius')\n",
    "plt.plot(list(np.unique(df_cont.loc[:, 'r_T'])),  std_cont, linewidth = 4, label = 'Sensory')\n",
    "plt.fill_between(list(np.unique(df_cont.loc[:, 'r_T'])), np.array(cis_cont)[:,0], np.array(cis_cont)[:,1],color=\"cyan\",alpha=0.3)\n",
    "\n",
    "# pallete=sns.blend_palette(['cyan', 'm'], 2)\n",
    "# for i in range(len(  list(np.unique(df_cont.loc[:, 'r_T']))    )-1):\n",
    "#     plt.fill_between(list(np.unique(df_cont.loc[:, 'r_T']))[i:i+2], np.array(cis_cont)[:,0][i:i+2], np.array(cis_cont)[:,1][i:i+2],  color=pallete[i]     ,alpha=0.3)\n",
    "\n",
    "    \n",
    "\n",
    "plt.plot(list(np.unique(df_cont.loc[:, 'r_T'])), std_cont3, linewidth = 4, label='Memory')\n",
    "plt.fill_between(list(np.unique(df_cont.loc[:, 'r_T'])), np.array(cis_cont3)[:,0], np.array(cis_cont3)[:,1],color=\"g\",alpha=0.3)\n",
    "\n",
    "\n",
    "# pallete=sns.blend_palette(['cyan', 'm'], 2)\n",
    "# for i in range(len(  list(np.unique(df_cont.loc[:, 'r_T']))   )-1):\n",
    "#     plt.fill_between(list(np.unique(df_cont.loc[:, 'r_T']))[i:i+2], np.array(cis_cont3)[:,0][i:i+2], np.array(cis_cont3)[:,1][i:i+2],  color=pallete[i]     ,alpha=0.3)\n",
    "\n",
    "    \n",
    "\n",
    "plt.xlabel('Radius')\n",
    "plt.ylabel('np.std Angle Error')\n",
    "\n",
    "plt.xticks(list(np.unique(df_cont.loc[:, 'r_T'])))\n",
    "plt.legend(frameon=False)\n",
    "plt.gca().spines['right'].set_visible(False)\n",
    "plt.gca().spines['top'].set_visible(False)\n",
    "plt.gca().get_xaxis().tick_bottom()\n",
    "plt.gca().get_yaxis().tick_left()\n",
    "plt.show()\n",
    "\n",
    "\n",
    "print('P_value in sensory =' + str(scipy.stats.bartlett(std_data_cont[0], std_data_cont[1], std_data_cont[2])[1]))\n",
    "print('P_value in memory =' + str(scipy.stats.bartlett(std_data_cont3[0], std_data_cont3[1], std_data_cont3[2])[1]))\n",
    "\n",
    "print('P_value in r1 =' + str(scipy.stats.bartlett(std_data_cont[0], std_data_cont3[0])[1]))\n",
    "print('P_value in r2 =' + str(scipy.stats.bartlett(std_data_cont[1], std_data_cont3[1])[1]))\n",
    "print('P_value in r3 =' + str(scipy.stats.bartlett(std_data_cont[2], std_data_cont3[2])[1]))\n"
   ]
  },
  {
   "cell_type": "markdown",
   "metadata": {},
   "source": [
    "## Radial interference"
   ]
  },
  {
   "cell_type": "code",
   "execution_count": null,
   "metadata": {},
   "outputs": [],
   "source": [
    "dfr=data.loc[(data['type']==3) | (data['type']==4)]\n",
    "\n",
    "in_out=[]\n",
    "### in --> the target is closer to fixation\n",
    "### out --> the target is far from fixation\n",
    "\n",
    "for i in dfr.index:\n",
    "    if dfr.loc[i, 'r_T']<dfr.loc[i, 'r_NT']:\n",
    "        in_out.append('in')\n",
    "    else:\n",
    "        in_out.append('out')\n",
    "\n",
    "\n",
    "dfr['in_out'] = in_out\n",
    "\n",
    "\n",
    "print(len(dfr))\n",
    "\n",
    "def mod(target,report,radius_t, radius_r):\n",
    "    #units given in degrees and cm\n",
    "    y_t=np.array(radius_t*np.sin(np.radians(target)),dtype=np.float)\n",
    "    x_t=np.array(radius_t*np.cos(np.radians(target)),dtype=np.float)\n",
    "    y_r=np.array(radius_r*np.sin(np.radians(report)),dtype=np.float)\n",
    "    x_r=np.array(radius_r*np.cos(np.radians(report)),dtype=np.float)\n",
    "    m = np.sqrt((x_t - x_r)**2 + (y_t - y_r)**2)\n",
    "    return m\n",
    "\n",
    "\n",
    "modules = [round(mod(dfr.loc[i,'A_T'], dfr.loc[i,'A_R'], dfr.loc[i,'r_T'], dfr.loc[i,'r_R']),3) for i in dfr.index]\n",
    "dfr['modules']=modules\n",
    "\n",
    "\n",
    "from pandas import concat\n",
    "frames=[]\n",
    "for group_label in dfr.subject.unique():\n",
    "    sub_group=dfr.groupby('subject').get_group(group_label)\n",
    "    #CI\n",
    "    #interval = sub_group.quantile([0.025, 0.975]).unstack(level=1)['A_err']\n",
    "    #removed_out = sub_group.loc[(sub_group['A_err']>interval.iloc[0]) & (sub_group['A_err']<interval.iloc[1])] \n",
    "    #\n",
    "    #Quartiles\n",
    "    limit=sub_group['modules'].mean() + 2*sub_group['modules'].std()\n",
    "    #print(round(limit,2))\n",
    "    removed_out =sub_group.loc[sub_group['modules']<limit  ]\n",
    "    \n",
    "    \n",
    "    frames.append(removed_out)\n",
    "    \n",
    "    #Print the result\n",
    "    before_outliers=len(sub_group)\n",
    "    after_outliers=len(removed_out)\n",
    "    print( 'Outliers in ' + str(group_label) + ' = ' +str(before_outliers-after_outliers) + ', limit=' +str(round(limit,2))  + 'cm')\n",
    "    \n",
    "\n",
    "\n",
    "dfr = concat(frames)\n",
    "print(len(dfr))\n",
    "\n",
    "### Distribution A_Err in cw-ccw\n",
    "sns.distplot(dfr.loc[ dfr['r_T']==7.72, 'r_R'], color='b', label='7.72')\n",
    "sns.distplot(dfr.loc[ dfr['r_T']==10.7, 'r_R'], color='g', label='10.7')\n",
    "sns.distplot(dfr.loc[ dfr['r_T']==13.68, 'r_R'], color='r', label='13.68')\n",
    "plt.title('Distribution radial response')\n",
    "plt.legend(frameon=False)\n",
    "plt.gca().spines['right'].set_visible(False)\n",
    "plt.gca().spines['top'].set_visible(False)\n",
    "plt.gca().get_xaxis().tick_bottom()\n",
    "plt.gca().get_yaxis().tick_left()\n",
    "plt.xlabel('radial response')\n",
    "\n",
    "plt.plot([7.72, 7.72], [0, 0.4], 'k--')\n",
    "plt.plot([10.7, 10.7], [0, 0.4], 'k--')\n",
    "plt.plot([13.68, 13.68], [0, 0.4], 'k--')\n",
    "plt.show()\n",
    "\n",
    "sns.pointplot(x='r_T', y='r_err', hue='delay', x_estimator=np.mean, legend=False, data=dfr)\n",
    "plt.legend(frameon=False)\n",
    "plt.title('Drift to fixation')\n",
    "plt.xlabel('Radius target')\n",
    "plt.ylabel('Attraction fixation (cm)')\n",
    "plt.gca().spines['right'].set_visible(False)\n",
    "plt.gca().spines['top'].set_visible(False)\n",
    "plt.gca().get_xaxis().tick_bottom()\n",
    "plt.gca().get_yaxis().tick_left()\n",
    "plt.show()\n",
    "\n",
    "\n",
    "\n",
    "dfr['drift_norm'] = dfr['r_err']  / dfr['r_T']\n",
    "sns.pointplot(x='r_T', y='drift_norm', hue='delay', x_estimator=np.mean, legend=False, data=dfr)\n",
    "plt.legend(frameon=False)\n",
    "plt.title('Drift to fixation normalized')\n",
    "plt.xlabel('Radius target')\n",
    "plt.ylabel('Attraction fixation (cm)')\n",
    "plt.gca().spines['right'].set_visible(False)\n",
    "plt.gca().spines['top'].set_visible(False)\n",
    "plt.gca().get_xaxis().tick_bottom()\n",
    "plt.gca().get_yaxis().tick_left()\n",
    "plt.show()"
   ]
  },
  {
   "cell_type": "code",
   "execution_count": null,
   "metadata": {
    "scrolled": true
   },
   "outputs": [],
   "source": [
    "sns.pointplot(x='r_T', y='Int_r_err', hue='in_out', hue_order=['in', 'out'], ci=68, \n",
    "              estimator=np.mean, palette=['r', 'g'], legend=False, data=dfr, join=False)\n",
    "\n",
    "plt.legend(frameon=False)\n",
    "plt.title('Interference in radial dimension')\n",
    "plt.xlabel('Target radius')\n",
    "plt.ylabel('Attraction bias (cm)')\n",
    "plt.gca().spines['right'].set_visible(False)\n",
    "plt.gca().spines['top'].set_visible(False)\n",
    "plt.gca().get_xaxis().tick_bottom()\n",
    "plt.plot([-0.1,2.1], [0,0], 'k--')\n",
    "plt.gca().get_yaxis().tick_left()\n",
    "plt.show()\n",
    "\n"
   ]
  },
  {
   "cell_type": "code",
   "execution_count": null,
   "metadata": {},
   "outputs": [],
   "source": [
    "### Delay component\n",
    "\n",
    "sns.factorplot(x='r_T', y='Int_r_err', hue='delay', hue_order=[0, 3], palette=['b','g'], data=dfr.loc[dfr['in_out']=='in'], join=False)\n",
    "plt.title('Delay dependence in')\n",
    "plt.xlabel('Target radius')\n",
    "plt.ylabel('Attraction bias (cm)')\n",
    "plt.gca().spines['right'].set_visible(False)\n",
    "plt.gca().spines['top'].set_visible(False)\n",
    "plt.gca().get_xaxis().tick_bottom()\n",
    "plt.plot([-0.1,1.1], [0,0], 'k--')\n",
    "plt.gca().get_yaxis().tick_left()\n",
    "plt.show()\n",
    "\n",
    "sns.factorplot(x='r_T', y='Int_r_err', hue='delay', hue_order=[0, 3], palette=['b','g'],  data=dfr.loc[dfr['in_out']=='out'], join=False)\n",
    "plt.title('Delay dependence out')\n",
    "plt.xlabel('Target radius')\n",
    "plt.ylabel('Attraction bias (cm)')\n",
    "plt.gca().spines['right'].set_visible(False)\n",
    "plt.gca().spines['top'].set_visible(False)\n",
    "plt.gca().get_xaxis().tick_bottom()\n",
    "plt.plot([-0.1,1.1], [0,0], 'k--')\n",
    "plt.gca().get_yaxis().tick_left()\n",
    "plt.show()\n"
   ]
  },
  {
   "cell_type": "code",
   "execution_count": null,
   "metadata": {},
   "outputs": [],
   "source": []
  },
  {
   "cell_type": "code",
   "execution_count": null,
   "metadata": {},
   "outputs": [],
   "source": []
  }
 ],
 "metadata": {
  "kernelspec": {
   "display_name": "Python 3",
   "language": "python",
   "name": "python3"
  },
  "language_info": {
   "codemirror_mode": {
    "name": "ipython",
    "version": 3
   },
   "file_extension": ".py",
   "mimetype": "text/x-python",
   "name": "python",
   "nbconvert_exporter": "python",
   "pygments_lexer": "ipython3",
   "version": "3.5.6"
  }
 },
 "nbformat": 4,
 "nbformat_minor": 2
}
