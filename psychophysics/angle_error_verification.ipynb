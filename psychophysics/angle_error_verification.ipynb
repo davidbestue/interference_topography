{
 "cells": [
  {
   "cell_type": "code",
   "execution_count": 2,
   "metadata": {},
   "outputs": [],
   "source": [
    "import numpy as np\n",
    "import pandas as pd\n",
    "import seaborn as sns\n",
    "import matplotlib.pyplot as plt\n"
   ]
  },
  {
   "cell_type": "code",
   "execution_count": 40,
   "metadata": {},
   "outputs": [
    {
     "data": {
      "text/html": [
       "<div>\n",
       "<style scoped>\n",
       "    .dataframe tbody tr th:only-of-type {\n",
       "        vertical-align: middle;\n",
       "    }\n",
       "\n",
       "    .dataframe tbody tr th {\n",
       "        vertical-align: top;\n",
       "    }\n",
       "\n",
       "    .dataframe thead th {\n",
       "        text-align: right;\n",
       "    }\n",
       "</style>\n",
       "<table border=\"1\" class=\"dataframe\">\n",
       "  <thead>\n",
       "    <tr style=\"text-align: right;\">\n",
       "      <th></th>\n",
       "      <th>response</th>\n",
       "      <th>target</th>\n",
       "      <th>orient</th>\n",
       "      <th>distractor</th>\n",
       "      <th>error</th>\n",
       "    </tr>\n",
       "  </thead>\n",
       "  <tbody>\n",
       "    <tr>\n",
       "      <th>0</th>\n",
       "      <td>45.008255</td>\n",
       "      <td>45</td>\n",
       "      <td>cw</td>\n",
       "      <td>55</td>\n",
       "      <td>-0.008255</td>\n",
       "    </tr>\n",
       "    <tr>\n",
       "      <th>1</th>\n",
       "      <td>51.390183</td>\n",
       "      <td>45</td>\n",
       "      <td>cw</td>\n",
       "      <td>55</td>\n",
       "      <td>-6.390183</td>\n",
       "    </tr>\n",
       "    <tr>\n",
       "      <th>2</th>\n",
       "      <td>42.695156</td>\n",
       "      <td>45</td>\n",
       "      <td>cw</td>\n",
       "      <td>55</td>\n",
       "      <td>2.304844</td>\n",
       "    </tr>\n",
       "    <tr>\n",
       "      <th>3</th>\n",
       "      <td>66.887918</td>\n",
       "      <td>45</td>\n",
       "      <td>cw</td>\n",
       "      <td>55</td>\n",
       "      <td>-21.887918</td>\n",
       "    </tr>\n",
       "    <tr>\n",
       "      <th>4</th>\n",
       "      <td>50.152117</td>\n",
       "      <td>45</td>\n",
       "      <td>cw</td>\n",
       "      <td>55</td>\n",
       "      <td>-5.152117</td>\n",
       "    </tr>\n",
       "    <tr>\n",
       "      <th>5</th>\n",
       "      <td>42.643411</td>\n",
       "      <td>45</td>\n",
       "      <td>cw</td>\n",
       "      <td>55</td>\n",
       "      <td>2.356589</td>\n",
       "    </tr>\n",
       "    <tr>\n",
       "      <th>6</th>\n",
       "      <td>51.752546</td>\n",
       "      <td>45</td>\n",
       "      <td>cw</td>\n",
       "      <td>55</td>\n",
       "      <td>-6.752546</td>\n",
       "    </tr>\n",
       "    <tr>\n",
       "      <th>7</th>\n",
       "      <td>45.827316</td>\n",
       "      <td>45</td>\n",
       "      <td>cw</td>\n",
       "      <td>55</td>\n",
       "      <td>-0.827316</td>\n",
       "    </tr>\n",
       "    <tr>\n",
       "      <th>8</th>\n",
       "      <td>51.966691</td>\n",
       "      <td>45</td>\n",
       "      <td>cw</td>\n",
       "      <td>55</td>\n",
       "      <td>-6.966691</td>\n",
       "    </tr>\n",
       "    <tr>\n",
       "      <th>9</th>\n",
       "      <td>57.266441</td>\n",
       "      <td>45</td>\n",
       "      <td>cw</td>\n",
       "      <td>55</td>\n",
       "      <td>-12.266441</td>\n",
       "    </tr>\n",
       "  </tbody>\n",
       "</table>\n",
       "</div>"
      ],
      "text/plain": [
       "    response  target orient  distractor      error\n",
       "0  45.008255      45     cw          55  -0.008255\n",
       "1  51.390183      45     cw          55  -6.390183\n",
       "2  42.695156      45     cw          55   2.304844\n",
       "3  66.887918      45     cw          55 -21.887918\n",
       "4  50.152117      45     cw          55  -5.152117\n",
       "5  42.643411      45     cw          55   2.356589\n",
       "6  51.752546      45     cw          55  -6.752546\n",
       "7  45.827316      45     cw          55  -0.827316\n",
       "8  51.966691      45     cw          55  -6.966691\n",
       "9  57.266441      45     cw          55 -12.266441"
      ]
     },
     "execution_count": 40,
     "metadata": {},
     "output_type": "execute_result"
    }
   ],
   "source": [
    "##Generate fake data\n",
    "target=45\n",
    "real_error = 5 ## attraction of 5 degrees\n",
    "distractor_dit = 10\n",
    "response_cw = np.random.normal(target + real_error, 5, 1000)\n",
    "response_ccw = np.random.normal(target - real_error, 5, 1000)\n",
    "\n",
    "cw=pd.DataFrame({'response':response_cw})\n",
    "cw['target'] = 45\n",
    "cw['orient'] = 'cw'\n",
    "cw['distractor'] = target + distractor_dit\n",
    "\n",
    "ccw=pd.DataFrame({'response':response_ccw})\n",
    "ccw['target'] = 45\n",
    "ccw['orient'] = 'ccw'\n",
    "ccw['distractor'] = target - distractor_dit\n",
    "\n",
    "df=pd.concat([cw, ccw], ignore_index=True)\n",
    "df['error'] = df['target'] - df['response']\n",
    "df.head(10)"
   ]
  },
  {
   "cell_type": "code",
   "execution_count": 41,
   "metadata": {},
   "outputs": [
    {
     "name": "stderr",
     "output_type": "stream",
     "text": [
      "C:\\Users\\David\\Anaconda3\\envs\\python3\\lib\\site-packages\\scipy\\stats\\stats.py:1713: FutureWarning: Using a non-tuple sequence for multidimensional indexing is deprecated; use `arr[tuple(seq)]` instead of `arr[seq]`. In the future this will be interpreted as an array index, `arr[np.array(seq)]`, which will result either in an error or a different result.\n",
      "  return np.add.reduce(sorted[indexer] * weights, axis=axis) / sumval\n"
     ]
    },
    {
     "data": {
      "image/png": "[encoded data removed]",
      "text/plain": [
       "<Figure size 432x288 with 1 Axes>"
      ]
     },
     "metadata": {
      "needs_background": "light"
     },
     "output_type": "display_data"
    }
   ],
   "source": [
    "sns.distplot(df.loc[df['orient']=='cw', 'error'], label='cw')\n",
    "sns.distplot(df.loc[df['orient']=='ccw', 'error'], label='ccw')\n",
    "plt.title('Distribution cw ccw')\n",
    "plt.legend(frameon=False)\n",
    "plt.gca().spines['right'].set_visible(False)\n",
    "plt.gca().spines['top'].set_visible(False)\n",
    "plt.gca().get_xaxis().tick_bottom()\n",
    "plt.gca().get_yaxis().tick_left()\n",
    "plt.xlabel('Angle error (Target-Response)')\n",
    "plt.show()"
   ]
  },
  {
   "cell_type": "code",
   "execution_count": null,
   "metadata": {},
   "outputs": [],
   "source": [
    "## Check the interference effects function"
   ]
  },
  {
   "cell_type": "code",
   "execution_count": 42,
   "metadata": {},
   "outputs": [
    {
     "name": "stdout",
     "output_type": "stream",
     "text": [
      "5.0\n"
     ]
    }
   ],
   "source": [
    "def circ_dist(a1,a2):\n",
    "    ## Returns the minimal distance in angles between to angles \n",
    "    op1=abs(a2-a1)\n",
    "    angs=[a1,a2]\n",
    "    op2=min(angs)+(360-max(angs))\n",
    "    options=[op1,op2]\n",
    "    return min(options)\n",
    "\n",
    "\n",
    "\n",
    "\n",
    "def Interference_effects(target, response, reference):\n",
    "    #input list of target, list of responses and list of references\n",
    "    #Error_interference; positive for attraction and negative for repulsion\n",
    "    #######\n",
    "    #Decimals to get\n",
    "    decimals=2\n",
    "    ####\n",
    "    interferences=[]\n",
    "    for i in range(0, len(target)):\n",
    "        angle_err_abs=abs(target[i] - response[i])\n",
    "        if circ_dist(np.array(response)[i], np.array(reference)[i])<=circ_dist(np.array(target)[i], np.array(reference)[i]):\n",
    "            Err_interference=round( angle_err_abs, decimals) \n",
    "        else:\n",
    "            Err_interference=round( -angle_err_abs, decimals)\n",
    "\n",
    "        interferences.append(Err_interference)\n",
    "    \n",
    "    return interferences\n",
    "\n",
    "\n",
    "\n",
    "values = Interference_effects(   list(df['target']),   list(df['response']),  list(df['distractor'])  )\n",
    "print( round(np.mean(values)) )\n",
    "\n",
    "df['interference_error'] = values\n"
   ]
  },
  {
   "cell_type": "code",
   "execution_count": 49,
   "metadata": {},
   "outputs": [
    {
     "name": "stdout",
     "output_type": "stream",
     "text": [
      "{'cw': -4.994, 'ccw': 4.99}\n",
      "5.0\n"
     ]
    }
   ],
   "source": [
    "means_cw_ccw={}\n",
    "\n",
    "for ori in ['cw', 'ccw']:\n",
    "    mean = round(df.loc[ df['orient']==ori,  'error'].mean(), 3)\n",
    "    means_cw_ccw[ori] = mean\n",
    "\n",
    "    \n",
    "print(means_cw_ccw)\n",
    "\n",
    "\n",
    "cw_ccw_distance=[]\n",
    "\n",
    "for i in df.index:\n",
    "    or_ = df.loc[i, 'orient']\n",
    "    if or_ == 'cw':\n",
    "        or_cont = 'ccw'\n",
    "    elif or_ =='ccw':\n",
    "        or_cont = 'cw' \n",
    "    else:\n",
    "        print('Error')\n",
    "    idx =  or_cont\n",
    "    #\n",
    "    if or_ == 'ccw':\n",
    "        cw_ccw_distance.append(df.loc[i, 'error'] - means_cw_ccw[idx] )  \n",
    "    elif or_ =='cw':\n",
    "        cw_ccw_distance.append( means_cw_ccw[idx] - df.loc[i, 'error'])  \n",
    "    else:\n",
    "        print('Error')\n",
    "    \n",
    "\n",
    "\n",
    "print( round(np.mean(np.array(cw_ccw_distance)/2)) )\n",
    "df['error distance'] =np.array(cw_ccw_distance)/2\n",
    "\n",
    "\n"
   ]
  },
  {
   "cell_type": "code",
   "execution_count": null,
   "metadata": {},
   "outputs": [],
   "source": [
    "## Check dist err method \n",
    "\n",
    "\n",
    "##### DISTANCE TO MEAN OF CW AND CCW as a measure\n",
    "means_cw_ccw={}\n",
    "\n",
    "for ori in ['cw', 'ccw']:\n",
    "    mean = round(df.loc[ df['cw_ccw']==ori,  'error'].mean(), 3)\n",
    "    means_cw_ccw[ori] = mean\n",
    "                \n",
    "\n",
    "        \n",
    "cw_ccw_distance=[]\n",
    "\n",
    "for i in df.index:\n",
    "    or_ = df.loc[i, 'cw_ccw']\n",
    "    if or_ == 'cw':\n",
    "        or_cont = 'ccw'\n",
    "    elif or_ =='ccw':\n",
    "        or_cont = 'cw' \n",
    "    else:\n",
    "        print('Error')\n",
    "    idx =  str(df.loc[i, 'subject'])+ '_' + str(df.loc[i, 'r_T']) + '_' +str(df.loc[i, 'dist_T_NT']) +'_' +str(df.loc[i, 'delay']) +'_'  + or_cont\n",
    "    #\n",
    "    if or_ == 'ccw':\n",
    "        cw_ccw_distance.append(df.loc[i, 'A_err'] - means_cw[idx] )  \n",
    "    elif or_ =='cw':\n",
    "        cw_ccw_distance.append( means_cw[idx] - df.loc[i, 'A_err'])  \n",
    "    else:\n",
    "        print('Error')\n",
    "    \n",
    "\n"
   ]
  }
 ],
 "metadata": {
  "kernelspec": {
   "display_name": "Python 3",
   "language": "python",
   "name": "python3"
  },
  "language_info": {
   "codemirror_mode": {
    "name": "ipython",
    "version": 3
   },
   "file_extension": ".py",
   "mimetype": "text/x-python",
   "name": "python",
   "nbconvert_exporter": "python",
   "pygments_lexer": "ipython3",
   "version": "3.5.6"
  }
 },
 "nbformat": 4,
 "nbformat_minor": 2
}
