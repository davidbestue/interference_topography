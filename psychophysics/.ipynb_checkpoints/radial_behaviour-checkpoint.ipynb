{
 "cells": [
  {
   "cell_type": "code",
   "execution_count": 1,
   "metadata": {},
   "outputs": [],
   "source": [
    "from linares_plot import *"
   ]
  },
  {
   "cell_type": "code",
   "execution_count": 2,
   "metadata": {},
   "outputs": [],
   "source": [
    "data = pd.read_csv('C:\\\\Users\\\\David\\\\Dropbox\\\\IDIBAPS\\\\my code\\\\Project 1 (master thesis)\\\\idibaps_psychophysics')"
   ]
  },
  {
   "cell_type": "code",
   "execution_count": 8,
   "metadata": {},
   "outputs": [
    {
     "data": {
      "text/plain": [
       "array([0., 4., 1., 3., 2.])"
      ]
     },
     "execution_count": 8,
     "metadata": {},
     "output_type": "execute_result"
    }
   ],
   "source": [
    "data.type.unique()"
   ]
  },
  {
   "cell_type": "code",
   "execution_count": 9,
   "metadata": {},
   "outputs": [
    {
     "data": {
      "text/html": [
       "<div>\n",
       "<style scoped>\n",
       "    .dataframe tbody tr th:only-of-type {\n",
       "        vertical-align: middle;\n",
       "    }\n",
       "\n",
       "    .dataframe tbody tr th {\n",
       "        vertical-align: top;\n",
       "    }\n",
       "\n",
       "    .dataframe thead th {\n",
       "        text-align: right;\n",
       "    }\n",
       "</style>\n",
       "<table border=\"1\" class=\"dataframe\">\n",
       "  <thead>\n",
       "    <tr style=\"text-align: right;\">\n",
       "      <th></th>\n",
       "      <th>Unnamed: 0</th>\n",
       "      <th>r_T</th>\n",
       "      <th>r_NT</th>\n",
       "      <th>delay</th>\n",
       "      <th>type</th>\n",
       "      <th>A_T</th>\n",
       "      <th>A_NT</th>\n",
       "      <th>A_err</th>\n",
       "      <th>r_err</th>\n",
       "      <th>A_R</th>\n",
       "      <th>r_R</th>\n",
       "      <th>subject</th>\n",
       "      <th>session</th>\n",
       "      <th>Int_A_err</th>\n",
       "      <th>Int_r_err</th>\n",
       "    </tr>\n",
       "  </thead>\n",
       "  <tbody>\n",
       "    <tr>\n",
       "      <th>0</th>\n",
       "      <td>0</td>\n",
       "      <td>13.68</td>\n",
       "      <td>NaN</td>\n",
       "      <td>0.0</td>\n",
       "      <td>0.0</td>\n",
       "      <td>314.0</td>\n",
       "      <td>NaN</td>\n",
       "      <td>-1.90</td>\n",
       "      <td>1.81</td>\n",
       "      <td>315.90</td>\n",
       "      <td>11.87</td>\n",
       "      <td>1</td>\n",
       "      <td>1</td>\n",
       "      <td>NaN</td>\n",
       "      <td>NaN</td>\n",
       "    </tr>\n",
       "    <tr>\n",
       "      <th>2</th>\n",
       "      <td>2</td>\n",
       "      <td>10.70</td>\n",
       "      <td>NaN</td>\n",
       "      <td>3.0</td>\n",
       "      <td>0.0</td>\n",
       "      <td>50.0</td>\n",
       "      <td>NaN</td>\n",
       "      <td>6.38</td>\n",
       "      <td>2.97</td>\n",
       "      <td>43.62</td>\n",
       "      <td>7.73</td>\n",
       "      <td>1</td>\n",
       "      <td>1</td>\n",
       "      <td>NaN</td>\n",
       "      <td>NaN</td>\n",
       "    </tr>\n",
       "    <tr>\n",
       "      <th>5</th>\n",
       "      <td>5</td>\n",
       "      <td>13.68</td>\n",
       "      <td>NaN</td>\n",
       "      <td>0.0</td>\n",
       "      <td>0.0</td>\n",
       "      <td>129.0</td>\n",
       "      <td>NaN</td>\n",
       "      <td>-10.73</td>\n",
       "      <td>0.62</td>\n",
       "      <td>139.73</td>\n",
       "      <td>13.06</td>\n",
       "      <td>1</td>\n",
       "      <td>1</td>\n",
       "      <td>NaN</td>\n",
       "      <td>NaN</td>\n",
       "    </tr>\n",
       "    <tr>\n",
       "      <th>6</th>\n",
       "      <td>6</td>\n",
       "      <td>13.68</td>\n",
       "      <td>NaN</td>\n",
       "      <td>3.0</td>\n",
       "      <td>0.0</td>\n",
       "      <td>304.0</td>\n",
       "      <td>NaN</td>\n",
       "      <td>4.01</td>\n",
       "      <td>0.96</td>\n",
       "      <td>299.99</td>\n",
       "      <td>12.72</td>\n",
       "      <td>1</td>\n",
       "      <td>1</td>\n",
       "      <td>NaN</td>\n",
       "      <td>NaN</td>\n",
       "    </tr>\n",
       "    <tr>\n",
       "      <th>7</th>\n",
       "      <td>7</td>\n",
       "      <td>13.68</td>\n",
       "      <td>NaN</td>\n",
       "      <td>3.0</td>\n",
       "      <td>0.0</td>\n",
       "      <td>215.0</td>\n",
       "      <td>NaN</td>\n",
       "      <td>-1.36</td>\n",
       "      <td>-1.49</td>\n",
       "      <td>216.36</td>\n",
       "      <td>15.17</td>\n",
       "      <td>1</td>\n",
       "      <td>1</td>\n",
       "      <td>NaN</td>\n",
       "      <td>NaN</td>\n",
       "    </tr>\n",
       "  </tbody>\n",
       "</table>\n",
       "</div>"
      ],
      "text/plain": [
       "   Unnamed: 0    r_T  r_NT  delay  type    A_T  A_NT  A_err  r_err     A_R  \\\n",
       "0           0  13.68   NaN    0.0   0.0  314.0   NaN  -1.90   1.81  315.90   \n",
       "2           2  10.70   NaN    3.0   0.0   50.0   NaN   6.38   2.97   43.62   \n",
       "5           5  13.68   NaN    0.0   0.0  129.0   NaN -10.73   0.62  139.73   \n",
       "6           6  13.68   NaN    3.0   0.0  304.0   NaN   4.01   0.96  299.99   \n",
       "7           7  13.68   NaN    3.0   0.0  215.0   NaN  -1.36  -1.49  216.36   \n",
       "\n",
       "     r_R  subject  session  Int_A_err  Int_r_err  \n",
       "0  11.87        1        1        NaN        NaN  \n",
       "2   7.73        1        1        NaN        NaN  \n",
       "5  13.06        1        1        NaN        NaN  \n",
       "6  12.72        1        1        NaN        NaN  \n",
       "7  15.17        1        1        NaN        NaN  "
      ]
     },
     "execution_count": 9,
     "metadata": {},
     "output_type": "execute_result"
    }
   ],
   "source": [
    "df_controls = data.loc[data['type']==0]\n",
    "df_controls.head()"
   ]
  },
  {
   "cell_type": "code",
   "execution_count": 13,
   "metadata": {},
   "outputs": [
    {
     "data": {
      "text/plain": [
       "array([ 1,  2,  3,  4,  5,  6,  7,  8,  9, 10, 11, 12, 13, 14, 15, 16, 17,\n",
       "       18], dtype=int64)"
      ]
     },
     "execution_count": 13,
     "metadata": {},
     "output_type": "execute_result"
    }
   ],
   "source": [
    "df_controls.subject.unique()"
   ]
  },
  {
   "cell_type": "code",
   "execution_count": 19,
   "metadata": {},
   "outputs": [
    {
     "data": {
      "image/png": "[encoded data removed]",
      "text/plain": [
       "<Figure size 432x288 with 1 Axes>"
      ]
     },
     "metadata": {
      "needs_background": "light"
     },
     "output_type": "display_data"
    }
   ],
   "source": [
    "linares_plot(x='r_T', y='r_err', hue='delay', order=[7.72, 10.7, 13.68], hue_order=[0,3],\n",
    "             alpha=0.4, palette=['blue', 'green'], df=df_controls, point_size=7,  by_subj=True, subj_col='subject',\n",
    "             plot_box=True, fill_box=True, reps=100, alpha_box=0.25, sep_axis=False)"
   ]
  },
  {
   "cell_type": "code",
   "execution_count": null,
   "metadata": {},
   "outputs": [],
   "source": []
  },
  {
   "cell_type": "code",
   "execution_count": null,
   "metadata": {},
   "outputs": [],
   "source": [
    "dfr=data.loc[(data['type']==3) | (data['type']==4)]\n",
    "\n",
    "in_out=[]\n",
    "### in --> the target is closer to fixation\n",
    "### out --> the target is far from fixation\n",
    "\n",
    "for i in dfr.index:\n",
    "    if dfr.loc[i, 'r_T']<dfr.loc[i, 'r_NT']:\n",
    "        in_out.append('in')\n",
    "    else:\n",
    "        in_out.append('out')\n",
    "\n",
    "\n",
    "dfr['in_out'] = in_out\n",
    "\n",
    "\n",
    "print(len(dfr))\n",
    "\n",
    "def mod(target,report,radius_t, radius_r):\n",
    "    #units given in degrees and cm\n",
    "    y_t=np.array(radius_t*np.sin(np.radians(target)),dtype=np.float)\n",
    "    x_t=np.array(radius_t*np.cos(np.radians(target)),dtype=np.float)\n",
    "    y_r=np.array(radius_r*np.sin(np.radians(report)),dtype=np.float)\n",
    "    x_r=np.array(radius_r*np.cos(np.radians(report)),dtype=np.float)\n",
    "    m = np.sqrt((x_t - x_r)**2 + (y_t - y_r)**2)\n",
    "    return m\n",
    "\n",
    "\n",
    "modules = [round(mod(dfr.loc[i,'A_T'], dfr.loc[i,'A_R'], dfr.loc[i,'r_T'], dfr.loc[i,'r_R']),3) for i in dfr.index]\n",
    "dfr['modules']=modules\n",
    "\n",
    "\n",
    "from pandas import concat\n",
    "frames=[]\n",
    "for group_label in dfr.subject.unique():\n",
    "    sub_group=dfr.groupby('subject').get_group(group_label)\n",
    "    #CI\n",
    "    #interval = sub_group.quantile([0.025, 0.975]).unstack(level=1)['A_err']\n",
    "    #removed_out = sub_group.loc[(sub_group['A_err']>interval.iloc[0]) & (sub_group['A_err']<interval.iloc[1])] \n",
    "    #\n",
    "    #Quartiles\n",
    "    limit=sub_group['modules'].mean() + 2*sub_group['modules'].std()\n",
    "    #print(round(limit,2))\n",
    "    removed_out =sub_group.loc[sub_group['modules']<limit  ]\n",
    "    \n",
    "    \n",
    "    frames.append(removed_out)\n",
    "    \n",
    "    #Print the result\n",
    "    before_outliers=len(sub_group)\n",
    "    after_outliers=len(removed_out)\n",
    "    print( 'Outliers in ' + str(group_label) + ' = ' +str(before_outliers-after_outliers) + ', limit=' +str(round(limit,2))  + 'cm')\n",
    "    \n",
    "\n",
    "\n",
    "dfr = concat(frames)\n",
    "print(len(dfr))\n",
    "\n",
    "### Distribution A_Err in cw-ccw\n",
    "sns.distplot(dfr.loc[ dfr['r_T']==7.72, 'r_R'], color='b', label='7.72')\n",
    "sns.distplot(dfr.loc[ dfr['r_T']==10.7, 'r_R'], color='g', label='10.7')\n",
    "sns.distplot(dfr.loc[ dfr['r_T']==13.68, 'r_R'], color='r', label='13.68')\n",
    "plt.title('Distribution radial response')\n",
    "plt.legend(frameon=False)\n",
    "plt.gca().spines['right'].set_visible(False)\n",
    "plt.gca().spines['top'].set_visible(False)\n",
    "plt.gca().get_xaxis().tick_bottom()\n",
    "plt.gca().get_yaxis().tick_left()\n",
    "plt.xlabel('radial response')\n",
    "\n",
    "plt.plot([7.72, 7.72], [0, 0.4], 'k--')\n",
    "plt.plot([10.7, 10.7], [0, 0.4], 'k--')\n",
    "plt.plot([13.68, 13.68], [0, 0.4], 'k--')\n",
    "plt.show()\n",
    "\n",
    "sns.pointplot(x='r_T', y='r_err', hue='delay', x_estimator=np.mean, legend=False, data=dfr)\n",
    "plt.legend(frameon=False)\n",
    "plt.title('Drift to fixation')\n",
    "plt.xlabel('Radius target')\n",
    "plt.ylabel('Attraction fixation (cm)')\n",
    "plt.gca().spines['right'].set_visible(False)\n",
    "plt.gca().spines['top'].set_visible(False)\n",
    "plt.gca().get_xaxis().tick_bottom()\n",
    "plt.gca().get_yaxis().tick_left()\n",
    "plt.show()\n",
    "\n",
    "\n",
    "\n",
    "dfr['drift_norm'] = dfr['r_err']  / dfr['r_T']\n",
    "sns.pointplot(x='r_T', y='drift_norm', hue='delay', x_estimator=np.mean, legend=False, data=dfr)\n",
    "plt.legend(frameon=False)\n",
    "plt.title('Drift to fixation normalized')\n",
    "plt.xlabel('Radius target')\n",
    "plt.ylabel('Attraction fixation (cm)')\n",
    "plt.gca().spines['right'].set_visible(False)\n",
    "plt.gca().spines['top'].set_visible(False)\n",
    "plt.gca().get_xaxis().tick_bottom()\n",
    "plt.gca().get_yaxis().tick_left()\n",
    "plt.show()"
   ]
  }
 ],
 "metadata": {
  "kernelspec": {
   "display_name": "Python 3",
   "language": "python",
   "name": "python3"
  },
  "language_info": {
   "codemirror_mode": {
    "name": "ipython",
    "version": 3
   },
   "file_extension": ".py",
   "mimetype": "text/x-python",
   "name": "python",
   "nbconvert_exporter": "python",
   "pygments_lexer": "ipython3",
   "version": "3.5.6"
  }
 },
 "nbformat": 4,
 "nbformat_minor": 2
}
