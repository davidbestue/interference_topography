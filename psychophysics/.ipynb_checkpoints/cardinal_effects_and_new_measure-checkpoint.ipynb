{
 "cells": [
  {
   "cell_type": "code",
   "execution_count": 1,
   "metadata": {},
   "outputs": [],
   "source": [
    "from linares_plot import *"
   ]
  },
  {
   "cell_type": "code",
   "execution_count": 2,
   "metadata": {},
   "outputs": [],
   "source": [
    "data = pd.read_csv('C:\\\\Users\\\\David\\\\Dropbox\\\\IDIBAPS\\\\my code\\\\Project 1 (master thesis)\\\\idibaps_psychophysics')\n",
    "df=data.loc[(data['type']==0)] ##controls"
   ]
  },
  {
   "cell_type": "code",
   "execution_count": 4,
   "metadata": {},
   "outputs": [
    {
     "data": {
      "text/html": [
       "<div>\n",
       "<style scoped>\n",
       "    .dataframe tbody tr th:only-of-type {\n",
       "        vertical-align: middle;\n",
       "    }\n",
       "\n",
       "    .dataframe tbody tr th {\n",
       "        vertical-align: top;\n",
       "    }\n",
       "\n",
       "    .dataframe thead th {\n",
       "        text-align: right;\n",
       "    }\n",
       "</style>\n",
       "<table border=\"1\" class=\"dataframe\">\n",
       "  <thead>\n",
       "    <tr style=\"text-align: right;\">\n",
       "      <th></th>\n",
       "      <th>Unnamed: 0</th>\n",
       "      <th>r_T</th>\n",
       "      <th>r_NT</th>\n",
       "      <th>delay</th>\n",
       "      <th>type</th>\n",
       "      <th>A_T</th>\n",
       "      <th>A_NT</th>\n",
       "      <th>A_err</th>\n",
       "      <th>r_err</th>\n",
       "      <th>A_R</th>\n",
       "      <th>r_R</th>\n",
       "      <th>subject</th>\n",
       "      <th>session</th>\n",
       "      <th>Int_A_err</th>\n",
       "      <th>Int_r_err</th>\n",
       "    </tr>\n",
       "  </thead>\n",
       "  <tbody>\n",
       "    <tr>\n",
       "      <th>0</th>\n",
       "      <td>0</td>\n",
       "      <td>13.68</td>\n",
       "      <td>NaN</td>\n",
       "      <td>0.0</td>\n",
       "      <td>0.0</td>\n",
       "      <td>314.0</td>\n",
       "      <td>NaN</td>\n",
       "      <td>-1.90</td>\n",
       "      <td>1.81</td>\n",
       "      <td>315.90</td>\n",
       "      <td>11.87</td>\n",
       "      <td>1</td>\n",
       "      <td>1</td>\n",
       "      <td>NaN</td>\n",
       "      <td>NaN</td>\n",
       "    </tr>\n",
       "    <tr>\n",
       "      <th>2</th>\n",
       "      <td>2</td>\n",
       "      <td>10.70</td>\n",
       "      <td>NaN</td>\n",
       "      <td>3.0</td>\n",
       "      <td>0.0</td>\n",
       "      <td>50.0</td>\n",
       "      <td>NaN</td>\n",
       "      <td>6.38</td>\n",
       "      <td>2.97</td>\n",
       "      <td>43.62</td>\n",
       "      <td>7.73</td>\n",
       "      <td>1</td>\n",
       "      <td>1</td>\n",
       "      <td>NaN</td>\n",
       "      <td>NaN</td>\n",
       "    </tr>\n",
       "    <tr>\n",
       "      <th>5</th>\n",
       "      <td>5</td>\n",
       "      <td>13.68</td>\n",
       "      <td>NaN</td>\n",
       "      <td>0.0</td>\n",
       "      <td>0.0</td>\n",
       "      <td>129.0</td>\n",
       "      <td>NaN</td>\n",
       "      <td>-10.73</td>\n",
       "      <td>0.62</td>\n",
       "      <td>139.73</td>\n",
       "      <td>13.06</td>\n",
       "      <td>1</td>\n",
       "      <td>1</td>\n",
       "      <td>NaN</td>\n",
       "      <td>NaN</td>\n",
       "    </tr>\n",
       "    <tr>\n",
       "      <th>6</th>\n",
       "      <td>6</td>\n",
       "      <td>13.68</td>\n",
       "      <td>NaN</td>\n",
       "      <td>3.0</td>\n",
       "      <td>0.0</td>\n",
       "      <td>304.0</td>\n",
       "      <td>NaN</td>\n",
       "      <td>4.01</td>\n",
       "      <td>0.96</td>\n",
       "      <td>299.99</td>\n",
       "      <td>12.72</td>\n",
       "      <td>1</td>\n",
       "      <td>1</td>\n",
       "      <td>NaN</td>\n",
       "      <td>NaN</td>\n",
       "    </tr>\n",
       "    <tr>\n",
       "      <th>7</th>\n",
       "      <td>7</td>\n",
       "      <td>13.68</td>\n",
       "      <td>NaN</td>\n",
       "      <td>3.0</td>\n",
       "      <td>0.0</td>\n",
       "      <td>215.0</td>\n",
       "      <td>NaN</td>\n",
       "      <td>-1.36</td>\n",
       "      <td>-1.49</td>\n",
       "      <td>216.36</td>\n",
       "      <td>15.17</td>\n",
       "      <td>1</td>\n",
       "      <td>1</td>\n",
       "      <td>NaN</td>\n",
       "      <td>NaN</td>\n",
       "    </tr>\n",
       "  </tbody>\n",
       "</table>\n",
       "</div>"
      ],
      "text/plain": [
       "   Unnamed: 0    r_T  r_NT  delay  type    A_T  A_NT  A_err  r_err     A_R  \\\n",
       "0           0  13.68   NaN    0.0   0.0  314.0   NaN  -1.90   1.81  315.90   \n",
       "2           2  10.70   NaN    3.0   0.0   50.0   NaN   6.38   2.97   43.62   \n",
       "5           5  13.68   NaN    0.0   0.0  129.0   NaN -10.73   0.62  139.73   \n",
       "6           6  13.68   NaN    3.0   0.0  304.0   NaN   4.01   0.96  299.99   \n",
       "7           7  13.68   NaN    3.0   0.0  215.0   NaN  -1.36  -1.49  216.36   \n",
       "\n",
       "     r_R  subject  session  Int_A_err  Int_r_err  \n",
       "0  11.87        1        1        NaN        NaN  \n",
       "2   7.73        1        1        NaN        NaN  \n",
       "5  13.06        1        1        NaN        NaN  \n",
       "6  12.72        1        1        NaN        NaN  \n",
       "7  15.17        1        1        NaN        NaN  "
      ]
     },
     "execution_count": 4,
     "metadata": {},
     "output_type": "execute_result"
    }
   ],
   "source": [
    "df.head()"
   ]
  },
  {
   "cell_type": "code",
   "execution_count": 17,
   "metadata": {},
   "outputs": [
    {
     "name": "stderr",
     "output_type": "stream",
     "text": [
      "C:\\Users\\David\\Anaconda3\\envs\\python3\\lib\\site-packages\\scipy\\stats\\stats.py:1713: FutureWarning: Using a non-tuple sequence for multidimensional indexing is deprecated; use `arr[tuple(seq)]` instead of `arr[seq]`. In the future this will be interpreted as an array index, `arr[np.array(seq)]`, which will result either in an error or a different result.\n",
      "  return np.add.reduce(sorted[indexer] * weights, axis=axis) / sumval\n"
     ]
    },
    {
     "data": {
      "image/png": "[encoded data removed]",
      "text/plain": [
       "<Figure size 432x288 with 1 Axes>"
      ]
     },
     "metadata": {
      "needs_background": "light"
     },
     "output_type": "display_data"
    },
    {
     "data": {
      "text/plain": [
       "<matplotlib.axes._subplots.AxesSubplot at 0x2125ced1828>"
      ]
     },
     "execution_count": 17,
     "metadata": {},
     "output_type": "execute_result"
    },
    {
     "data": {
      "image/png": "[encoded data removed]",
      "text/plain": [
       "<Figure size 432x288 with 1 Axes>"
      ]
     },
     "metadata": {
      "needs_background": "light"
     },
     "output_type": "display_data"
    }
   ],
   "source": [
    "## I have to substract the diagnonal value in each quadrant\n",
    "sns.distplot(df.loc[df['A_T']<90].A_T, bins=45)\n",
    "plt.xlim(20,70)\n",
    "plt.xticks([20,30,40,50,60])\n",
    "plt.show()\n",
    "\n",
    "sns.distplot(df.loc[df['A_T']<90].A_T - 45)"
   ]
  },
  {
   "cell_type": "code",
   "execution_count": 45,
   "metadata": {},
   "outputs": [
    {
     "name": "stdout",
     "output_type": "stream",
     "text": [
      "1\n",
      "2\n",
      "3\n",
      "4\n"
     ]
    }
   ],
   "source": [
    "def get_quadrant(a):\n",
    "    if a>0 and a<90:\n",
    "        q=1\n",
    "    elif a >90 and a<180:\n",
    "        q=2\n",
    "    elif a>180 and a <270:\n",
    "        q=3\n",
    "    elif a>270 and a <360:\n",
    "        q=4\n",
    "    \n",
    "    return(q)\n",
    "##\n",
    "#check\n",
    "print(get_quadrant(20))\n",
    "print(get_quadrant(120))\n",
    "print(get_quadrant(220))\n",
    "print(get_quadrant(320))"
   ]
  },
  {
   "cell_type": "code",
   "execution_count": 56,
   "metadata": {},
   "outputs": [
    {
     "name": "stderr",
     "output_type": "stream",
     "text": [
      "C:\\Users\\David\\Anaconda3\\envs\\python3\\lib\\site-packages\\ipykernel_launcher.py:20: SettingWithCopyWarning: \n",
      "A value is trying to be set on a copy of a slice from a DataFrame.\n",
      "Try using .loc[row_indexer,col_indexer] = value instead\n",
      "\n",
      "See the caveats in the documentation: http://pandas.pydata.org/pandas-docs/stable/user_guide/indexing.html#returning-a-view-versus-a-copy\n"
     ]
    }
   ],
   "source": [
    "A_T_aligned_center = []\n",
    "\n",
    "for i in range(len(df)):\n",
    "    trial = df.iloc[i]\n",
    "    a = trial.A_T\n",
    "    q = get_quadrant(a)\n",
    "    if q==1:\n",
    "        a_t_aligned = a-45\n",
    "    elif q==2:\n",
    "        a_t_aligned = (a-135)*-1\n",
    "    elif q==3:\n",
    "        a_t_aligned = a-225    \n",
    "    elif q==4:\n",
    "        a_t_aligned = (a-315) *-1 ##hay que hacer esto porque asi positie A_err van siempre hacia el vertical  \n",
    "    ##\n",
    "    A_T_aligned_center.append(a_t_aligned)\n",
    "\n",
    "#\n",
    "#\n",
    "df['A_T_aligned_center'] = A_T_aligned_center"
   ]
  },
  {
   "cell_type": "code",
   "execution_count": 108,
   "metadata": {},
   "outputs": [],
   "source": [
    "d_0 = []\n",
    "for d in df.loc[df['delay']==0 ,'A_T_aligned_center'].unique():\n",
    "    d0_mean = df.loc[(df['A_T_aligned_center']==d) & (df['delay']==0)].A_err.mean()\n",
    "    d_0.append([d, d0_mean])\n",
    "#\n",
    "d_0 = np.array(d_0)\n",
    "\n",
    "\n",
    "d_3 = []\n",
    "for d in df.loc[df['delay']==3 ,'A_T_aligned_center'].unique():\n",
    "    d3_mean = df.loc[(df['A_T_aligned_center']==d) & (df['delay']==3)].A_err.mean()\n",
    "    d_3.append([d, d3_mean])\n",
    "\n",
    "#\n",
    "d_3 = np.array(d_3)\n"
   ]
  },
  {
   "cell_type": "code",
   "execution_count": 109,
   "metadata": {},
   "outputs": [
    {
     "data": {
      "text/plain": [
       "array([[  1.        ,  -0.73      ],\n",
       "       [  6.        ,  -1.0062    ],\n",
       "       [  7.        ,  -0.03101695],\n",
       "       [ 13.        ,  -0.83885246],\n",
       "       [ 10.        ,  -0.65      ],\n",
       "       [-11.        ,  -1.65676923],\n",
       "       [ -0.        ,  -1.11640625],\n",
       "       [  2.        ,  -0.58763889],\n",
       "       [ -6.        ,  -1.24535714],\n",
       "       [ -9.        ,  -2.03472222],\n",
       "       [  3.        ,  -0.90661017],\n",
       "       [ -8.        ,  -0.59886792],\n",
       "       [ -2.        ,  -1.25769231],\n",
       "       [ -4.        ,  -1.41931034],\n",
       "       [  4.        ,  -0.36634921],\n",
       "       [ 14.        ,  -0.59588235],\n",
       "       [ 11.        ,  -0.58269841],\n",
       "       [-15.        ,  -0.82090909],\n",
       "       [-14.        ,   0.10825397],\n",
       "       [-10.        ,  -0.6146    ],\n",
       "       [ -1.        ,  -0.7016    ],\n",
       "       [  5.        ,  -0.72122449],\n",
       "       [-13.        ,  -0.38367347],\n",
       "       [-12.        ,  -0.0327907 ],\n",
       "       [ 12.        ,  -0.71363636],\n",
       "       [  9.        ,  -0.02774194],\n",
       "       [ -5.        ,  -0.26362319],\n",
       "       [ -7.        ,  -1.0287037 ],\n",
       "       [  8.        ,  -0.92666667],\n",
       "       [ 15.        ,  -2.3762963 ],\n",
       "       [ -3.        ,  -0.47819444]])"
      ]
     },
     "execution_count": 109,
     "metadata": {},
     "output_type": "execute_result"
    }
   ],
   "source": [
    "d_0"
   ]
  },
  {
   "cell_type": "code",
   "execution_count": 121,
   "metadata": {},
   "outputs": [
    {
     "name": "stderr",
     "output_type": "stream",
     "text": [
      "C:\\Users\\David\\Anaconda3\\envs\\python3\\lib\\site-packages\\scipy\\stats\\stats.py:1713: FutureWarning: Using a non-tuple sequence for multidimensional indexing is deprecated; use `arr[tuple(seq)]` instead of `arr[seq]`. In the future this will be interpreted as an array index, `arr[np.array(seq)]`, which will result either in an error or a different result.\n",
      "  return np.add.reduce(sorted[indexer] * weights, axis=axis) / sumval\n"
     ]
    },
    {
     "data": {
      "image/png": "[encoded data removed]",
      "text/plain": [
       "<Figure size 720x576 with 1 Axes>"
      ]
     },
     "metadata": {},
     "output_type": "display_data"
    }
   ],
   "source": [
    "fig = plt.figure(figsize=(10,8))\n",
    "\n",
    "\n",
    "\n",
    "\n",
    "sns.regplot('A_T_aligned_center', 'A_err', df.loc[df['delay']==0], \n",
    "            line_kws={'linewidth':2}, color='darkblue',  scatter_kws={'s':0},\n",
    "            ci = 95)\n",
    "\n",
    "plt.plot(d_0[:,0], d_0[:,1], 'o', color='darkblue', label='delay 0', markersize=7)\n",
    "\n",
    "\n",
    "sns.regplot('A_T_aligned_center', 'A_err', df.loc[df['delay']==3],\n",
    "            line_kws={'linewidth':2}, color='darkred',  scatter_kws={'s':0},\n",
    "            ci = 68)\n",
    "\n",
    "plt.plot(d_3[:,0], d_3[:,1], 'o', color='darkred',  markersize=7)\n",
    "\n",
    "\n",
    "\n",
    "\n",
    "plt.title('Axis attraction - Distance & Delay', size=18)\n",
    "plt.gca().spines['right'].set_visible(False)\n",
    "plt.gca().spines['top'].set_visible(False)\n",
    "plt.gca().get_xaxis().tick_bottom()\n",
    "plt.gca().get_yaxis().tick_left()\n",
    "plt.ylabel('Attraction to vertical')\n",
    "plt.xlabel('Distance')\n",
    "plt.gca().legend()\n",
    "plt.plot([-15,15], [0,0], 'k--')\n",
    "plt.ylim(-3,2)\n",
    "\n",
    "\n",
    "label='delay 3'\n",
    "\n",
    "l = plt.legend(loc=loc_l, frameon=False, prop={'size': L_size})\n",
    "for i_h, h_idx in enumerate(hue_order):\n",
    "    l.get_texts()[i_h].set_text(h_idx)\n",
    "    l.legendHandles[i_h].set_visible(False);\n",
    "    l.get_texts()[i_h].set_color(palette[i_h]);\n",
    "\n",
    "\n",
    "plt.show(block=False)\n",
    "\n"
   ]
  },
  {
   "cell_type": "code",
   "execution_count": null,
   "metadata": {},
   "outputs": [],
   "source": []
  },
  {
   "cell_type": "code",
   "execution_count": null,
   "metadata": {},
   "outputs": [],
   "source": []
  },
  {
   "cell_type": "code",
   "execution_count": null,
   "metadata": {},
   "outputs": [],
   "source": [
    "## 2 items"
   ]
  },
  {
   "cell_type": "code",
   "execution_count": 46,
   "metadata": {},
   "outputs": [],
   "source": [
    "def cw_ccw_detector(target, NT):\n",
    "    #print [target, NT,get_quadrant(target),get_quadrant(NT) ]\n",
    "    #it returns the relative position of the target respect the NT\n",
    "    if abs(target-NT)<180:\n",
    "        if target<NT: \n",
    "            o='cw'\n",
    "        else: \n",
    "            o='ccw'\n",
    "    else:\n",
    "        if target<NT: \n",
    "            o='ccw'\n",
    "        else: \n",
    "            o='cw'\n",
    "    #Ecceptions\n",
    "    Qt= get_quadrant(target)\n",
    "    Qnt = get_quadrant(NT)\n",
    "    if [Qt, Qnt ] == [1,4] : \n",
    "        o= 'ccw'\n",
    "    if [Qt, Qnt] == [4,1] : \n",
    "        o= 'cw'\n",
    "    \n",
    "    return o\n"
   ]
  },
  {
   "cell_type": "code",
   "execution_count": 51,
   "metadata": {},
   "outputs": [],
   "source": [
    "df_angle = data.loc[(data['type']==1) | (data['type']==2) ] ##angle"
   ]
  },
  {
   "cell_type": "code",
   "execution_count": 53,
   "metadata": {},
   "outputs": [
    {
     "name": "stderr",
     "output_type": "stream",
     "text": [
      "C:\\Users\\David\\Anaconda3\\envs\\python3\\lib\\site-packages\\ipykernel_launcher.py:8: SettingWithCopyWarning: \n",
      "A value is trying to be set on a copy of a slice from a DataFrame.\n",
      "Try using .loc[row_indexer,col_indexer] = value instead\n",
      "\n",
      "See the caveats in the documentation: http://pandas.pydata.org/pandas-docs/stable/user_guide/indexing.html#returning-a-view-versus-a-copy\n",
      "  \n",
      "C:\\Users\\David\\Anaconda3\\envs\\python3\\lib\\site-packages\\ipykernel_launcher.py:9: SettingWithCopyWarning: \n",
      "A value is trying to be set on a copy of a slice from a DataFrame.\n",
      "Try using .loc[row_indexer,col_indexer] = value instead\n",
      "\n",
      "See the caveats in the documentation: http://pandas.pydata.org/pandas-docs/stable/user_guide/indexing.html#returning-a-view-versus-a-copy\n",
      "  if __name__ == '__main__':\n"
     ]
    }
   ],
   "source": [
    "orients=[]\n",
    "for i in range(0, len(df_angle)):\n",
    "    at = df_angle['A_T'].iloc[i]\n",
    "    ant = df_angle['A_NT'].iloc[i]\n",
    "    orients.append(cw_ccw_detector(at, ant))\n",
    "\n",
    "    \n",
    "df_angle['cw_ccw']=orients\n",
    "df_angle['dist_T_NT']=abs(df_angle['A_T']-df_angle['A_NT'])"
   ]
  },
  {
   "cell_type": "code",
   "execution_count": null,
   "metadata": {},
   "outputs": [],
   "source": []
  },
  {
   "cell_type": "code",
   "execution_count": null,
   "metadata": {},
   "outputs": [],
   "source": []
  },
  {
   "cell_type": "code",
   "execution_count": null,
   "metadata": {},
   "outputs": [],
   "source": []
  },
  {
   "cell_type": "code",
   "execution_count": null,
   "metadata": {},
   "outputs": [],
   "source": []
  },
  {
   "cell_type": "code",
   "execution_count": null,
   "metadata": {},
   "outputs": [],
   "source": []
  },
  {
   "cell_type": "code",
   "execution_count": null,
   "metadata": {},
   "outputs": [],
   "source": [
    "fig = plt.figure(figsize=(10,8))\n",
    "\n",
    "\n",
    "sns.regplot('dist_ax_T', 'inter_hor', ControlsL1.loc[ControlsL1['delay']==0],  x_estimator=np.mean, ci = 68, label='delay0')\n",
    "sns.regplot('dist_ax_T', 'inter_hor', ControlsL1.loc[ControlsL1['delay']==3], color='g', x_estimator=np.mean, ci = 68, label='delay3')\n",
    "\n",
    "    \n",
    "plt.title('Axis attraction - Distance & Delay', size=18)\n",
    "plt.gca().spines['right'].set_visible(False)\n",
    "plt.gca().spines['top'].set_visible(False)\n",
    "plt.gca().get_xaxis().tick_bottom()\n",
    "plt.gca().get_yaxis().tick_left()\n",
    "plt.ylabel('Attraction ref')\n",
    "plt.xlabel('Distance')\n",
    "plt.gca().legend()\n",
    "plt.plot([30,45], [0,0], 'k--')\n",
    "plt.show(block=False)\n",
    "\n",
    "\n",
    "result_cont = smf.mixedlm(formula=\"inter_hor ~ dist_ax_T*delay\", data=ControlsL1, groups='subject').fit() #subj_sess  SubjectName\n",
    "print(result_cont.summary())"
   ]
  }
 ],
 "metadata": {
  "kernelspec": {
   "display_name": "Python 3",
   "language": "python",
   "name": "python3"
  },
  "language_info": {
   "codemirror_mode": {
    "name": "ipython",
    "version": 3
   },
   "file_extension": ".py",
   "mimetype": "text/x-python",
   "name": "python",
   "nbconvert_exporter": "python",
   "pygments_lexer": "ipython3",
   "version": "3.5.6"
  }
 },
 "nbformat": 4,
 "nbformat_minor": 2
}
