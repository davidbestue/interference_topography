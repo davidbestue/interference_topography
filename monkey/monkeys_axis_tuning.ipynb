{
 "cells": [
  {
   "cell_type": "code",
   "execution_count": null,
   "metadata": {},
   "outputs": [],
   "source": [
    "## Hypothesis_ less tuning around the axis!"
   ]
  },
  {
   "cell_type": "code",
   "execution_count": 2,
   "metadata": {},
   "outputs": [],
   "source": [
    "from linares_plot import *"
   ]
  },
  {
   "cell_type": "code",
   "execution_count": 5,
   "metadata": {},
   "outputs": [],
   "source": [
    "from __future__ import division\n",
    "import numpy\n",
    "import numpy as np\n",
    "import os\n",
    "from numpy import loadtxt, array, mean, zeros, shape, vstack, hstack, savetxt, reshape, dtype, unique, argmax, where, delete, roll, nanmean\n",
    "from scipy.stats import zscore\n",
    "import matplotlib.pyplot as plt\n",
    "import pandas as pd\n",
    "from numpy import *\n",
    "from sklearn.decomposition import PCA\n",
    "from matplotlib.pylab import *\n",
    "from pickle import load,dump\n",
    "from scipy.io import savemat\n",
    "from scipy.stats import zscore\n",
    "import seaborn as sns\n",
    "from scikits.bootstrap import ci\n",
    "#from circ_stats import *\n",
    "import statsmodels.api as sm\n",
    "from scipy.stats import *\n",
    "import statsmodels.formula.api as smf\n",
    "from itertools import chain\n",
    "from scipy.stats import circmean,circvar\n",
    "from cmath import phase\n",
    "from  numpy import array\n",
    "from scipy.stats import circmean,circvar,circstd\n",
    "from numpy import *\n",
    "from cmath import phase\n",
    "from matplotlib.pylab import *\n"
   ]
  },
  {
   "cell_type": "code",
   "execution_count": 6,
   "metadata": {},
   "outputs": [],
   "source": [
    "root = 'C:\\\\Users\\\\David\\\\Dropbox\\\\IDIBAPS\\\\3rings_ODR_christos' "
   ]
  },
  {
   "cell_type": "code",
   "execution_count": 7,
   "metadata": {},
   "outputs": [],
   "source": [
    "\n",
    "#functions\n",
    "def get_rad(a):\n",
    "    if a in range(1,9):\n",
    "        return 1\n",
    "    elif a in range (9, 17):\n",
    "        return 2\n",
    "    elif a in range(17, 25):\n",
    "        return 3\n",
    "\n",
    "\n",
    "def get_pos(a):\n",
    "    if a in range(1,9):\n",
    "        return a\n",
    "    elif a in range (9, 17):\n",
    "        return a-8\n",
    "    elif a in range(17, 25):\n",
    "        return a-16\n",
    "\n",
    "    \n",
    "    \n",
    "def get_pref(cue_activity):\n",
    "    #with this formula I take one vector from 0 for each position, where the module is the strength of the signal and the imaginary part the angle\n",
    "    #after doing that I sum all of them to know the prefered one, this one is the angle, the v would be the module\n",
    "    v=sum([exp(1j*c/8.0*2*pi)*(float(cue_activity[c])/sum(cue_activity)) for c in range(8)])\n",
    "    angle=convert_2pi(phase(v))\n",
    "    return (angle,abs(v))\n",
    "\n",
    "\n",
    "def convert_2pi(angle):\n",
    "    if angle < 0:\n",
    "        angle = angle + 2*pi\n",
    "    return angle\n",
    "\n",
    "\n",
    "\n",
    "def len2(x):\n",
    "\tif type(x) is not type([]):\n",
    "\t\tif type(x) is not type(array([])):\n",
    "\t\t\treturn -1\n",
    "\treturn len(x)\n",
    "\n",
    "def phase2(x):\n",
    "\tif not isnan(x):\n",
    "\t\treturn phase(x)\n",
    "\treturn nan\n",
    "\n",
    "def circdist(angles1,angles2):\n",
    "\tif len2(angles2) < 0:\n",
    "\t\tif len2(angles1) > 0:\n",
    "\t\t\tangles2 = [angles2]*len(angles1)\n",
    "\t\telse:\n",
    "\t\t\tangles2 = [angles2]\n",
    "\t\t\tangles1 = [angles1]\t\t\n",
    "\tif len2(angles1) < 0:\n",
    "\t\tangles1 = [angles1]*len(angles2)\n",
    "\treturn amap(lambda a1,a2: phase2(exp(1j*a1)/exp(1j*a2)), angles1,angles2)\n"
   ]
  },
  {
   "cell_type": "code",
   "execution_count": 8,
   "metadata": {},
   "outputs": [
    {
     "name": "stderr",
     "output_type": "stream",
     "text": [
      "C:\\Users\\David\\Anaconda3\\envs\\python3\\lib\\site-packages\\statsmodels\\base\\model.py:1100: RuntimeWarning: invalid value encountered in true_divide\n",
      "  return self.params / self.bse\n",
      "C:\\Users\\David\\Anaconda3\\envs\\python3\\lib\\site-packages\\scipy\\stats\\_distn_infrastructure.py:879: RuntimeWarning: invalid value encountered in greater\n",
      "  return (self.a < x) & (x < self.b)\n",
      "C:\\Users\\David\\Anaconda3\\envs\\python3\\lib\\site-packages\\scipy\\stats\\_distn_infrastructure.py:879: RuntimeWarning: invalid value encountered in less\n",
      "  return (self.a < x) & (x < self.b)\n",
      "C:\\Users\\David\\Anaconda3\\envs\\python3\\lib\\site-packages\\scipy\\stats\\_distn_infrastructure.py:1821: RuntimeWarning: invalid value encountered in less_equal\n",
      "  cond2 = cond0 & (x <= self.a)\n",
      "C:\\Users\\David\\Anaconda3\\envs\\python3\\lib\\site-packages\\ipykernel_launcher.py:99: RuntimeWarning: invalid value encountered in less\n",
      "C:\\Users\\David\\Anaconda3\\envs\\python3\\lib\\site-packages\\ipykernel_launcher.py:55: UserWarning: loadtxt: Empty input file: \"1024000\"\n"
     ]
    }
   ],
   "source": [
    "#neuron, position, fixation, cue, delay, sacade\n",
    "position=0\n",
    "fixation=1\n",
    "cue=2\n",
    "delay=3\n",
    "sacade=4\n",
    "\n",
    "directories=[ os.path.join(root, 'Albert25ODR', 'put1Way', 'A'), os.path.join(root, 'Albert25ODR',  'put1Way', 'B'),\n",
    "             os.path.join(root,'Albert25ODR',  'apollo1Way', 'A'), os.path.join(root, 'Albert25ODR',  'apollo1Way', 'B')]\n",
    "\n",
    "\n",
    "## Neurons to use\n",
    "f=open( os.path.join(root,'Anova_inpSingle_2.txt'))\n",
    "f=f.readlines()\n",
    "neurons_to_use=loadtxt(f, dtype='str')\n",
    "\n",
    "#list where to append the neurons that are significant\n",
    "#neurons_selected=[[] for _ in range(0, len(directories))]\n",
    "neurons_selected=[]\n",
    "neurons_noselected=[]\n",
    "\n",
    "total_neurons=len(neurons_to_use)\n",
    "\n",
    "#excluded neurons\n",
    "excluded_empty=[]\n",
    "excluded_error=[]\n",
    "\n",
    "#I need a neuron_pool. It has to be a list of strings (each one is a file with the data of a single neuron)\n",
    "beta_neurons=[]\n",
    "\n",
    "for NEURONS in range(0, len(neurons_to_use)):\n",
    "    #decide the neurom\n",
    "    label=neurons_to_use[NEURONS]\n",
    "    label_monkey=label[1]\n",
    "    label_set=label[2]\n",
    "    label_neuron=label[0]\n",
    "    #print label_neuron\n",
    "    \n",
    "    if label_monkey=='Apollo':\n",
    "        os.chdir(root+'/Albert25ODR/apollo1Way')\n",
    "        if label_set=='a':\n",
    "            os.chdir(root+'/Albert25ODR/apollo1Way/A')\n",
    "        if label_set=='b':\n",
    "            os.chdir(root+'/Albert25ODR/apollo1Way/B')            \n",
    "    \n",
    "    if label_monkey=='Sput':\n",
    "        os.chdir(root+'/Albert25ODR/sput1Way')\n",
    "        if label_set=='a':\n",
    "            os.chdir(root+'/Albert25ODR/sput1Way/A')\n",
    "        if label_set=='b':\n",
    "            os.chdir(root+'/Albert25ODR/sput1Way/B') \n",
    "    \n",
    "    ###\n",
    "    try: #error in the organization of the file\n",
    "        data=loadtxt(label_neuron)\n",
    "        if len(data)==0: #if empty file, pass\n",
    "            excluded_empty.append(1)\n",
    "            pass\n",
    "        else:\n",
    "            #exclude fixation\n",
    "            data=data[data[:, position]!=0]\n",
    "            if len(data)==0: #if empty file after excluding fixation, pass\n",
    "                excluded_empty.append(1)\n",
    "                pass\n",
    "            else:\n",
    "                #exclude trials with extra positions (25, 26, 27....)\n",
    "                if sum(array(data[:,0]) > 24 )!=0:\n",
    "                    excluded_error.append(1)\n",
    "                    pass\n",
    "                else:\n",
    "                    data=data[array([data[i,0] in range(1,25) for i in range(0, len(data))])]\n",
    "                    \n",
    "                    if shape(data)[1]!=5: #if there are less columns than requires, pass\n",
    "                        excluded_error.append(1)\n",
    "                        pass\n",
    "                    else:\n",
    "                        #get the Y\n",
    "                        fr_cue=data[:,cue]\n",
    "                        fr_delay=data[:,delay]\n",
    "                        \n",
    "                        #get the regressors\n",
    "                        RAD=[get_rad(data[i, position]) for i in range(0, len(data))]\n",
    "                        POS=[int(get_pos(data[i, position])) for i in range(0, len(data))]\n",
    "                        \n",
    "                        #categorical_neurons\n",
    "                        M=zeros((len(POS), 8))\n",
    "                        list_uniques=[1,2,3,4,5,6,7,8]\n",
    "                        for i in range(0, len(list_uniques) ):\n",
    "                            M[:,i]=( array(POS)==list_uniques[i] )*1\n",
    "                        \n",
    "                        #decide if the Y is the firing rate of the cue or the one of the delay\n",
    "                        cues=7\n",
    "                        df = pd.DataFrame({\"Y\": fr_cue, \"P1\": M[:,0], \"P2\": M[:,1], \"P3\": M[:,2], \"P4\": M[:,3], \"P5\": M[:,4], \"P6\": M[:,5], \"P7\": M[:,6], \"P8\": M[:,7]})\n",
    "                        #result = smf.ols(formula=\"Y ~ 0+ P1+ P2 + P3 + P4 + P5 + P6 + P7 + P8 \", data=df).fit()\n",
    "                        result = smf.ols(formula=\"Y ~ P2 + P3 + P4 + P5 + P6 + P7 + P8 \", data=df).fit()\n",
    "                        p_vals=[result.pvalues[j] for j in range(1,cues+1)] #I do not take the intercept\n",
    "                        \n",
    "                        # set the significance to accept the neurons\n",
    "                        if sum(array(p_vals)<0.05) >0: \n",
    "                            neurons_selected.append(label_neuron)\n",
    "                            beta_2=[result.params[par]**2 for par in range(1,cues+1)]\n",
    "                            beta_neuron=sqrt(sum(beta_2))/mean(fr_cue)\n",
    "                            beta_neurons.append([label_neuron, beta_neuron])\n",
    "                        else:\n",
    "                            neurons_noselected.append(label_neuron)\n",
    "    \n",
    "    ######\n",
    "    except ValueError:\n",
    "        excluded_error.append(1)\n",
    "        pass\n",
    "    except IOError:\n",
    "        excluded_error.append(1)\n",
    "        pass\n",
    "\n"
   ]
  },
  {
   "cell_type": "code",
   "execution_count": 9,
   "metadata": {},
   "outputs": [
    {
     "name": "stdout",
     "output_type": "stream",
     "text": [
      "Percentage of neurons selected: 31.8%\n"
     ]
    }
   ],
   "source": [
    "a=array(beta_neurons)\n",
    "a_sorted=a[a[:,1].argsort()] ## sort them by firing rate\n",
    "neurons_selected=a_sorted[:, 0] \n",
    "\n",
    "print('Percentage of neurons selected: ' + str( round( float(len(neurons_selected))/ float(total_neurons) *100, 1)  ) + '%')"
   ]
  },
  {
   "cell_type": "code",
   "execution_count": 10,
   "metadata": {},
   "outputs": [
    {
     "data": {
      "text/plain": [
       "516"
      ]
     },
     "execution_count": 10,
     "metadata": {},
     "output_type": "execute_result"
    }
   ],
   "source": [
    "total_neurons"
   ]
  },
  {
   "cell_type": "code",
   "execution_count": 11,
   "metadata": {},
   "outputs": [],
   "source": [
    "indexes_means_out=[]\n",
    "\n",
    "#os.chdir('/home/david/Dropbox/IDIBAPS/3rings_ODR_christos')\n",
    "\n",
    "### Now I am going to take the mean of these neurons in the  file means.out\n",
    "os.chdir(root)\n",
    "data=loadtxt(\"means.out\", usecols=(1,2,3,4,5,6))\n",
    "\n",
    "fix=1\n",
    "cue_p=2\n",
    "delay=3\n",
    "sacc=4\n",
    "\n",
    "#get the indexes of the usefull neurons \n",
    "for i in range(0, len(neurons_selected)):\n",
    "    indexes_means_out.append(numpy.where(data[:,0]==float(neurons_selected[i])))"
   ]
  },
  {
   "cell_type": "code",
   "execution_count": 12,
   "metadata": {},
   "outputs": [],
   "source": [
    "#########################################\n",
    "#set the data to these interesting neurons\n",
    "idx=list(chain.from_iterable(indexes_means_out))\n",
    "idxs=list(chain.from_iterable(idx))\n",
    "data=data[idxs, :]"
   ]
  },
  {
   "cell_type": "code",
   "execution_count": 13,
   "metadata": {},
   "outputs": [
    {
     "name": "stderr",
     "output_type": "stream",
     "text": [
      "C:\\Users\\David\\Anaconda3\\envs\\python3\\lib\\site-packages\\numpy\\core\\fromnumeric.py:2920: RuntimeWarning: Mean of empty slice.\n",
      "  out=out, **kwargs)\n",
      "C:\\Users\\David\\Anaconda3\\envs\\python3\\lib\\site-packages\\numpy\\core\\_methods.py:85: RuntimeWarning: invalid value encountered in double_scalars\n",
      "  ret = ret.dtype.type(ret / rcount)\n"
     ]
    }
   ],
   "source": [
    "############################################33\n",
    "#ordenadas en tcs de acuerdo a uniq_n\n",
    "uniq_n =  unique(data[:,0])\n",
    "#here I \"lose 11 neurons because some of them are repeated)\n",
    "nneurons = len(uniq_n)\n",
    "n_cues = 25\n",
    "\n",
    "time=[cue_p,delay]\n",
    "time=cue_p\n",
    "tcs = zeros([nneurons,25])\n",
    "cues_count = []\n",
    "for ni,n in enumerate(uniq_n):\n",
    "    #en data, give me the ones with the neuron label (have a boolean for each neuron)\n",
    "    neuron_idx = data[:,0] == n\n",
    "    for cue in range(n_cues):\n",
    "        # in each spec neuron, the equal t the cue\n",
    "        cue_idx = data[neuron_idx,1] == cue\n",
    "        #append in the empty matrix --> in the data, the ones of the specific label and the specific cue, the mean of those neurons in the column of the cue \n",
    "        tcs[ni,cue] = mean(data[neuron_idx,cue_p][cue_idx])\n",
    "        #how many cues in the same neuron?? in most there is just one, but i others there are more. Sum all together to know the total amount of cues\n",
    "        cues_count.append(sum(cue_idx))\n",
    "\n"
   ]
  },
  {
   "cell_type": "code",
   "execution_count": 14,
   "metadata": {},
   "outputs": [
    {
     "name": "stderr",
     "output_type": "stream",
     "text": [
      "C:\\Users\\David\\Anaconda3\\envs\\python3\\lib\\site-packages\\ipykernel_launcher.py:23: MatplotlibDeprecationWarning: The find function was deprecated in version 2.2.\n",
      "C:\\Users\\David\\Anaconda3\\envs\\python3\\lib\\site-packages\\ipykernel_launcher.py:24: MatplotlibDeprecationWarning: The find function was deprecated in version 2.2.\n",
      "C:\\Users\\David\\Anaconda3\\envs\\python3\\lib\\site-packages\\ipykernel_launcher.py:25: MatplotlibDeprecationWarning: The find function was deprecated in version 2.2.\n"
     ]
    }
   ],
   "source": [
    "\n",
    "#take off the one with not data at the cue, the uniqq_n_ok are the labels of the neurons of the tcs and tcs2\n",
    "uniq_n_ok=uniq_n[sum(isnan(tcs),1)<1]\n",
    "tcs=tcs[sum(isnan(tcs),1)<1]\n",
    "tcs2=tcs\n",
    "\n",
    "#take the preferred location\n",
    "### another way to take the pref (Joao and Albert)\n",
    "rings=[]\n",
    "prefs=[]\n",
    "positions=[ [1,2,3,4,5,6,7,8], [9,10,11,12,13,14,15,16], [17,18,19,20,21,22,23,24]] \n",
    "for i in range(0,len(tcs2)):\n",
    "    var_rads=[circvar(tcs2[i, 1:9]), circvar(tcs2[i, 9:17]), circvar(tcs2[i, 17:25])]\n",
    "    m=min(var_rads)\n",
    "    ring=array([0,1,2])[array(var_rads)==m][0] \n",
    "    rings.append(ring)\n",
    "\n",
    "    \n",
    "    \n",
    "    \n",
    "rings=array(rings)\n",
    "\n",
    "ring1 = find(concatenate([ones(8),zeros(17)]))+1\n",
    "ring2 = find(concatenate([zeros(8),ones(8),zeros(9)]))+1\n",
    "ring3 = find(concatenate([zeros(16),ones(8),[0]]))+1\n",
    "ring_sel = [ring1,ring2,ring3]\n",
    "\n",
    "\n",
    "\n",
    "\n",
    "num_neu=len(tcs2)"
   ]
  },
  {
   "cell_type": "code",
   "execution_count": 25,
   "metadata": {},
   "outputs": [
    {
     "name": "stderr",
     "output_type": "stream",
     "text": [
      "C:\\Users\\David\\Anaconda3\\envs\\python3\\lib\\site-packages\\ipykernel_launcher.py:25: MatplotlibDeprecationWarning: The find function was deprecated in version 2.2.\n",
      "C:\\Users\\David\\Anaconda3\\envs\\python3\\lib\\site-packages\\ipykernel_launcher.py:26: MatplotlibDeprecationWarning: The find function was deprecated in version 2.2.\n",
      "C:\\Users\\David\\Anaconda3\\envs\\python3\\lib\\site-packages\\ipykernel_launcher.py:25: MatplotlibDeprecationWarning: The find function was deprecated in version 2.2.\n",
      "C:\\Users\\David\\Anaconda3\\envs\\python3\\lib\\site-packages\\ipykernel_launcher.py:26: MatplotlibDeprecationWarning: The find function was deprecated in version 2.2.\n",
      "C:\\Users\\David\\Anaconda3\\envs\\python3\\lib\\site-packages\\ipykernel_launcher.py:25: MatplotlibDeprecationWarning: The find function was deprecated in version 2.2.\n",
      "C:\\Users\\David\\Anaconda3\\envs\\python3\\lib\\site-packages\\ipykernel_launcher.py:26: MatplotlibDeprecationWarning: The find function was deprecated in version 2.2.\n"
     ]
    }
   ],
   "source": [
    "#apply the  formula for each neuron, once we have selected the preferred radius of neuron\n",
    "cos_fit_prf = [get_pref(tcs2[n,ring_sel[rings[n]]])[0] for n in arange(num_neu)]\n",
    "\n",
    "#Redefinition as there are few nans\n",
    "tcs2=tcs2[~isnan(cos_fit_prf)]\n",
    "rings=rings[~isnan(cos_fit_prf)]\n",
    "cos_fit_prf=list(array(cos_fit_prf)[~isnan(cos_fit_prf)]) \n",
    "num_neu=len(cos_fit_prf)\n",
    "\n",
    "#cos_fit_p = floor(array(cos_fit_prf)/(pi/4))\n",
    "#cos_fit_p = ceil(array(cos_fit_prf)/(pi/4))\n",
    "#round instead of floor\n",
    "cos_fit_p = array([int(round(array(cos_fit_prf[i])/(pi/4))) for i in arange(num_neu)]) \n",
    "\n",
    "cos_fits = []\n",
    "POS_pref = []\n",
    "for r in range(3):\n",
    "    # for each radius, sel is from 1 to 8 in the first rad, 9to 17 in the second and so on\n",
    "    # with find I get all the indexes where the pref rad is the one that we want, with this index (n), I go to the correct\n",
    "    # line of the tcs matrix. one there, I select all the neurons inside this radius. Now I have 8 frate. To this firing rates\n",
    "    # I apply the function get_pref. I am going to apply this function for all the indexes n. n times the get_pref. Each time over 8 diff values.\n",
    "    #the get ref function gives us two values. We get the second one, which is the population vector of the population\n",
    "    #in each radius, one value por each neuron where the preferred is inside the radius\n",
    "    sel = ring_sel[r]\n",
    "    p= [get_pref(tcs2[n,sel])[1] for n in find(rings==r)]\n",
    "    ang_ = [get_pref(tcs2[n,sel])[0] for n in find(rings==r)]\n",
    "    cos_fits.append(p)\n",
    "    POS_pref.append(ang_)"
   ]
  },
  {
   "cell_type": "code",
   "execution_count": 34,
   "metadata": {
    "scrolled": true
   },
   "outputs": [],
   "source": [
    "preferred_angles = concatenate([np.degrees(POS_pref[0]), np.degrees(POS_pref[1]), np.degrees(POS_pref[2])])"
   ]
  },
  {
   "cell_type": "code",
   "execution_count": 62,
   "metadata": {},
   "outputs": [],
   "source": [
    "def circ_dist(a1,a2):\n",
    "    ## Returns the minimal distance in angles between to angles \n",
    "    op1=abs(a2-a1)\n",
    "    angs=[a1,a2]\n",
    "    op2=min(angs)+(360-max(angs))\n",
    "    options=[op1,op2]\n",
    "    return min(options)\n",
    "\n",
    "def closest_ref(angle):\n",
    "    mins_ = np.array([circ_dist(angle, 0), circ_dist(angle, 45), circ_dist(angle, 90), circ_dist(angle, 135), \n",
    "                       circ_dist(angle, 180), circ_dist(angle, 225), circ_dist(angle, 270), circ_dist(angle, 315)])\n",
    "    \n",
    "    min_distance = min(mins_)\n",
    "    boole_ = mins_ == min_distance\n",
    "    #\n",
    "    ax_diag = np.array(['axis', 'diagonal', 'axis', 'diagonal', 'axis', 'diagonal', 'axis', 'diagonal' ])\n",
    "    #\n",
    "    pref_ = ax_diag[boole_][0]\n",
    "    #\n",
    "    return pref_\n",
    "\n"
   ]
  },
  {
   "cell_type": "code",
   "execution_count": 63,
   "metadata": {},
   "outputs": [],
   "source": [
    "preferred_diagonal_axis = [closest_ref(preferred_angles[x]) for x in range(len(preferred_angles))]"
   ]
  },
  {
   "cell_type": "code",
   "execution_count": 64,
   "metadata": {},
   "outputs": [
    {
     "name": "stdout",
     "output_type": "stream",
     "text": [
      "                            OLS Regression Results                            \n",
      "==============================================================================\n",
      "Dep. Variable:           std_circular   R-squared:                       0.002\n",
      "Model:                            OLS   Adj. R-squared:                 -0.005\n",
      "Method:                 Least Squares   F-statistic:                    0.2710\n",
      "Date:                Wed, 16 Feb 2022   Prob (F-statistic):              0.603\n",
      "Time:                        19:54:40   Log-Likelihood:                -120.86\n",
      "No. Observations:                 153   AIC:                             245.7\n",
      "Df Residuals:                     151   BIC:                             251.8\n",
      "Df Model:                           1                                         \n",
      "Covariance Type:            nonrobust                                         \n",
      "==========================================================================================\n",
      "                             coef    std err          t      P>|t|      [0.025      0.975]\n",
      "------------------------------------------------------------------------------------------\n",
      "Intercept                  1.8788      0.061     30.721      0.000       1.758       2.000\n",
      "preff_axis[T.diagonal]     0.0452      0.087      0.521      0.603      -0.126       0.217\n",
      "==============================================================================\n",
      "Omnibus:                       21.524   Durbin-Watson:                   1.893\n",
      "Prob(Omnibus):                  0.000   Jarque-Bera (JB):               31.100\n",
      "Skew:                          -0.769   Prob(JB):                     1.76e-07\n",
      "Kurtosis:                       4.586   Cond. No.                         2.61\n",
      "==============================================================================\n",
      "\n",
      "Warnings:\n",
      "[1] Standard Errors assume that the covariance matrix of the errors is correctly specified.\n"
     ]
    },
    {
     "name": "stderr",
     "output_type": "stream",
     "text": [
      "C:\\Users\\David\\Anaconda3\\envs\\python3\\lib\\site-packages\\ipykernel_launcher.py:1: MatplotlibDeprecationWarning: The amap function was deprecated in version 2.2. Use numpy.array(list(map(...))) instead.\n",
      "  \"\"\"Entry point for launching an IPython kernel.\n"
     ]
    }
   ],
   "source": [
    "s=amap(lambda x: sqrt(-2*np.log(x)),cos_fits) #std circular (this is the reason for the )\n",
    "Y=concatenate(s)\n",
    "df_ = pd.DataFrame({\"std_circular\": Y, \"preff_axis\": preferred_diagonal_axis})\n",
    "\n",
    "model = smf.ols(formula=\"std_circular ~  preff_axis\", data=df_).fit()\n",
    "print(model.summary())"
   ]
  },
  {
   "cell_type": "code",
   "execution_count": 65,
   "metadata": {},
   "outputs": [
    {
     "name": "stderr",
     "output_type": "stream",
     "text": [
      "C:\\Users\\David\\Anaconda3\\envs\\python3\\lib\\site-packages\\linares_plot.py:120: InstabilityWarning: Some values used top 10 low/high samples; results may be unstable.\n",
      "  ci= bootstraps.ci(df.groupby(x).get_group(x_idx)[y], statfunction=statistic, n_samples=reps,  alpha=1-CI)    # calculate the bootstrap (data no subject base)\n",
      "C:\\Users\\David\\Anaconda3\\envs\\python3\\lib\\site-packages\\linares_plot.py:120: InstabilityWarning: Some values used top 10 low/high samples; results may be unstable.\n",
      "  ci= bootstraps.ci(df.groupby(x).get_group(x_idx)[y], statfunction=statistic, n_samples=reps,  alpha=1-CI)    # calculate the bootstrap (data no subject base)\n"
     ]
    },
    {
     "data": {
      "image/png": "[encoded data removed]",
      "text/plain": [
       "<Figure size 432x288 with 1 Axes>"
      ]
     },
     "metadata": {
      "needs_background": "light"
     },
     "output_type": "display_data"
    }
   ],
   "source": [
    "linares_plot(x='preff_axis', y='std_circular', order=['diagonal', 'axis'], CI=0.95,\n",
    "             alpha=0.4, palette=['lightcoral'], df=df_, point_size=7,  reps=100)\n",
    "\n",
    "plt.xlabel('diagonal-axis')\n",
    "plt.ylabel('std')\n",
    "plt.title('Tuning curve std')\n",
    "plt.gca().spines['right'].set_visible(False)\n",
    "plt.gca().spines['top'].set_visible(False)\n",
    "plt.gca().get_xaxis().tick_bottom()\n",
    "plt.gca().get_yaxis().tick_left()\n",
    "plt.tick_params(direction='in')"
   ]
  },
  {
   "cell_type": "code",
   "execution_count": 66,
   "metadata": {},
   "outputs": [
    {
     "data": {
      "text/plain": [
       "Ttest_indResult(statistic=0.5205901586369314, pvalue=0.6034148127597688)"
      ]
     },
     "execution_count": 66,
     "metadata": {},
     "output_type": "execute_result"
    }
   ],
   "source": [
    "import scipy\n",
    "scipy.stats.ttest_ind(df_.loc[df_['preff_axis']=='diagonal', 'std_circular'], df_.loc[df_['preff_axis']=='axis', 'std_circular'] )"
   ]
  },
  {
   "cell_type": "code",
   "execution_count": null,
   "metadata": {},
   "outputs": [],
   "source": []
  },
  {
   "cell_type": "code",
   "execution_count": 67,
   "metadata": {},
   "outputs": [
    {
     "name": "stdout",
     "output_type": "stream",
     "text": [
      "                            OLS Regression Results                            \n",
      "==============================================================================\n",
      "Dep. Variable:           std_circular   R-squared:                       0.047\n",
      "Model:                            OLS   Adj. R-squared:                  0.027\n",
      "Method:                 Least Squares   F-statistic:                     2.426\n",
      "Date:                Wed, 16 Feb 2022   Prob (F-statistic):             0.0679\n",
      "Time:                        19:55:02   Log-Likelihood:                -117.35\n",
      "No. Observations:                 153   AIC:                             242.7\n",
      "Df Residuals:                     149   BIC:                             254.8\n",
      "Df Model:                           3                                         \n",
      "Covariance Type:            nonrobust                                         \n",
      "=======================================================================================================\n",
      "                                          coef    std err          t      P>|t|      [0.025      0.975]\n",
      "-------------------------------------------------------------------------------------------------------\n",
      "Intercept                               1.6891      0.100     16.829      0.000       1.491       1.887\n",
      "preff_axis[T.diagonal]                  0.1584      0.134      1.187      0.237      -0.105       0.422\n",
      "eccentricity                            0.1803      0.076      2.360      0.020       0.029       0.331\n",
      "eccentricity:preff_axis[T.diagonal]    -0.0867      0.109     -0.792      0.430      -0.303       0.130\n",
      "==============================================================================\n",
      "Omnibus:                       19.585   Durbin-Watson:                   1.958\n",
      "Prob(Omnibus):                  0.000   Jarque-Bera (JB):               26.442\n",
      "Skew:                          -0.740   Prob(JB):                     1.81e-06\n",
      "Kurtosis:                       4.400   Cond. No.                         7.37\n",
      "==============================================================================\n",
      "\n",
      "Warnings:\n",
      "[1] Standard Errors assume that the covariance matrix of the errors is correctly specified.\n"
     ]
    }
   ],
   "source": [
    "X=concatenate([ones(len(x))*i for i,x in enumerate(cos_fits)])\n",
    "df = pd.DataFrame({\"std_circular\": Y, \"eccentricity\": X, \"preff_axis\": preferred_diagonal_axis})\n",
    "model = smf.ols(formula=\"std_circular ~  eccentricity*preff_axis\", data=df).fit()\n",
    "print(model.summary())"
   ]
  },
  {
   "cell_type": "code",
   "execution_count": 51,
   "metadata": {},
   "outputs": [
    {
     "data": {
      "text/html": [
       "<div>\n",
       "<style scoped>\n",
       "    .dataframe tbody tr th:only-of-type {\n",
       "        vertical-align: middle;\n",
       "    }\n",
       "\n",
       "    .dataframe tbody tr th {\n",
       "        vertical-align: top;\n",
       "    }\n",
       "\n",
       "    .dataframe thead th {\n",
       "        text-align: right;\n",
       "    }\n",
       "</style>\n",
       "<table border=\"1\" class=\"dataframe\">\n",
       "  <thead>\n",
       "    <tr style=\"text-align: right;\">\n",
       "      <th></th>\n",
       "      <th>eccentricity</th>\n",
       "      <th>preff_axis</th>\n",
       "      <th>std_circular</th>\n",
       "    </tr>\n",
       "  </thead>\n",
       "  <tbody>\n",
       "    <tr>\n",
       "      <th>0</th>\n",
       "      <td>0.0</td>\n",
       "      <td>d</td>\n",
       "      <td>2.350575</td>\n",
       "    </tr>\n",
       "    <tr>\n",
       "      <th>1</th>\n",
       "      <td>0.0</td>\n",
       "      <td>d</td>\n",
       "      <td>1.376253</td>\n",
       "    </tr>\n",
       "    <tr>\n",
       "      <th>2</th>\n",
       "      <td>0.0</td>\n",
       "      <td>a</td>\n",
       "      <td>1.172411</td>\n",
       "    </tr>\n",
       "    <tr>\n",
       "      <th>3</th>\n",
       "      <td>0.0</td>\n",
       "      <td>d</td>\n",
       "      <td>1.397194</td>\n",
       "    </tr>\n",
       "    <tr>\n",
       "      <th>4</th>\n",
       "      <td>0.0</td>\n",
       "      <td>d</td>\n",
       "      <td>2.068878</td>\n",
       "    </tr>\n",
       "    <tr>\n",
       "      <th>...</th>\n",
       "      <td>...</td>\n",
       "      <td>...</td>\n",
       "      <td>...</td>\n",
       "    </tr>\n",
       "    <tr>\n",
       "      <th>148</th>\n",
       "      <td>2.0</td>\n",
       "      <td>d</td>\n",
       "      <td>2.779085</td>\n",
       "    </tr>\n",
       "    <tr>\n",
       "      <th>149</th>\n",
       "      <td>2.0</td>\n",
       "      <td>a</td>\n",
       "      <td>2.024961</td>\n",
       "    </tr>\n",
       "    <tr>\n",
       "      <th>150</th>\n",
       "      <td>2.0</td>\n",
       "      <td>a</td>\n",
       "      <td>2.682116</td>\n",
       "    </tr>\n",
       "    <tr>\n",
       "      <th>151</th>\n",
       "      <td>2.0</td>\n",
       "      <td>a</td>\n",
       "      <td>2.045018</td>\n",
       "    </tr>\n",
       "    <tr>\n",
       "      <th>152</th>\n",
       "      <td>2.0</td>\n",
       "      <td>a</td>\n",
       "      <td>2.501542</td>\n",
       "    </tr>\n",
       "  </tbody>\n",
       "</table>\n",
       "<p>153 rows × 3 columns</p>\n",
       "</div>"
      ],
      "text/plain": [
       "     eccentricity preff_axis  std_circular\n",
       "0             0.0          d      2.350575\n",
       "1             0.0          d      1.376253\n",
       "2             0.0          a      1.172411\n",
       "3             0.0          d      1.397194\n",
       "4             0.0          d      2.068878\n",
       "..            ...        ...           ...\n",
       "148           2.0          d      2.779085\n",
       "149           2.0          a      2.024961\n",
       "150           2.0          a      2.682116\n",
       "151           2.0          a      2.045018\n",
       "152           2.0          a      2.501542\n",
       "\n",
       "[153 rows x 3 columns]"
      ]
     },
     "execution_count": 51,
     "metadata": {},
     "output_type": "execute_result"
    }
   ],
   "source": [
    "df"
   ]
  },
  {
   "cell_type": "code",
   "execution_count": 68,
   "metadata": {},
   "outputs": [
    {
     "name": "stderr",
     "output_type": "stream",
     "text": [
      "C:\\Users\\David\\Anaconda3\\envs\\python3\\lib\\site-packages\\linares_plot.py:158: InstabilityWarning: Some values used top 10 low/high samples; results may be unstable.\n",
      "  ci= bootstraps.ci(df.groupby(x).get_group(x_idx).groupby(hue).get_group(h_idx)[y], statfunction=statistic,  alpha=1-CI, n_samples=reps)\n",
      "C:\\Users\\David\\Anaconda3\\envs\\python3\\lib\\site-packages\\linares_plot.py:158: InstabilityWarning: Some values used top 10 low/high samples; results may be unstable.\n",
      "  ci= bootstraps.ci(df.groupby(x).get_group(x_idx).groupby(hue).get_group(h_idx)[y], statfunction=statistic,  alpha=1-CI, n_samples=reps)\n",
      "C:\\Users\\David\\Anaconda3\\envs\\python3\\lib\\site-packages\\linares_plot.py:158: InstabilityWarning: Some values used top 10 low/high samples; results may be unstable.\n",
      "  ci= bootstraps.ci(df.groupby(x).get_group(x_idx).groupby(hue).get_group(h_idx)[y], statfunction=statistic,  alpha=1-CI, n_samples=reps)\n",
      "C:\\Users\\David\\Anaconda3\\envs\\python3\\lib\\site-packages\\linares_plot.py:158: InstabilityWarning: Some values used top 10 low/high samples; results may be unstable.\n",
      "  ci= bootstraps.ci(df.groupby(x).get_group(x_idx).groupby(hue).get_group(h_idx)[y], statfunction=statistic,  alpha=1-CI, n_samples=reps)\n",
      "C:\\Users\\David\\Anaconda3\\envs\\python3\\lib\\site-packages\\linares_plot.py:158: InstabilityWarning: Some values used top 10 low/high samples; results may be unstable.\n",
      "  ci= bootstraps.ci(df.groupby(x).get_group(x_idx).groupby(hue).get_group(h_idx)[y], statfunction=statistic,  alpha=1-CI, n_samples=reps)\n",
      "C:\\Users\\David\\Anaconda3\\envs\\python3\\lib\\site-packages\\linares_plot.py:158: InstabilityWarning: Some values used top 10 low/high samples; results may be unstable.\n",
      "  ci= bootstraps.ci(df.groupby(x).get_group(x_idx).groupby(hue).get_group(h_idx)[y], statfunction=statistic,  alpha=1-CI, n_samples=reps)\n"
     ]
    },
    {
     "data": {
      "image/png": "[encoded data removed]",
      "text/plain": [
       "<Figure size 432x288 with 1 Axes>"
      ]
     },
     "metadata": {
      "needs_background": "light"
     },
     "output_type": "display_data"
    }
   ],
   "source": [
    "linares_plot(x= \"eccentricity\", y='std_circular',  hue='preff_axis', order = [0,1,2], hue_order=['diagonal', 'axis'], CI=0.95,\n",
    "             alpha=0.4, palette=['lightcoral', 'lightblue'], df=df, point_size=7,  reps=100)\n",
    "\n",
    "plt.xlabel('diagonal-axis')\n",
    "plt.ylabel('std')\n",
    "plt.title('Tuning curve std')\n",
    "plt.gca().spines['right'].set_visible(False)\n",
    "plt.gca().spines['top'].set_visible(False)\n",
    "plt.gca().get_xaxis().tick_bottom()\n",
    "plt.gca().get_yaxis().tick_left()\n",
    "plt.tick_params(direction='in')"
   ]
  },
  {
   "cell_type": "code",
   "execution_count": 69,
   "metadata": {},
   "outputs": [
    {
     "name": "stdout",
     "output_type": "stream",
     "text": [
      "Ttest_indResult(statistic=0.7314540260792565, pvalue=0.4678495708314313)\n",
      "Ttest_indResult(statistic=1.000264534745843, pvalue=0.32156307021510516)\n",
      "Ttest_indResult(statistic=-0.37207015692751183, pvalue=0.7117568551836144)\n"
     ]
    }
   ],
   "source": [
    "print(scipy.stats.ttest_ind(df.loc[(df['preff_axis']=='diagonal') & (df['eccentricity']==0), 'std_circular'], df.loc[(df['preff_axis']=='axis') & (df['eccentricity']==0), 'std_circular'] ) )\n",
    "print(scipy.stats.ttest_ind(df.loc[(df['preff_axis']=='diagonal') & (df['eccentricity']==1), 'std_circular'], df.loc[(df['preff_axis']=='axis') & (df['eccentricity']==1), 'std_circular'] ) )\n",
    "print(scipy.stats.ttest_ind(df.loc[(df['preff_axis']=='diagonal') & (df['eccentricity']==2), 'std_circular'], df.loc[(df['preff_axis']=='axis') & (df['eccentricity']==2), 'std_circular'] ) )"
   ]
  },
  {
   "cell_type": "code",
   "execution_count": null,
   "metadata": {},
   "outputs": [],
   "source": []
  }
 ],
 "metadata": {
  "kernelspec": {
   "display_name": "Python 3",
   "language": "python",
   "name": "python3"
  },
  "language_info": {
   "codemirror_mode": {
    "name": "ipython",
    "version": 3
   },
   "file_extension": ".py",
   "mimetype": "text/x-python",
   "name": "python",
   "nbconvert_exporter": "python",
   "pygments_lexer": "ipython3",
   "version": "3.5.6"
  }
 },
 "nbformat": 4,
 "nbformat_minor": 2
}
