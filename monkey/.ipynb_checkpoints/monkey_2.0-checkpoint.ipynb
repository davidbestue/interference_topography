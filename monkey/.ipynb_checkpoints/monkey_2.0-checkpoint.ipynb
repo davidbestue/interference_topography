{
 "cells": [
  {
   "cell_type": "markdown",
   "metadata": {},
   "source": [
    "Import Libraries"
   ]
  },
  {
   "cell_type": "code",
   "execution_count": 1,
   "metadata": {},
   "outputs": [],
   "source": [
    "from __future__ import division\n",
    "import numpy\n",
    "import numpy as np\n",
    "import os\n",
    "from numpy import loadtxt, array, mean, zeros, shape, vstack, hstack, savetxt, reshape, dtype, unique, argmax, where, delete, roll, nanmean\n",
    "from scipy.stats import zscore\n",
    "import matplotlib.pyplot as plt\n",
    "import pandas as pd\n",
    "from numpy import *\n",
    "from sklearn.decomposition import PCA\n",
    "from matplotlib.pylab import *\n",
    "from pickle import load,dump\n",
    "from scipy.io import savemat\n",
    "from scipy.stats import zscore\n",
    "import seaborn as sns\n",
    "from scikits.bootstrap import ci\n",
    "#from circ_stats import *\n",
    "import statsmodels.api as sm\n",
    "from scipy.stats import *\n",
    "import statsmodels.formula.api as smf\n",
    "from itertools import chain\n",
    "from scipy.stats import circmean,circvar\n",
    "from cmath import phase\n",
    "from  numpy import array\n",
    "from scipy.stats import circmean,circvar,circstd\n",
    "from numpy import *\n",
    "from cmath import phase\n",
    "from matplotlib.pylab import *\n",
    "\n"
   ]
  },
  {
   "cell_type": "code",
   "execution_count": 2,
   "metadata": {},
   "outputs": [],
   "source": [
    "root = 'C:\\\\Users\\\\David\\\\Dropbox\\\\IDIBAPS\\\\3rings_ODR_christos' "
   ]
  },
  {
   "cell_type": "code",
   "execution_count": 3,
   "metadata": {},
   "outputs": [],
   "source": [
    "\n",
    "#functions\n",
    "def get_rad(a):\n",
    "    if a in range(1,9):\n",
    "        return 1\n",
    "    elif a in range (9, 17):\n",
    "        return 2\n",
    "    elif a in range(17, 25):\n",
    "        return 3\n",
    "\n",
    "\n",
    "def get_pos(a):\n",
    "    if a in range(1,9):\n",
    "        return a\n",
    "    elif a in range (9, 17):\n",
    "        return a-8\n",
    "    elif a in range(17, 25):\n",
    "        return a-16\n",
    "\n",
    "    \n",
    "    \n",
    "def get_pref(cue_activity):\n",
    "    #with this formula I take one vector from 0 for each position, where the module is the strength of the signal and the imaginary part the angle\n",
    "    #after doing that I sum all of them to know the prefered one, this one is the angle, the v would be the module\n",
    "    v=sum([exp(1j*c/8.0*2*pi)*(float(cue_activity[c])/sum(cue_activity)) for c in range(8)])\n",
    "    angle=convert_2pi(phase(v))\n",
    "    return (angle,abs(v))\n",
    "\n",
    "\n",
    "def convert_2pi(angle):\n",
    "    if angle < 0:\n",
    "        angle = angle + 2*pi\n",
    "    return angle\n",
    "\n",
    "\n",
    "\n",
    "def len2(x):\n",
    "\tif type(x) is not type([]):\n",
    "\t\tif type(x) is not type(array([])):\n",
    "\t\t\treturn -1\n",
    "\treturn len(x)\n",
    "\n",
    "def phase2(x):\n",
    "\tif not isnan(x):\n",
    "\t\treturn phase(x)\n",
    "\treturn nan\n",
    "\n",
    "def circdist(angles1,angles2):\n",
    "\tif len2(angles2) < 0:\n",
    "\t\tif len2(angles1) > 0:\n",
    "\t\t\tangles2 = [angles2]*len(angles1)\n",
    "\t\telse:\n",
    "\t\t\tangles2 = [angles2]\n",
    "\t\t\tangles1 = [angles1]\t\t\n",
    "\tif len2(angles1) < 0:\n",
    "\t\tangles1 = [angles1]*len(angles2)\n",
    "\treturn amap(lambda a1,a2: phase2(exp(1j*a1)/exp(1j*a2)), angles1,angles2)\n"
   ]
  },
  {
   "cell_type": "markdown",
   "metadata": {},
   "source": [
    "Select the neurons that response to a specific position (1-8)"
   ]
  },
  {
   "cell_type": "code",
   "execution_count": 4,
   "metadata": {},
   "outputs": [
    {
     "name": "stderr",
     "output_type": "stream",
     "text": [
      "C:\\Users\\David\\Anaconda3\\envs\\python3\\lib\\site-packages\\statsmodels\\base\\model.py:1100: RuntimeWarning: invalid value encountered in true_divide\n",
      "  return self.params / self.bse\n",
      "C:\\Users\\David\\Anaconda3\\envs\\python3\\lib\\site-packages\\scipy\\stats\\_distn_infrastructure.py:879: RuntimeWarning: invalid value encountered in greater\n",
      "  return (self.a < x) & (x < self.b)\n",
      "C:\\Users\\David\\Anaconda3\\envs\\python3\\lib\\site-packages\\scipy\\stats\\_distn_infrastructure.py:879: RuntimeWarning: invalid value encountered in less\n",
      "  return (self.a < x) & (x < self.b)\n",
      "C:\\Users\\David\\Anaconda3\\envs\\python3\\lib\\site-packages\\scipy\\stats\\_distn_infrastructure.py:1821: RuntimeWarning: invalid value encountered in less_equal\n",
      "  cond2 = cond0 & (x <= self.a)\n",
      "C:\\Users\\David\\Anaconda3\\envs\\python3\\lib\\site-packages\\ipykernel_launcher.py:99: RuntimeWarning: invalid value encountered in less\n",
      "C:\\Users\\David\\Anaconda3\\envs\\python3\\lib\\site-packages\\ipykernel_launcher.py:55: UserWarning: loadtxt: Empty input file: \"1024000\"\n"
     ]
    }
   ],
   "source": [
    "#neuron, position, fixation, cue, delay, sacade\n",
    "position=0\n",
    "fixation=1\n",
    "cue=2\n",
    "delay=3\n",
    "sacade=4\n",
    "\n",
    "directories=[ os.path.join(root, 'Albert25ODR', 'put1Way', 'A'), os.path.join(root, 'Albert25ODR',  'put1Way', 'B'),\n",
    "             os.path.join(root,'Albert25ODR',  'apollo1Way', 'A'), os.path.join(root, 'Albert25ODR',  'apollo1Way', 'B')]\n",
    "\n",
    "\n",
    "## Neurons to use\n",
    "f=open( os.path.join(root,'Anova_inpSingle_2.txt'))\n",
    "f=f.readlines()\n",
    "neurons_to_use=loadtxt(f, dtype='str')\n",
    "\n",
    "#list where to append the neurons that are significant\n",
    "#neurons_selected=[[] for _ in range(0, len(directories))]\n",
    "neurons_selected=[]\n",
    "neurons_noselected=[]\n",
    "\n",
    "total_neurons=len(neurons_to_use)\n",
    "\n",
    "#excluded neurons\n",
    "excluded_empty=[]\n",
    "excluded_error=[]\n",
    "\n",
    "#I need a neuron_pool. It has to be a list of strings (each one is a file with the data of a single neuron)\n",
    "beta_neurons=[]\n",
    "\n",
    "for NEURONS in range(0, len(neurons_to_use)):\n",
    "    #decide the neurom\n",
    "    label=neurons_to_use[NEURONS]\n",
    "    label_monkey=label[1]\n",
    "    label_set=label[2]\n",
    "    label_neuron=label[0]\n",
    "    #print label_neuron\n",
    "    \n",
    "    if label_monkey=='Apollo':\n",
    "        os.chdir(root+'/Albert25ODR/apollo1Way')\n",
    "        if label_set=='a':\n",
    "            os.chdir(root+'/Albert25ODR/apollo1Way/A')\n",
    "        if label_set=='b':\n",
    "            os.chdir(root+'/Albert25ODR/apollo1Way/B')            \n",
    "    \n",
    "    if label_monkey=='Sput':\n",
    "        os.chdir(root+'/Albert25ODR/sput1Way')\n",
    "        if label_set=='a':\n",
    "            os.chdir(root+'/Albert25ODR/sput1Way/A')\n",
    "        if label_set=='b':\n",
    "            os.chdir(root+'/Albert25ODR/sput1Way/B') \n",
    "    \n",
    "    ###\n",
    "    try: #error in the organization of the file\n",
    "        data=loadtxt(label_neuron)\n",
    "        if len(data)==0: #if empty file, pass\n",
    "            excluded_empty.append(1)\n",
    "            pass\n",
    "        else:\n",
    "            #exclude fixation\n",
    "            data=data[data[:, position]!=0]\n",
    "            if len(data)==0: #if empty file after excluding fixation, pass\n",
    "                excluded_empty.append(1)\n",
    "                pass\n",
    "            else:\n",
    "                #exclude trials with extra positions (25, 26, 27....)\n",
    "                if sum(array(data[:,0]) > 24 )!=0:\n",
    "                    excluded_error.append(1)\n",
    "                    pass\n",
    "                else:\n",
    "                    data=data[array([data[i,0] in range(1,25) for i in range(0, len(data))])]\n",
    "                    \n",
    "                    if shape(data)[1]!=5: #if there are less columns than requires, pass\n",
    "                        excluded_error.append(1)\n",
    "                        pass\n",
    "                    else:\n",
    "                        #get the Y\n",
    "                        fr_cue=data[:,cue]\n",
    "                        fr_delay=data[:,delay]\n",
    "                        \n",
    "                        #get the regressors\n",
    "                        RAD=[get_rad(data[i, position]) for i in range(0, len(data))]\n",
    "                        POS=[int(get_pos(data[i, position])) for i in range(0, len(data))]\n",
    "                        \n",
    "                        #categorical_neurons\n",
    "                        M=zeros((len(POS), 8))\n",
    "                        list_uniques=[1,2,3,4,5,6,7,8]\n",
    "                        for i in range(0, len(list_uniques) ):\n",
    "                            M[:,i]=( array(POS)==list_uniques[i] )*1\n",
    "                        \n",
    "                        #decide if the Y is the firing rate of the cue or the one of the delay\n",
    "                        cues=7\n",
    "                        df = pd.DataFrame({\"Y\": fr_cue, \"P1\": M[:,0], \"P2\": M[:,1], \"P3\": M[:,2], \"P4\": M[:,3], \"P5\": M[:,4], \"P6\": M[:,5], \"P7\": M[:,6], \"P8\": M[:,7]})\n",
    "                        #result = smf.ols(formula=\"Y ~ 0+ P1+ P2 + P3 + P4 + P5 + P6 + P7 + P8 \", data=df).fit()\n",
    "                        result = smf.ols(formula=\"Y ~ P2 + P3 + P4 + P5 + P6 + P7 + P8 \", data=df).fit()\n",
    "                        p_vals=[result.pvalues[j] for j in range(1,cues+1)] #I do not take the intercept\n",
    "                        \n",
    "                        # set the significance to accept the neurons\n",
    "                        if sum(array(p_vals)<0.05) >0: \n",
    "                            neurons_selected.append(label_neuron)\n",
    "                            beta_2=[result.params[par]**2 for par in range(1,cues+1)]\n",
    "                            beta_neuron=sqrt(sum(beta_2))/mean(fr_cue)\n",
    "                            beta_neurons.append([label_neuron, beta_neuron])\n",
    "                        else:\n",
    "                            neurons_noselected.append(label_neuron)\n",
    "    \n",
    "    ######\n",
    "    except ValueError:\n",
    "        excluded_error.append(1)\n",
    "        pass\n",
    "    except IOError:\n",
    "        excluded_error.append(1)\n",
    "        pass\n",
    "\n"
   ]
  },
  {
   "cell_type": "markdown",
   "metadata": {},
   "source": [
    "Select the neurons"
   ]
  },
  {
   "cell_type": "code",
   "execution_count": 30,
   "metadata": {},
   "outputs": [
    {
     "name": "stdout",
     "output_type": "stream",
     "text": [
      "Percentage of neurons selected: 31.8%\n"
     ]
    }
   ],
   "source": [
    "a=array(beta_neurons)\n",
    "a_sorted=a[a[:,1].argsort()] ## sort them by firing rate\n",
    "neurons_selected=a_sorted[:, 0] \n",
    "\n",
    "print('Percentage of neurons selected: ' + str( round( float(len(neurons_selected))/ float(total_neurons) *100, 1)  ) + '%')"
   ]
  },
  {
   "cell_type": "code",
   "execution_count": null,
   "metadata": {},
   "outputs": [],
   "source": []
  },
  {
   "cell_type": "code",
   "execution_count": null,
   "metadata": {},
   "outputs": [],
   "source": []
  },
  {
   "cell_type": "code",
   "execution_count": null,
   "metadata": {},
   "outputs": [],
   "source": []
  },
  {
   "cell_type": "code",
   "execution_count": null,
   "metadata": {},
   "outputs": [],
   "source": []
  },
  {
   "cell_type": "code",
   "execution_count": null,
   "metadata": {},
   "outputs": [],
   "source": []
  },
  {
   "cell_type": "code",
   "execution_count": 39,
   "metadata": {},
   "outputs": [],
   "source": [
    "# a=array(beta_neurons)\n",
    "# b=a[a[:,1].argsort()] \n",
    "\n",
    "# #sort by beta value\n",
    "# a_sorted=a[a[:,1].argsort()] \n",
    "\n",
    "# #take off nans\n",
    "# #a_sorted=a_sorted[0:-8,:] \n",
    "\n",
    "# #do the mean value or the median  and take thos up to them\n",
    "# mean_betas=median([float(a_sorted[u,1]) for u in range(0, len(a_sorted))] ) \n",
    "# #array([float(a_sorted[u,1]) for u in range(0, len(a_sorted))])\n",
    "# the_selected=sum(array([float(a_sorted[u,1]) for u in range(0, len(a_sorted))])>mean_betas) \n",
    "\n",
    "# the_selected=round(len([float(a_sorted[u,1]) for u in range(0, len(a_sorted))] ) * 1.0 )\n",
    "\n",
    "# neurons_to_select=a_sorted[-the_selected:, 0] \n",
    "# neurons_to_select=list(neurons_to_select)\n",
    "\n",
    "# a_sorted\n",
    "\n",
    "# neurons_selected=neurons_to_select\n",
    "\n",
    "\n",
    "# used_neurons=len(neurons_selected)\n",
    "\n",
    "\n",
    "# print('Percentage of neurons NOT used: ' + str(round(float(sum(excluded_empty) + sum(excluded_error))/ float(total_neurons) *100, 3)))\n",
    "\n",
    "\n",
    "# print('Percentage of neurons used: ' + str( round( float(used_neurons)/ float(total_neurons) *100, 3)  ))"
   ]
  },
  {
   "cell_type": "code",
   "execution_count": 38,
   "metadata": {},
   "outputs": [],
   "source": [
    "# a=array(beta_neurons)\n",
    "# b=a[a[:,1].argsort()] \n",
    "\n",
    "# #sort by beta value\n",
    "# a_sorted=a[a[:,1].argsort()] \n",
    "\n",
    "# mean_betas=median([float(a_sorted[u,1]) for u in range(0, len(a_sorted))] ) \n",
    "\n",
    "# neurons_selected = a_sorted[np.array([float(a_sorted[x,1]) for x in range(len(a_sorted))]) >mean_betas][:,0]\n",
    "# used_neurons=len(neurons_selected)\n",
    "# print('Percentage of neurons used: ' + str( len(neurons_selected)/len(a_sorted) *100)  )"
   ]
  },
  {
   "cell_type": "code",
   "execution_count": null,
   "metadata": {},
   "outputs": [],
   "source": []
  },
  {
   "cell_type": "code",
   "execution_count": null,
   "metadata": {},
   "outputs": [],
   "source": []
  },
  {
   "cell_type": "code",
   "execution_count": 31,
   "metadata": {},
   "outputs": [],
   "source": [
    "indexes_means_out=[]\n",
    "\n",
    "#os.chdir('/home/david/Dropbox/IDIBAPS/3rings_ODR_christos')\n",
    "\n",
    "### Now I am going to take the mean of these neurons in the  file means.out\n",
    "os.chdir(root)\n",
    "data=loadtxt(\"means.out\",usecols=(1,2,3,4,5,6))\n",
    "\n",
    "fix=1\n",
    "cue_p=2\n",
    "delay=3\n",
    "sacc=4\n",
    "\n",
    "#get the indexes of the usefull neurons \n",
    "for i in range(0, len(neurons_selected)):\n",
    "    indexes_means_out.append(numpy.where(data[:,0]==float(neurons_selected[i])))"
   ]
  },
  {
   "cell_type": "code",
   "execution_count": 32,
   "metadata": {},
   "outputs": [],
   "source": [
    "#########################################\n",
    "#set the data to these interesting neurons\n",
    "idx=list(chain.from_iterable(indexes_means_out))\n",
    "idxs=list(chain.from_iterable(idx))\n",
    "data=data[idxs, :]"
   ]
  },
  {
   "cell_type": "code",
   "execution_count": 33,
   "metadata": {},
   "outputs": [
    {
     "name": "stderr",
     "output_type": "stream",
     "text": [
      "C:\\Users\\David\\Anaconda3\\envs\\python3\\lib\\site-packages\\numpy\\core\\fromnumeric.py:2920: RuntimeWarning: Mean of empty slice.\n",
      "  out=out, **kwargs)\n",
      "C:\\Users\\David\\Anaconda3\\envs\\python3\\lib\\site-packages\\numpy\\core\\_methods.py:85: RuntimeWarning: invalid value encountered in double_scalars\n",
      "  ret = ret.dtype.type(ret / rcount)\n"
     ]
    }
   ],
   "source": [
    "############################################33\n",
    "#ordenadas en tcs de acuerdo a uniq_n\n",
    "uniq_n =  unique(data[:,0])\n",
    "#here I \"lose 11 neurons because some of them are repeated)\n",
    "nneurons = len(uniq_n)\n",
    "n_cues = 25\n",
    "\n",
    "time=[cue_p,delay]\n",
    "time=cue_p\n",
    "tcs = zeros([nneurons,25])\n",
    "cues_count = []\n",
    "for ni,n in enumerate(uniq_n):\n",
    "    #en data, give me the ones with the neuron label (have a boolean for each neuron)\n",
    "    neuron_idx = data[:,0] == n\n",
    "    for cue in range(n_cues):\n",
    "        # in each spec neuron, the equal t the cue\n",
    "        cue_idx = data[neuron_idx,1] == cue\n",
    "        #append in the empty matrix --> in the data, the ones of the specific label and the specific cue, the mean of those neurons in the column of the cue \n",
    "        tcs[ni,cue] = mean(data[neuron_idx,cue_p][cue_idx])\n",
    "        #how many cues in the same neuron?? in most there is just one, but i others there are more. Sum all together to know the total amount of cues\n",
    "        cues_count.append(sum(cue_idx))\n",
    "\n"
   ]
  },
  {
   "cell_type": "code",
   "execution_count": 34,
   "metadata": {},
   "outputs": [
    {
     "name": "stderr",
     "output_type": "stream",
     "text": [
      "C:\\Users\\David\\Anaconda3\\envs\\python3\\lib\\site-packages\\ipykernel_launcher.py:24: MatplotlibDeprecationWarning: The find function was deprecated in Matplotlib 2.2 and will be removed in 3.1.\n",
      "C:\\Users\\David\\Anaconda3\\envs\\python3\\lib\\site-packages\\ipykernel_launcher.py:25: MatplotlibDeprecationWarning: The find function was deprecated in Matplotlib 2.2 and will be removed in 3.1.\n",
      "C:\\Users\\David\\Anaconda3\\envs\\python3\\lib\\site-packages\\ipykernel_launcher.py:26: MatplotlibDeprecationWarning: The find function was deprecated in Matplotlib 2.2 and will be removed in 3.1.\n"
     ]
    }
   ],
   "source": [
    "\n",
    "\n",
    "#take off the one with not data at the cue, the uniqq_n_ok are the labels of the neurons of the tcs and tcs2\n",
    "uniq_n_ok=uniq_n[sum(isnan(tcs),1)<1]\n",
    "tcs=tcs[sum(isnan(tcs),1)<1]\n",
    "tcs2=tcs\n",
    "\n",
    "#take the preferred location\n",
    "### another way to take the pref (Joao and Albert)\n",
    "rings=[]\n",
    "prefs=[]\n",
    "positions=[ [1,2,3,4,5,6,7,8], [9,10,11,12,13,14,15,16], [17,18,19,20,21,22,23,24]] \n",
    "for i in range(0,len(tcs2)):\n",
    "    var_rads=[circvar(tcs2[i, 1:9]), circvar(tcs2[i, 9:17]), circvar(tcs2[i, 17:25])]\n",
    "    m=min(var_rads)\n",
    "    ring=array([0,1,2])[array(var_rads)==m][0] \n",
    "    rings.append(ring)\n",
    "\n",
    "    \n",
    "    \n",
    "    \n",
    "rings=array(rings)\n",
    "\n",
    "ring1 = find(concatenate([ones(8),zeros(17)]))+1\n",
    "ring2 = find(concatenate([zeros(8),ones(8),zeros(9)]))+1\n",
    "ring3 = find(concatenate([zeros(16),ones(8),[0]]))+1\n",
    "ring_sel = [ring1,ring2,ring3]\n",
    "\n",
    "\n",
    "\n",
    "\n",
    "num_neu=len(tcs2)"
   ]
  },
  {
   "cell_type": "code",
   "execution_count": 35,
   "metadata": {},
   "outputs": [
    {
     "name": "stderr",
     "output_type": "stream",
     "text": [
      "C:\\Users\\David\\Anaconda3\\envs\\python3\\lib\\site-packages\\ipykernel_launcher.py:25: RuntimeWarning: invalid value encountered in double_scalars\n",
      "C:\\Users\\David\\Anaconda3\\envs\\python3\\lib\\site-packages\\ipykernel_launcher.py:24: MatplotlibDeprecationWarning: The find function was deprecated in Matplotlib 2.2 and will be removed in 3.1.\n",
      "C:\\Users\\David\\Anaconda3\\envs\\python3\\lib\\site-packages\\ipykernel_launcher.py:24: MatplotlibDeprecationWarning: The find function was deprecated in Matplotlib 2.2 and will be removed in 3.1.\n",
      "C:\\Users\\David\\Anaconda3\\envs\\python3\\lib\\site-packages\\ipykernel_launcher.py:24: MatplotlibDeprecationWarning: The find function was deprecated in Matplotlib 2.2 and will be removed in 3.1.\n"
     ]
    }
   ],
   "source": [
    "#apply the  formula for each neuron, once we have selected the preferred radius of neuron\n",
    "cos_fit_prf = [get_pref(tcs2[n,ring_sel[rings[n]]])[0] for n in arange(num_neu)]\n",
    "\n",
    "#Redefinition as there are few nans\n",
    "tcs2=tcs2[~isnan(cos_fit_prf)]\n",
    "rings=rings[~isnan(cos_fit_prf)]\n",
    "cos_fit_prf=list(array(cos_fit_prf)[~isnan(cos_fit_prf)]) \n",
    "num_neu=len(cos_fit_prf)\n",
    "\n",
    "#cos_fit_p = floor(array(cos_fit_prf)/(pi/4))\n",
    "#cos_fit_p = ceil(array(cos_fit_prf)/(pi/4))\n",
    "#round instead of floor\n",
    "cos_fit_p = array([int(round(array(cos_fit_prf[i])/(pi/4))) for i in arange(num_neu)]) \n",
    "\n",
    "cos_fits = []\n",
    "for r in range(3):\n",
    "    # for each radius, sel is from 1 to 8 in the first rad, 9to 17 in the second and so on\n",
    "    # with find I get all the indexes where the pref rad is the one that we want, with this index (n), I go to the correct\n",
    "    # line of the tcs matrix. one there, I select all the neurons inside this radius. Now I have 8 frate. To this firing rates\n",
    "    # I apply the function get_pref. I am going to apply this function for all the indexes n. n times the get_pref. Each time over 8 diff values.\n",
    "    #the get ref function gives us two values. We get the second one, which is the population vector of the population\n",
    "    #in each radius, one value por each neuron where the preferred is inside the radius\n",
    "    sel = ring_sel[r]\n",
    "    p= [get_pref(tcs2[n,sel])[1] for n in find(rings==r)]\n",
    "    cos_fits.append(p)"
   ]
  },
  {
   "cell_type": "code",
   "execution_count": 36,
   "metadata": {},
   "outputs": [
    {
     "name": "stderr",
     "output_type": "stream",
     "text": [
      "C:\\Users\\David\\Anaconda3\\envs\\python3\\lib\\site-packages\\ipykernel_launcher.py:3: MatplotlibDeprecationWarning: The amap function was deprecated in Matplotlib 2.2 and will be removed in 3.1. Use numpy.array(list(map(...))) instead.\n",
      "  This is separate from the ipykernel package so we can avoid doing imports until\n",
      "C:\\Users\\David\\Anaconda3\\envs\\python3\\lib\\site-packages\\ipykernel_launcher.py:14: MatplotlibDeprecationWarning: The amap function was deprecated in Matplotlib 2.2 and will be removed in 3.1. Use numpy.array(list(map(...))) instead.\n",
      "  \n",
      "C:\\Users\\David\\Anaconda3\\envs\\python3\\lib\\site-packages\\ipykernel_launcher.py:14: MatplotlibDeprecationWarning: The amap function was deprecated in Matplotlib 2.2 and will be removed in 3.1. Use numpy.array(list(map(...))) instead.\n",
      "  \n",
      "C:\\Users\\David\\Anaconda3\\envs\\python3\\lib\\site-packages\\ipykernel_launcher.py:14: MatplotlibDeprecationWarning: The amap function was deprecated in Matplotlib 2.2 and will be removed in 3.1. Use numpy.array(list(map(...))) instead.\n",
      "  \n",
      "C:\\Users\\David\\Anaconda3\\envs\\python3\\lib\\site-packages\\ipykernel_launcher.py:19: MatplotlibDeprecationWarning: The amap function was deprecated in Matplotlib 2.2 and will be removed in 3.1. Use numpy.array(list(map(...))) instead.\n",
      "C:\\Users\\David\\Anaconda3\\envs\\python3\\lib\\site-packages\\ipykernel_launcher.py:19: MatplotlibDeprecationWarning: The amap function was deprecated in Matplotlib 2.2 and will be removed in 3.1. Use numpy.array(list(map(...))) instead.\n",
      "C:\\Users\\David\\Anaconda3\\envs\\python3\\lib\\site-packages\\ipykernel_launcher.py:19: MatplotlibDeprecationWarning: The amap function was deprecated in Matplotlib 2.2 and will be removed in 3.1. Use numpy.array(list(map(...))) instead.\n"
     ]
    },
    {
     "name": "stdout",
     "output_type": "stream",
     "text": [
      "                            OLS Regression Results                            \n",
      "==============================================================================\n",
      "Dep. Variable:           std_circular   R-squared:                       0.037\n",
      "Model:                            OLS   Adj. R-squared:                  0.031\n",
      "Method:                 Least Squares   F-statistic:                     5.862\n",
      "Date:                Fri, 27 Sep 2019   Prob (F-statistic):             0.0167\n",
      "Time:                        12:49:15   Log-Likelihood:                -118.08\n",
      "No. Observations:                 153   AIC:                             240.2\n",
      "Df Residuals:                     151   BIC:                             246.2\n",
      "Df Model:                           1                                         \n",
      "Covariance Type:            nonrobust                                         \n",
      "================================================================================\n",
      "                   coef    std err          t      P>|t|      [0.025      0.975]\n",
      "--------------------------------------------------------------------------------\n",
      "Intercept        1.7791      0.066     26.945      0.000       1.649       1.910\n",
      "eccentricity     0.1307      0.054      2.421      0.017       0.024       0.237\n",
      "==============================================================================\n",
      "Omnibus:                       19.791   Durbin-Watson:                   1.979\n",
      "Prob(Omnibus):                  0.000   Jarque-Bera (JB):               26.583\n",
      "Skew:                          -0.750   Prob(JB):                     1.69e-06\n",
      "Kurtosis:                       4.386   Cond. No.                         2.81\n",
      "==============================================================================\n",
      "\n",
      "Warnings:\n",
      "[1] Standard Errors assume that the covariance matrix of the errors is correctly specified.\n"
     ]
    },
    {
     "data": {
      "image/png": "[encoded data removed]",
      "text/plain": [
       "<Figure size 432x288 with 2 Axes>"
      ]
     },
     "metadata": {
      "needs_background": "light"
     },
     "output_type": "display_data"
    }
   ],
   "source": [
    "#for each value, I apply this function for every value cos_fits. \n",
    "\n",
    "s=amap(lambda x: sqrt(-2*np.log(x)),cos_fits) #std circular \n",
    "## np.save('std_circ_rad.npy', s) ### add later, but worked fine!\n",
    "\n",
    "Y=concatenate(s)\n",
    "clean_idx = ~isnan(Y)\n",
    "X=concatenate([ones(len(x))*i for i,x in enumerate(cos_fits)])\n",
    "df = pd.DataFrame({\"std_circular\": Y, \"eccentricity\": X})\n",
    "model = smf.ols(formula=\"std_circular ~  eccentricity\", data=df).fit()\n",
    "print(model.summary())\n",
    "\n",
    "subplot(2,1,1)\n",
    "errorbar(range(3),amap(nanmean,cos_fits),amap(nanstd,cos_fits)/sqrt(amap(len,cos_fits)),color=\"black\")\n",
    "xticks([0,1,2])\n",
    "title(\"tuning strength\")\n",
    "\n",
    "subplot(2,1,2)\n",
    "errorbar(range(3),amap(nanmean,s),amap(nanstd,s)/sqrt(amap(len,s)),color=\"red\")\n",
    "xticks([0,1,2])\n",
    "xlabel(\"rings\")\n",
    "title(\"circular standard deviation\")\n",
    "tight_layout()\n",
    "sns.despine()"
   ]
  },
  {
   "cell_type": "code",
   "execution_count": 37,
   "metadata": {},
   "outputs": [
    {
     "name": "stdout",
     "output_type": "stream",
     "text": [
      "0.4507430262783978\n",
      "0.014955636153476351\n",
      "0.07533602212717969\n"
     ]
    },
    {
     "data": {
      "image/png": "[encoded data removed]",
      "text/plain": [
       "<Figure size 432x288 with 1 Axes>"
      ]
     },
     "metadata": {
      "needs_background": "light"
     },
     "output_type": "display_data"
    },
    {
     "data": {
      "image/png": "[encoded data removed]",
      "text/plain": [
       "<Figure size 432x288 with 1 Axes>"
      ]
     },
     "metadata": {
      "needs_background": "light"
     },
     "output_type": "display_data"
    }
   ],
   "source": [
    "import matplotlib.pyplot as plt\n",
    "\n",
    "\n",
    "figure()\n",
    "\n",
    "one = array(cos_fits[0])\n",
    "two = array(cos_fits[1])\n",
    "three = array(cos_fits[2])\n",
    "\n",
    "\n",
    "one = array(s[0])\n",
    "two = array(s[1])\n",
    "three = array(s[2])\n",
    "\n",
    "\n",
    "print(ttest_ind(one[~isnan(one)],two[~isnan(two)])[1])\n",
    "print(ttest_ind(one[~isnan(one)],three[~isnan(three)])[1])\n",
    "print(ttest_ind(two[~isnan(two)],three[~isnan(three)])[1])\n",
    "\n",
    "tc_r = [[] for _ in range(3)]\n",
    "for n,tc in enumerate(zscore(tcs2,1)):\n",
    "#for n,tc in enumerate(tcs2):\n",
    "\tsel = ring_sel[rings[n]]\n",
    "\t#p = prefs[n]\n",
    "#\trolled = roll(tc[sel],-p)   #AC: I changed this\n",
    "\trolled = roll(tc[sel],-(int(cos_fit_p[n])+4))\n",
    "\t# tc_r[rings[n]].append(concatenate([rolled,[rolled[0]]]))\n",
    "\ttc_r[rings[n]].append(rolled)\n",
    "\n",
    "#avg_t_r = amap(lambda x: mean(x,0),tc_r)\n",
    "avg_t_r = [mean(tc_r[0],0),mean(tc_r[2],0)]\n",
    "\n",
    "\n",
    "cis = zeros([3,9,2])\n",
    "mn = zeros([3,9])\n",
    "for c in range(8):\n",
    "    cis[0,c,:]=ci(array(tc_r[0])[:,c], alpha= 0.325)\n",
    "    cis[1,c,:]=ci(array(tc_r[1])[:,c], alpha= 0.325)\n",
    "    cis[2,c,:]=ci(array(tc_r[2])[:,c], alpha= 0.325)\n",
    "    mn[0,c]=mean(array(tc_r[0])[:,c])\n",
    "    mn[1,c]=mean(array(tc_r[1])[:,c])\n",
    "    mn[2,c]=mean(array(tc_r[2])[:,c])\n",
    "    if c==7:\n",
    "        cis[0,8,:]=ci(array(tc_r[0])[:,0], alpha= 0.325)\n",
    "        cis[1,8,:]=ci(array(tc_r[1])[:,0], alpha= 0.325)\n",
    "        cis[2,8,:]=ci(array(tc_r[2])[:,0], alpha= 0.325)\n",
    "        mn[0,8]=mean(array(tc_r[0])[:,0])\n",
    "        mn[1,8]=mean(array(tc_r[1])[:,0])\n",
    "        mn[2,8]=mean(array(tc_r[2])[:,0])\n",
    "        \n",
    " \n",
    "\n",
    "\n",
    "\n",
    "\n",
    "colors=[\"cyan\", \"magenta\"]\n",
    "Lbls=['ring1', 'ring3']\n",
    "\n",
    "########\n",
    "colors=[\"cyan\", \"magenta\"]\n",
    "Lbls=['ring1', 'ring3']\n",
    "for idx, num_row in enumerate([0,2]):\n",
    "    T = \"Real tunning curves\"\n",
    "    plot(mn[num_row,:], color=colors[idx], marker='o', label=Lbls[idx])\n",
    "    title(T)\n",
    "\n",
    "legend()\n",
    "xticks([4], ['Preferred'])\n",
    "show()\n",
    "\n",
    "plt.figure()\n",
    "fill_between(range(9),cis[0][:,0],cis[0][:,1],color=\"cyan\",alpha=0.3)\n",
    "fill_between(range(9),cis[2][:,0],cis[2][:,1],color=\"magenta\",alpha=0.3)\n",
    "\n",
    "plot(range(9),mn[0,:],\"cyan\",label=\"ring 1\")\n",
    "plot(range(9),mn[2,:],\"magenta\",label=\"ring 3\")\n",
    "legend()\n",
    "\n",
    "show(block=False)"
   ]
  },
  {
   "cell_type": "code",
   "execution_count": null,
   "metadata": {},
   "outputs": [],
   "source": []
  },
  {
   "cell_type": "code",
   "execution_count": null,
   "metadata": {},
   "outputs": [],
   "source": []
  }
 ],
 "metadata": {
  "kernelspec": {
   "display_name": "Python 3",
   "language": "python",
   "name": "python3"
  },
  "language_info": {
   "codemirror_mode": {
    "name": "ipython",
    "version": 3
   },
   "file_extension": ".py",
   "mimetype": "text/x-python",
   "name": "python",
   "nbconvert_exporter": "python",
   "pygments_lexer": "ipython3",
   "version": "3.5.6"
  }
 },
 "nbformat": 4,
 "nbformat_minor": 2
}
